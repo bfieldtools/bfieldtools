{
  "cells": [
    {
      "cell_type": "code",
      "execution_count": null,
      "metadata": {
        "collapsed": false
      },
      "outputs": [],
      "source": [
        "%matplotlib inline"
      ]
    },
    {
      "cell_type": "markdown",
      "metadata": {},
      "source": [
        "\nSpherical harmonics test, remove?\n=================================\nShould this be left as an example?\n"
      ]
    },
    {
      "cell_type": "code",
      "execution_count": null,
      "metadata": {
        "collapsed": false
      },
      "outputs": [],
      "source": [
        "#\n# import sys\n# path = '/m/home/home8/80/makinea1/unix/pythonstuff/bfieldtools'\n# if path not in sys.path:\n#    sys.path.insert(0, path)\n\n\nimport numpy as np\nimport matplotlib.pyplot as plt\nfrom mayavi import mlab\n\nfrom bfieldtools.sphtools import basis_fields, ylm, derxlm, sinxlm\n\nfrom trimesh.creation import icosphere\n\nmesh = icosphere(4, 1)\nprint(\"Positions of evaluation points\")\nprint(mesh.vertices)\n\ntheta = np.linspace(1e-6, np.pi * 0.999)\nsp = sinxlm(1, -1, theta)\nplt.plot(sp)\n\naa, bb = basis_fields(mesh.vertices, 2)\n\nfor ii in range(aa.shape[1]):\n    print(\"nans in sph component \", ii, \": \", np.isnan(aa[:, ii, :]).sum())\n\naa[np.isnan(aa)] = 100\n\n# Plot the first component\nmlab.triangular_mesh(\n    *mesh.vertices.T,\n    mesh.faces,\n    scalars=np.linalg.norm(aa[:, 0, :], axis=0),\n    colormap=\"RdBu\"\n)"
      ]
    }
  ],
  "metadata": {
    "kernelspec": {
      "display_name": "Python 3",
      "language": "python",
      "name": "python3"
    },
    "language_info": {
      "codemirror_mode": {
        "name": "ipython",
        "version": 3
      },
      "file_extension": ".py",
      "mimetype": "text/x-python",
      "name": "python",
      "nbconvert_exporter": "python",
      "pygments_lexer": "ipython3",
      "version": "3.7.3"
    }
  },
  "nbformat": 4,
  "nbformat_minor": 0
}