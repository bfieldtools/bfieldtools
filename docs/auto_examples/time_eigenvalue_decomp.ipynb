{
  "cells": [
    {
      "cell_type": "code",
      "execution_count": null,
      "metadata": {
        "collapsed": false
      },
      "outputs": [],
      "source": [
        "%matplotlib inline"
      ]
    },
    {
      "cell_type": "markdown",
      "metadata": {},
      "source": [
        "\nComputation time for shiftinvert eigenvalue decomp, remove?\n===========================================================\nTo validation or removed? New benchmarking folder?\n\n\n\n"
      ]
    },
    {
      "cell_type": "code",
      "execution_count": null,
      "metadata": {
        "collapsed": false
      },
      "outputs": [],
      "source": [
        "#import sys\n#path = '/m/home/home8/80/makinea1/unix/pythonstuff/bfieldtools'\n#if path not in sys.path:\n#    sys.path.insert(0, path)\n\nimport numpy as np\nfrom bfieldtools.suhtools import SuhBasis\nfrom mayavi import mlab\nimport trimesh\nimport matplotlib.pyplot as plt\nfrom time import clock\nfrom bfieldtools.utils import find_mesh_boundaries\n\n\n# Create basis for a sphere (basis.eigenvals shere the same structure\n# as spherical harmonic eigenvalues)\n#mesh = icosphere(4)\n\nimport pkg_resources\n#Load simple plane mesh that is centered on the origin\nfile_obj = pkg_resources.resource_filename('bfieldtools',\n                'example_meshes/10x10_plane_hires.obj')\nmesh = trimesh.load(file_obj, process=True)\nt = np.eye(4)\nt[1:3,1:3] = np.array([[0,1],[-1,0]])\nmesh.apply_transform(t)\n\nboundary, inner_verts = find_mesh_boundaries(mesh)\n\nclosed=False\nbasis = SuhBasis(mesh, 1, inner_vertices=inner_verts)\n\nbasis.Nc = 100\nt0=clock()\nbasis.calculate_basis(shiftinvert=True)\nprint('Time with shift invert:', clock()-t0)\nmlab.figure()\nbasis.plot(4)\ne1= basis.eigenvals\nb1=basis.basis\nt0=clock()\nbasis.calculate_basis(shiftinvert=False)\nprint('Time without shift invert:', clock()-t0)\nb2=basis.basis\nmlab.figure()\nbasis.plot(23)\ne2 = basis.eigenvals\n\nplt.plot(e1)\nplt.plot(e2)"
      ]
    }
  ],
  "metadata": {
    "kernelspec": {
      "display_name": "Python 3",
      "language": "python",
      "name": "python3"
    },
    "language_info": {
      "codemirror_mode": {
        "name": "ipython",
        "version": 3
      },
      "file_extension": ".py",
      "mimetype": "text/x-python",
      "name": "python",
      "nbconvert_exporter": "python",
      "pygments_lexer": "ipython3",
      "version": "3.6.7"
    }
  },
  "nbformat": 4,
  "nbformat_minor": 0
}