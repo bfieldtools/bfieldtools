{
  "cells": [
    {
      "cell_type": "code",
      "execution_count": null,
      "metadata": {
        "collapsed": false
      },
      "outputs": [],
      "source": [
        "%matplotlib inline"
      ]
    },
    {
      "cell_type": "markdown",
      "metadata": {},
      "source": [
        "\nLogo generation\n=========================\n\nThis script generates the bfieldtools logo\n\n"
      ]
    },
    {
      "cell_type": "code",
      "execution_count": null,
      "metadata": {
        "collapsed": false
      },
      "outputs": [],
      "source": [
        "#\n#import numpy as np\n#import matplotlib.pyplot as plt\n#import sys\n#path = '/m/home/home8/80/makinea1/unix/pythonstuff/bfieldtools'\n#if path not in sys.path:\n#    sys.path.insert(0,path)\n#\n#from bfieldtools.integrals import triangle_potential_dipole_linear\n#from bfieldtools.integrals import omega\n#from bfieldtools.utils import tri_normals_and_areas\n#from bfieldtools.mesh_calculus import gradient\n#from bfieldtools.mesh_magnetics import scalar_potential_coupling as compute_U\n#from bfieldtools.mesh_magnetics import vector_potential_coupling as compute_A\n#from bfieldtools.mesh_magnetics import magnetic_field_coupling as compute_C\nfrom bfieldtools.mesh_magnetics import magnetic_field_coupling_analytic as compute_C_analytic\n\nimport trimesh\nfrom mayavi import mlab\nimport numpy as np"
      ]
    },
    {
      "cell_type": "markdown",
      "metadata": {},
      "source": [
        "Test potential shape slightly above the surface\n\n"
      ]
    },
    {
      "cell_type": "code",
      "execution_count": null,
      "metadata": {
        "collapsed": false
      },
      "outputs": [],
      "source": [
        "scalars = np.zeros(7)\nscalars[0] = 1\n\ndef plot_element():\n    x = np.sin(np.pi/6)\n    y = np.cos(np.pi/6)\n    points = np.array([[0, 0, 0],\n                       [1, 0, 0],\n                       [x, y, 0],\n                       [-x, y, 0],\n                       [-1, 0, 0],\n                       [-x, -y, 0],\n                       [x, -y, 0]])\n\n    tris = np.array([[0,1,2],[0,2,3],[0,3,4],[0,4,5],[0,5,6],[0,6,1]])\n    mesh = trimesh.Trimesh(points, tris)\n    # Stream function\n    mlab.triangular_mesh(*points.T, tris, scalars=scalars, colormap='Blues')\n    # Stream lines\n    s2 = mlab.triangular_mesh(*points.T, tris, scalars=scalars, colormap='Blues')\n    s2.enable_contours = True\n    s2.actor.mapper.scalar_range = np.array([0., 1.])\n    s2.actor.mapper.scalar_visibility = False\n    s2.actor.property.render_lines_as_tubes = True\n    s2.actor.property.line_width = 3.0\n    s2.contour.number_of_contours = 6\n    s2.actor.property.color = (1.0, 0.0, 0.0)\n\n    return s2, mesh\n\ns, mesh = plot_element()\n\n#%%\n#mlab.figure(bgcolor=(1,1,1))\n#\n#s, mesh = plot_element()\n#points = np.array([[0.01, 1, 1],\n#                   [0.01, 1, -1],\n#                   [0.01, -1, -1],\n#                   [0.01, -1, 1]])*2\n#tris=np.array([[0,1,2], [2,3,0]])\n#mesh2 = trimesh.Trimesh(points, tris)\n#for ii in range(7):\n#    mesh2 =mesh2.subdivide()\n#\n#U = compute_U(mesh, mesh2.vertices) @ scalars\n#\n#s3= mlab.triangular_mesh(*mesh2.vertices.T, mesh2.faces, scalars=U, colormap='bwr')\n#s3.enable_contours = True\n#s3.contour.number_of_contours = 31\n#s3.contour.filled_contours = True\n#s3.contour.minimum_contour = -5.38e-07\n#s3.contour.maximum_contour = 5.38e-07\n##s3.actor.property.render_lines_as_tubes = True\n#s3.actor.property.line_width = 3.0\n\n#%%\n#mlab.figure(bgcolor=(1,1,1))\n\n#s, mesh = plot_element()\n#points = np.array([[1, 1, -0.01],\n#                   [1, -1, -0.01],\n#                   [-1, -1, -0.01],\n#                   [-1, 1, -0.01]])*2\n#points[:,2] += 0.2\n#tris=np.array([[0,1,2], [2,3,0]])\n#mesh3 = trimesh.Trimesh(points, tris)\n#for ii in range(3):\n#    mesh3 =mesh3.subdivide()\n#A = compute_A(mesh, mesh3.vertices) @ scalars\n#vectors = mlab.quiver3d(*mesh3.vertices.T, *A, mode='arrow', color=(0,0,1))\n#vectors.glyph.glyph_source.glyph_position = 'center'\n#%%\n#mlab.figure(bgcolor=(1,1,1))\n#s, mesh = plot_element()\n#points = np.array([[0.001, 1, 1],\n#                   [0.001, 1, -1],\n#                   [0.001, -1, -1],\n#                   [0.001, -1, 1]])*2 + 0.001\np1 = np.array([-0.1, -1, 0])*2 + 0.0001\np2 = np.array([0.1, 1, 1])*2 + 0.0001\nX,Y,Z = np.meshgrid(*np.linspace(p1, p2, 50).T, indexing='ij')\nR=np.array([X.flatten(), Y.flatten(), Z.flatten()])\n#B0 = compute_C(mesh, R.T) @ scalars\nB1 = compute_C_analytic(mesh, R.T) @ scalars\nB1[0] = 0\nvecfield = mlab.pipeline.vector_field(X,Y,Z, *B1.T.reshape(3,50,50,50))\nstreamline = mlab.pipeline.streamline(vecfield)\nstreamline.seed.widget = streamline.seed.widget_list[1]\n# streamline.seed.widget = <tvtk.tvtk_classes.line_widget.LineWidget object at 0x7f96be04f678>\nstreamline.stream_tracer.start_position = np.array([0., 0., 0.])\nstreamline.stream_tracer.integration_direction = 'both'\nstreamline.seed.widget.resolution = 15\nstreamline.seed.widget.point1 = np.array([ 0.01, -0.6,  0.055])\nstreamline.seed.widget.point2 = np.array([0.01, 0.6, 0.05523521])\nstreamline.actor.property.render_lines_as_tubes = True\nstreamline.actor.property.line_width = 3.0\nstreamline.actor.property.color = (0,0,0)\nstreamline.update_streamlines = 0\n\n# The other half\np1 = np.array([-0.1, -1, -1])*2 - 0.0001\np2 = np.array([0.1, 1, 0])*2 - 0.0001\nX,Y,Z = np.meshgrid(*np.linspace(p1, p2, 50).T, indexing='ij')\nR=np.array([X.flatten(), Y.flatten(), Z.flatten()])\n#B0 = compute_C(mesh, R.T) @ scalars\nB1 = compute_C_analytic(mesh, R.T) @ scalars\nB1[0] = 0\nvecfield = mlab.pipeline.vector_field(X,Y,Z, *B1.T.reshape(3,50,50,50))\nstreamline = mlab.pipeline.streamline(vecfield)\nstreamline.seed.widget = streamline.seed.widget_list[1]\n# streamline.seed.widget = <tvtk.tvtk_classes.line_widget.LineWidget object at 0x7f96be04f678>\nstreamline.stream_tracer.start_position = np.array([0., 0., 0.])\nstreamline.stream_tracer.integration_direction = 'both'\nstreamline.seed.widget.resolution = 15\nstreamline.seed.widget.point1 = np.array([ 0.01, -0.6,  -0.055])\nstreamline.seed.widget.point2 = np.array([0.01, 0.6, -0.05523521])\nstreamline.actor.property.render_lines_as_tubes = True\nstreamline.actor.property.line_width = 3.0\nstreamline.actor.property.color = (0,0,0)\nstreamline.update_streamlines = 0\n\n\n#vectors = mlab.quiver3d(*R, *B1.T, mode='arrow', color=(1,0,1))\n#vectors.glyph.glyph_source.glyph_position = 'center'\n#vectors.actor.property.render_lines_as_tubes = True\n#vectors.actor.property.line_width = 3.0"
      ]
    }
  ],
  "metadata": {
    "kernelspec": {
      "display_name": "Python 3",
      "language": "python",
      "name": "python3"
    },
    "language_info": {
      "codemirror_mode": {
        "name": "ipython",
        "version": 3
      },
      "file_extension": ".py",
      "mimetype": "text/x-python",
      "name": "python",
      "nbconvert_exporter": "python",
      "pygments_lexer": "ipython3",
      "version": "3.6.7"
    }
  },
  "nbformat": 4,
  "nbformat_minor": 0
}