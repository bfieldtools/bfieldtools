{
  "cells": [
    {
      "cell_type": "code",
      "execution_count": null,
      "metadata": {
        "collapsed": false
      },
      "outputs": [],
      "source": [
        "%matplotlib inline"
      ]
    },
    {
      "cell_type": "markdown",
      "metadata": {},
      "source": [
        "\nThermal noise computation\n=========================\n\nThree different examples:\n   unit_sphere: DC Bnoise of a spherical shell at origin and comparison to analytical formula\n   unit_disc: DC Bnoise of a unit disc at z-axis and comparison to analytical formula\n   AC: AC Bnoise of a unit disc at one position\n\n\n"
      ]
    },
    {
      "cell_type": "code",
      "execution_count": null,
      "metadata": {
        "collapsed": false
      },
      "outputs": [],
      "source": [
        "import numpy as np\nimport matplotlib.pyplot as plt\nimport trimesh\n\nfrom bfieldtools.thermal_noise import compute_current_modes, visualize_current_modes, compute_dc_Bnoise, compute_ac_Bnoise\n\nimport pkg_resources\n\n\n\n#Fix the simulation parameters\nd = 100e-6\nsigma = 3.7e7\nT = 300\nkB = 1.38064852e-23\nmu0 = 4*np.pi*1e-7"
      ]
    },
    {
      "cell_type": "markdown",
      "metadata": {},
      "source": [
        "Unit sphere\n------------\n\n"
      ]
    },
    {
      "cell_type": "code",
      "execution_count": null,
      "metadata": {
        "collapsed": false
      },
      "outputs": [],
      "source": [
        "Np = 10\nR = np.linspace(0.1, 1, Np)\nfp = np.zeros((1,3))\n\nB = np.zeros((Np,3))\nfor i in range(Np):\n    mesh = trimesh.load(pkg_resources.resource_filename('bfieldtools', 'example_meshes/unit_sphere.stl'))\n    mesh.apply_scale(R[i])\n    vl = compute_current_modes(mesh)\n\n    vl[:,0] = np.zeros(vl[:,0].shape) # fix DC-component\n\n\n    Btemp = compute_dc_Bnoise(mesh,vl,fp,sigma,d,T)\n    B[i] = Btemp\n\nvisualize_current_modes(mesh,vl, 40, 5)\n\nBan = mu0*np.sqrt(2*sigma*d*kB*T/(3*np.pi*(R)**2))\n\nplt.figure()\nplt.plot(R, Ban,label='Analytic')\nplt.plot(R, B[:,2],'x',label='Numerical')\nplt.legend()\nplt.xlabel('Sphere radius')\nplt.ylabel('DC noise Bz (T/rHz)')\n\nRE = np.abs((B[:,2]-Ban))/np.abs(Ban)*100\nplt.figure()\nplt.plot(R, np.abs((B[:,2]-Ban))/np.abs(Ban)*100)\nplt.xlabel('Sphere radius')\nplt.ylabel('Relative error (%)')"
      ]
    },
    {
      "cell_type": "markdown",
      "metadata": {},
      "source": [
        "Unit disc, DC noise\n---------------------\n\n"
      ]
    },
    {
      "cell_type": "code",
      "execution_count": null,
      "metadata": {
        "collapsed": false
      },
      "outputs": [],
      "source": [
        "mesh = trimesh.load(pkg_resources.resource_filename('bfieldtools', 'example_meshes/unit_disc.stl'))\nmesh.vertices, mesh.faces = trimesh.remesh.subdivide(mesh.vertices, mesh.faces)\nmesh.vertices, mesh.faces = trimesh.remesh.subdivide(mesh.vertices, mesh.faces)\n\nvl = compute_current_modes(mesh)\n\n\nvisualize_current_modes(mesh,vl, 40, 5)\n\nNp = 30\n\nz = np.linspace(0.1, 1, Np)\nfp = np.array((np.zeros(z.shape), np.zeros(z.shape), z)).T\n\nB = compute_dc_Bnoise(mesh,vl,fp,sigma,d,T)\n\nr = 1\nBan = mu0*np.sqrt(sigma*d*kB*T/(8*np.pi*z**2))*(1/(1+z**2/r**2))\n\nplt.figure()\nplt.semilogy(z, Ban,label='Analytic')\nplt.semilogy(z, B[:,2],'x',label='Numerical')\nplt.legend()\nplt.xlabel('Distance d/R')\nplt.ylabel('DC noise Bz (T/rHz)')\n\n\nplt.figure()\nplt.plot(z, np.abs((B[:,2]-Ban))/np.abs(Ban)*100)\nplt.xlabel('Distance d/R')\nplt.ylabel('Relative error (%)')"
      ]
    },
    {
      "cell_type": "markdown",
      "metadata": {},
      "source": [
        "Unit disc, AC mode\n------------------\n\n"
      ]
    },
    {
      "cell_type": "code",
      "execution_count": null,
      "metadata": {
        "collapsed": false
      },
      "outputs": [],
      "source": [
        "mesh = trimesh.load(pkg_resources.resource_filename('bfieldtools', 'example_meshes/unit_disc.stl'))\nmesh.vertices, mesh.faces = trimesh.remesh.subdivide(mesh.vertices, mesh.faces)\nmesh.vertices, mesh.faces = trimesh.remesh.subdivide(mesh.vertices, mesh.faces)\n\nvl = compute_current_modes(mesh)\n\nfp = np.zeros((1,3))\nfp[0,2] = 0.1\n\nNfreqs = 30\nfreqs = np.logspace(0, 3, Nfreqs) #30 frequencies from 1 to 1000 Hz\n\nBf = compute_ac_Bnoise(mesh,vl,fp,freqs,sigma,d,T)\n\nr = 1\nBan = mu0*np.sqrt(sigma*d*kB*T/(8*np.pi*fp[0,2]**2))*(1/(1+fp[0,2]**2/r**2))\n\nplt.figure()\nplt.loglog(freqs,Bf[:,0,2],label = 'Numerical')\nplt.loglog(freqs, Ban*np.ones(freqs.shape), '--',label = 'Analytical, DC')\nplt.xlabel('Frequency (Hz)')\nplt.ylabel('Field noise (T/rHz)')\nplt.legend()\nplt.grid(which='both')\nplt.tight_layout()"
      ]
    }
  ],
  "metadata": {
    "kernelspec": {
      "display_name": "Python 3",
      "language": "python",
      "name": "python3"
    },
    "language_info": {
      "codemirror_mode": {
        "name": "ipython",
        "version": 3
      },
      "file_extension": ".py",
      "mimetype": "text/x-python",
      "name": "python",
      "nbconvert_exporter": "python",
      "pygments_lexer": "ipython3",
      "version": "3.6.7"
    }
  },
  "nbformat": 4,
  "nbformat_minor": 0
}