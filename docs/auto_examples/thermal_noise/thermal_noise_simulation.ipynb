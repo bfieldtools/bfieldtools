{
  "cells": [
    {
      "cell_type": "code",
      "execution_count": null,
      "metadata": {
        "collapsed": false
      },
      "outputs": [],
      "source": [
        "%matplotlib inline"
      ]
    },
    {
      "cell_type": "markdown",
      "metadata": {},
      "source": [
        "\nThermal noise computation\n==========================\n\nThree different examples:\n   unit_sphere: DC Bnoise of a spherical shell at origin and comparison to analytical formula\n   unit_disc: DC Bnoise of a unit disc at z-axis and comparison to analytical formula\n   AC: AC Bnoise of a unit disc at one position\n"
      ]
    },
    {
      "cell_type": "code",
      "execution_count": null,
      "metadata": {
        "collapsed": false
      },
      "outputs": [],
      "source": [
        "import numpy as np\nimport matplotlib.pyplot as plt\nimport trimesh\nfrom mayavi import mlab\n\nfrom bfieldtools.mesh_properties import self_inductance_matrix, resistance_matrix\nfrom bfieldtools.thermal_noise import (\n    compute_current_modes_ind_res,\n    noise_covar,\n    noise_var,\n    visualize_current_modes,\n)\nfrom bfieldtools.mesh_magnetics import magnetic_field_coupling\n\nimport pkg_resources\n\n\nfont = {\"family\": \"normal\", \"weight\": \"normal\", \"size\": 16}\nplt.rc(\"font\", **font)\n\n# Fix the simulation parameters\nd = 100e-6\nsigma = 3.7e7\nT = 300\nkB = 1.38064852e-23\nmu0 = 4 * np.pi * 1e-7\nfreqs = np.array((0,))\n\n\nNchunks = 8\nquad_degree = 2"
      ]
    },
    {
      "cell_type": "markdown",
      "metadata": {},
      "source": [
        "Unit sphere\n------------\n\n"
      ]
    },
    {
      "cell_type": "code",
      "execution_count": null,
      "metadata": {
        "collapsed": false
      },
      "outputs": [],
      "source": [
        "Np = 10\nradius = np.linspace(0.1, 1, Np)\nfp = np.zeros((1, 3))\n\nB = np.zeros((Np, 3))\nfor i in range(Np):\n    mesh = trimesh.load(\n        pkg_resources.resource_filename(\"bfieldtools\", \"example_meshes/unit_sphere.stl\")\n    )\n    mesh.apply_scale(radius[i])\n\n    B_coupling = magnetic_field_coupling(mesh, fp, analytic=True)\n\n    S = np.ones(mesh.triangles_center.shape[0]) * sigma\n    sheet_resistance = 1 / (d * S)\n\n    # Compute the resistance and inductance matrices\n    R = resistance_matrix(mesh, sheet_resistance=sheet_resistance)\n    M = self_inductance_matrix(mesh, Nchunks=Nchunks, quad_degree=quad_degree)\n\n    vl = compute_current_modes_ind_res(mesh, M, R, freqs, T, closed=True)\n\n    #    scene = mlab.figure(None, bgcolor=(1, 1, 1), fgcolor=(0.5, 0.5, 0.5),\n    #               size=(800, 800))\n    #    visualize_current_modes(mesh,vl[:,:,0], 8, 1)\n\n    #    vl[:,0] = np.zeros(vl[:,0].shape) # fix DC-component\n\n    Btemp = noise_var(mesh, B_coupling, vl)\n    #    Btemp = compute_dc_Bnoise(mesh,vl,fp,sigma,d,T)\n    B[i] = Btemp[:, :, 0]\n\nscene = mlab.figure(None, bgcolor=(1, 1, 1), fgcolor=(0.5, 0.5, 0.5), size=(800, 800))\ns = mlab.triangular_mesh(*mesh.vertices.T, mesh.faces)\nscene.scene.z_minus_view()\nsurface = scene.children[0].children[0].children[0].children[0]\nsurface.actor.property.representation = \"wireframe\"\nsurface.actor.mapper.scalar_visibility = False\nscene.scene.camera.position = [0.0, 0.0, -5.530686305704514]\nscene.scene.camera.focal_point = [0.0, 0.0, 0.0]\nscene.scene.camera.view_angle = 30.0\nscene.scene.camera.view_up = [0.0, 1.0, 0.0]\nscene.scene.camera.clipping_range = [3.485379442647469, 8.118646600290083]\nscene.scene.camera.compute_view_plane_normal()\nscene.scene.render()\nscene.scene.camera.position = [0.0, 0.0, -4.570815128681416]\nscene.scene.camera.focal_point = [0.0, 0.0, 0.0]\nscene.scene.camera.view_angle = 30.0\nscene.scene.camera.view_up = [0.0, 1.0, 0.0]\nscene.scene.camera.clipping_range = [2.535106977394602, 7.1443773556116374]\nscene.scene.camera.compute_view_plane_normal()\nscene.scene.render()\nmlab.savefig(\n    \"/Users/joonas/Documents/Manuscripts/ThermalNoise/figures/validation/sphere.png\",\n    size=(800, 800),\n)\n\nBan = mu0 * np.sqrt(2 * sigma * d * kB * T / (3 * np.pi * (radius) ** 2))\n\nplt.figure(figsize=(5, 5))\nplt.semilogy(radius, Ban * 1e15, linewidth=2, label=\"Analytic\")\nplt.semilogy(\n    radius,\n    np.sqrt(B[:, 2]) * 1e15,\n    \"x\",\n    markersize=10,\n    markeredgewidth=2,\n    label=\"Numerical\",\n)\nplt.grid()\nplt.gca().spines[\"right\"].set_visible(False)\nplt.gca().spines[\"top\"].set_visible(False)\nplt.legend(frameon=False)\nplt.xlabel(\"Sphere radius\")\nplt.ylabel(r\"$B_z$ noise at DC (fT/rHz)\")\nplt.tight_layout()\n\n\nRE = np.abs((np.sqrt(B[:, 2]) - Ban)) / np.abs(Ban) * 100\nplt.figure()\nplt.plot(radius, RE)\nplt.xlabel(\"Sphere radius\")\nplt.ylabel(\"Relative error (%)\")"
      ]
    },
    {
      "cell_type": "markdown",
      "metadata": {},
      "source": [
        "Unit disc, DC noise\n---------------------\n\n"
      ]
    },
    {
      "cell_type": "code",
      "execution_count": null,
      "metadata": {
        "collapsed": false
      },
      "outputs": [],
      "source": [
        "mesh = trimesh.load(\n    pkg_resources.resource_filename(\"bfieldtools\", \"example_meshes/unit_disc.stl\")\n)\nmesh.vertices, mesh.faces = trimesh.remesh.subdivide(mesh.vertices, mesh.faces)\nmesh.vertices, mesh.faces = trimesh.remesh.subdivide(mesh.vertices, mesh.faces)\n\nvl = compute_current_modes(mesh)\n\nscene = mlab.figure(None, bgcolor=(1, 1, 1), fgcolor=(0.5, 0.5, 0.5), size=(800, 800))\n\nvisualize_current_modes(mesh, vl, 42, 5, contours=False)\n\nNp = 30\n\nz = np.linspace(0.1, 1, Np)\nfp = np.array((np.zeros(z.shape), np.zeros(z.shape), z)).T\n\nB = compute_dc_Bnoise(mesh, vl, fp, sigma, d, T)\n\nr = 1\nBan = (\n    mu0\n    * np.sqrt(sigma * d * kB * T / (8 * np.pi * z ** 2))\n    * (1 / (1 + z ** 2 / r ** 2))\n)\n\nplt.figure()\nplt.semilogy(z, Ban, label=\"Analytic\")\nplt.semilogy(z, B[:, 2], \"x\", label=\"Numerical\")\nplt.legend()\nplt.xlabel(\"Distance d/R\")\nplt.ylabel(\"DC noise Bz (T/rHz)\")\nplt.tight_layout()\n\nplt.figure()\nplt.plot(z, np.abs((B[:, 2] - Ban)) / np.abs(Ban) * 100)\nplt.xlabel(\"Distance d/R\")\nplt.ylabel(\"Relative error (%)\")"
      ]
    },
    {
      "cell_type": "markdown",
      "metadata": {},
      "source": [
        "Closed cylinder, DC noise\n--------------------------\n\n"
      ]
    },
    {
      "cell_type": "code",
      "execution_count": null,
      "metadata": {
        "collapsed": false
      },
      "outputs": [],
      "source": [
        "mesh = trimesh.load(\n    pkg_resources.resource_filename(\"bfieldtools\", \"example_meshes/closed_cylinder.stl\")\n)\nmesh.vertices, mesh.faces = trimesh.remesh.subdivide(mesh.vertices, mesh.faces)\n\n\nS = np.ones(mesh.triangles_center.shape[0]) * sigma\nsheet_resistance = 1 / (d * S)\n\n# Compute the resistance and inductance matrices\nR = resistance_matrix(mesh, sheet_resistance=sheet_resistance)\nM = self_inductance_matrix(mesh, Nchunks=Nchunks, quad_degree=quad_degree)\n\nvl = compute_current_modes_ind_res(mesh, M, R, freqs, T, closed=True)\n\nscene = mlab.figure(None, bgcolor=(1, 1, 1), fgcolor=(0.5, 0.5, 0.5), size=(800, 800))\n\nvisualize_current_modes(mesh, vl[:, :, 0], 8, 1)\n\n\nscene = mlab.figure(None, bgcolor=(1, 1, 1), fgcolor=(0.5, 0.5, 0.5), size=(800, 800))\ns = mlab.triangular_mesh(*mesh.vertices.T, mesh.faces)\nscene.scene.z_minus_view()\nsurface = scene.children[0].children[0].children[0].children[0]\nsurface.actor.property.representation = \"wireframe\"\nsurface.actor.mapper.scalar_visibility = False\nscene.scene.isometric_view()\n# scene.scene.camera.position = [2.2578932293957665, 2.2578932293957665, 2.2578932293957665]\n# scene.scene.camera.focal_point = [0.0, 0.0, 0.0]\n# scene.scene.camera.view_angle = 30.0\n# scene.scene.camera.view_up = [0.0, 0.0, 1.0]\n# scene.scene.camera.clipping_range = [1.5738238620907348, 6.861972426889951]\n# scene.scene.camera.compute_view_plane_normal()\nscene.scene.render()\nmlab.savefig(\n    \"/Users/joonas/Documents/Manuscripts/ThermalNoise/figures/validation/cylinder.png\",\n    size=(800, 800),\n)\n\nNp = 30\n\nx = np.linspace(-0.95, 0.95, Np)\nfp = np.array((x, np.zeros(x.shape), np.zeros(x.shape))).T\n\nB_coupling = magnetic_field_coupling(mesh, fp, analytic=True)\nB = noise_var(mesh, B_coupling, vl)\n\n# B = compute_dc_Bnoise(mesh,vl,fp,sigma,d,T)\n\na = 0.5\nL = 2\nrat = L / (2 * a)\nGfact = (\n    1\n    / (8 * np.pi)\n    * (\n        (3 * rat ** 5 + 5 * rat ** 3 + 2) / (rat ** 2 * (1 + rat ** 2) ** 2)\n        + 3 * np.arctan(rat)\n    )\n)\nBan = np.sqrt(Gfact) * mu0 * np.sqrt(kB * T * sigma * d) / a\n\nplt.figure(figsize=(5, 5))\nplt.plot(x, Ban * np.ones(x.shape) * 1e15, label=\"Analytic\", linewidth=2)\nplt.plot(\n    x,\n    np.sqrt(B[:, 0]) * 1e15,\n    \"x\",\n    label=\"Numerical\",\n    markersize=10,\n    markeredgewidth=2,\n)\nplt.grid()\nplt.gca().spines[\"right\"].set_visible(False)\nplt.gca().spines[\"top\"].set_visible(False)\nplt.legend(frameon=False)\nplt.xlabel(\"Distance along long axis\")\nplt.ylabel(\"DC noise along axis (fT/rHz)\")\nplt.tight_layout()\n\nplt.figure()\nplt.semilogy(x, np.sqrt(B[:, 0]), label=\"x\")\nplt.semilogy(x, np.sqrt(B[:, 1]), label=\"y\")\nplt.semilogy(x, np.sqrt(B[:, 2]), \"--\", label=\"z\")\nplt.legend()\nplt.xlabel(\"Distance along long axis x\")\nplt.ylabel(\"DC noise (T/rHz)\")"
      ]
    },
    {
      "cell_type": "markdown",
      "metadata": {},
      "source": [
        "Unit disc, AC mode\n------------------\n\n"
      ]
    },
    {
      "cell_type": "code",
      "execution_count": null,
      "metadata": {
        "collapsed": false
      },
      "outputs": [],
      "source": [
        "mesh = trimesh.load(\n    pkg_resources.resource_filename(\n        \"bfieldtools\", \"example_meshes/unitdisc_extremelyfine.stl\"\n    )\n)\n\n\n# Nfreqs = 100\n# freqs = np.logspace(0, 3, Nfreqs) #30 frequencies from 1 to 1000 Hz\n# inds = np.where(freqs < 600)\n# freqs = freqs[inds]\n# Nfreqs = freqs.shape[0]\n\nNfreqs = 70\nfreqs = np.linspace(0, 1200, Nfreqs)\n\nS = np.ones(mesh.triangles_center.shape[0]) * sigma\nsheet_resistance = 1 / (d * S)\n\n# Compute the resistance and inductance matrices\nR = resistance_matrix(mesh, sheet_resistance=sheet_resistance)\nM = self_inductance_matrix(mesh, Nchunks=Nchunks, quad_degree=quad_degree)\n\nvl = compute_current_modes_ind_res(mesh, M, R, freqs, T, closed=False)\n\n#\n# fp = np.zeros((1,3))\n# fp[0,2] = 0.1\n\nNp = 20\nz = np.linspace(0.05, 0.2, Np)\nfp = np.array((np.zeros(z.shape), np.zeros(z.shape), z)).T\n\nB_coupling = magnetic_field_coupling(mesh, fp, analytic=True)\n\nBf = np.sqrt(noise_var(mesh, B_coupling, vl))\n\n# r = 1\n# Ban = mu0*np.sqrt(sigma*d*kB*T/(8*np.pi*fp[0,2]**2))*(1/(1+fp[0,2]**2/r**2))\n\nplt.figure(figsize=(5, 5))\nplt.loglog(freqs, Bf[:, 2, :].T * 1e15, linewidth=2)\nplt.grid()\nplt.ylim(1, 20)\nplt.gca().spines[\"right\"].set_visible(False)\nplt.gca().spines[\"top\"].set_visible(False)\nplt.legend(frameon=False)\nplt.xlabel(\"Frequency (Hz)\")\nplt.ylabel(r\"$B_z$ noise (fT/rHz)\")\nplt.tight_layout()\n\ncutf = np.zeros(Np)\nfor i in range(Np):\n    idx = np.max(np.where(Bf[i, 2, :] >= 1 / np.sqrt(2) * Bf[i, 2, 0]))\n    cutf[i] = freqs[idx]\n\ncutf_an = 1 / (4 * mu0 * sigma * d * z)\n\nplt.figure(figsize=(5, 5))\nplt.loglog(z, cutf_an, linewidth=2, label=\"Infinite plane\")\nplt.loglog(z, cutf, \"x\", markersize=10, markeredgewidth=2, label=\"Disc\")\nplt.grid()\nplt.gca().spines[\"right\"].set_visible(False)\nplt.gca().spines[\"top\"].set_visible(False)\nplt.legend(frameon=False)\nplt.xlabel(\"Distance (z/R)\")\nplt.ylabel(\"3-dB cutoff frequency (Hz)\")\nplt.tight_layout()"
      ]
    }
  ],
  "metadata": {
    "kernelspec": {
      "display_name": "Python 3",
      "language": "python",
      "name": "python3"
    },
    "language_info": {
      "codemirror_mode": {
        "name": "ipython",
        "version": 3
      },
      "file_extension": ".py",
      "mimetype": "text/x-python",
      "name": "python",
      "nbconvert_exporter": "python",
      "pygments_lexer": "ipython3",
      "version": "3.7.3"
    }
  },
  "nbformat": 4,
  "nbformat_minor": 0
}