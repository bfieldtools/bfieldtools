{
  "cells": [
    {
      "cell_type": "code",
      "execution_count": null,
      "metadata": {
        "collapsed": false
      },
      "outputs": [],
      "source": [
        "%matplotlib inline"
      ]
    },
    {
      "cell_type": "markdown",
      "metadata": {},
      "source": [
        "\nCreated on Tue Dec 10 10:33:17 2019\n\n@author: Rasmus Zetter\n\n"
      ]
    },
    {
      "cell_type": "code",
      "execution_count": null,
      "metadata": {
        "collapsed": false
      },
      "outputs": [],
      "source": [
        "import numpy as np\n\n\nkB = 1.38064852e-23 #Boltzman constant\nmu0 = 4*np.pi*1e-7\nd = 100e-9 #Film thickness in meters\nT = 273+160 #Temperature in C\n\n\nr = 100e-6\n\nz = np.linspace(0.2e-3, 1.7e-3)\n\n\ndef plat_sigma(T):\n    ref_T = 293 #K\n    ref_rho = 1.06e-7 #ohm*meter\n    alpha = 0.00392 #1/K\n\n    rho = alpha * (T - ref_T) * ref_rho + ref_rho\n\n    return 1/rho\n\nmu0 * np.sqrt( (3*plat_sigma(T)*kB*T*d) / (2048*np.pi) ) * (2*r) / (z**2)"
      ]
    }
  ],
  "metadata": {
    "kernelspec": {
      "display_name": "Python 3",
      "language": "python",
      "name": "python3"
    },
    "language_info": {
      "codemirror_mode": {
        "name": "ipython",
        "version": 3
      },
      "file_extension": ".py",
      "mimetype": "text/x-python",
      "name": "python",
      "nbconvert_exporter": "python",
      "pygments_lexer": "ipython3",
      "version": "3.6.7"
    }
  },
  "nbformat": 4,
  "nbformat_minor": 0
}