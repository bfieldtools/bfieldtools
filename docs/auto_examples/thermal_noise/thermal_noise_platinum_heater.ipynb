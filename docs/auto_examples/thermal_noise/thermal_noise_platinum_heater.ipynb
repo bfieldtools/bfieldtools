{
  "cells": [
    {
      "cell_type": "code",
      "execution_count": null,
      "metadata": {
        "collapsed": false
      },
      "outputs": [],
      "source": [
        "%matplotlib inline"
      ]
    },
    {
      "cell_type": "markdown",
      "metadata": {},
      "source": [
        "\nThin-film heater noise\n=========================\n\nThis example computes the thermal magnetic noise produced by a platinum\nthin-film heater geometry.\n"
      ]
    },
    {
      "cell_type": "code",
      "execution_count": null,
      "metadata": {
        "collapsed": false
      },
      "outputs": [],
      "source": [
        "import numpy as np\nimport matplotlib.pyplot as plt\nimport trimesh\nfrom mayavi import mlab\n\nfrom bfieldtools.thermal_noise import compute_current_modes, compute_dc_Bnoise\n\nimport pkg_resources"
      ]
    },
    {
      "cell_type": "markdown",
      "metadata": {},
      "source": [
        "Fix the simulation parameters and load the heater geometry\n\n"
      ]
    },
    {
      "cell_type": "code",
      "execution_count": null,
      "metadata": {
        "collapsed": false
      },
      "outputs": [],
      "source": [
        "d = 500e-9  # Film thickness in meters\nsigma = 1 / (16.592 * 1e-6 * 1e-2)  # Platinum @ 450 K\nT = 450  # Temperature in K\nkB = 1.38064852e-23  # Boltzman constant\nmu0 = 4 * np.pi * 1e-7\n\n\nscale_factor = 1e-3\n\n\nmesh = trimesh.load(\n    pkg_resources.resource_filename(\n        \"bfieldtools\", \"example_meshes/thin_film_heater.stl\"\n    )\n)\n\n# Subdivide mesh for higher accuracy if needed\n# mesh.vertices, mesh.faces = trimesh.remesh.subdivide(mesh.vertices, mesh.faces)\n\n# Center the mesh at the origin, apply scaling\nmesh.apply_scale(scale_factor)\n\nmesh.vertices[:, 2] = 0\nmesh.vertices[:, 1] -= np.mean(mesh.vertices[:, 1])\nmesh.vertices[:, 0] -= np.mean(mesh.vertices[:, 0])"
      ]
    },
    {
      "cell_type": "markdown",
      "metadata": {},
      "source": [
        "Visualize the geometry.\n\n"
      ]
    },
    {
      "cell_type": "code",
      "execution_count": null,
      "metadata": {
        "collapsed": false
      },
      "outputs": [],
      "source": [
        "scene = mlab.figure(None, bgcolor=(1, 1, 1), fgcolor=(0.5, 0.5, 0.5), size=(800, 800))\n\nmlab.triangular_mesh(*mesh.vertices.T, mesh.faces)"
      ]
    },
    {
      "cell_type": "markdown",
      "metadata": {},
      "source": [
        "Compute the normalized thermal current modes, and thereafter compute the\nmagnetic field noise caused by the currents. Finally, visualize the result.\n\n"
      ]
    },
    {
      "cell_type": "code",
      "execution_count": null,
      "metadata": {
        "collapsed": false
      },
      "outputs": [],
      "source": [
        "vl = compute_current_modes(mesh)\n\nNp = 30\n\nzl = np.linspace(0.1, 5, Np) * scale_factor\nfp = np.array((np.zeros(zl.shape), np.zeros(zl.shape) - 0.001, zl)).T\n\nB = compute_dc_Bnoise(mesh, vl, fp, sigma, d, T)\n\nfig = plt.figure(figsize=(6, 4))\n\nplt.semilogy(zl * 1e3, np.linalg.norm(B, axis=1) * 1e15, \"k\")\nplt.xlabel(\"Distance (mm)\")\nplt.ylabel(\"DC noise amplitude (fT/rHz)\")\n\nplt.grid()\nplt.title(\"Thermal noise falloff\")\nfig.tight_layout()"
      ]
    },
    {
      "cell_type": "markdown",
      "metadata": {},
      "source": [
        "Compute the field on a 3D grid and visualize isosurfaces.\n\n"
      ]
    },
    {
      "cell_type": "code",
      "execution_count": null,
      "metadata": {
        "collapsed": false
      },
      "outputs": [],
      "source": [
        "plane_extent = 3.5\nNgrid = 40\n\nxx = np.linspace(-plane_extent, plane_extent, Ngrid) * scale_factor\nyy = np.linspace(-plane_extent, plane_extent, Ngrid) * scale_factor\nzz = np.array([0.1, 0.25, 0.5, 1, 1.5]) * scale_factor\nX, Y, Z = np.meshgrid(xx, yy, zz, indexing=\"ij\")\n\nx = X.ravel()\ny = Y.ravel()\nz = Z.ravel()\n\ngrid_points = np.vstack((x, y, z)).T\n\n\nB_grid = compute_dc_Bnoise(mesh, vl, grid_points, sigma, d, T)\n\nB_grid_matrix = B_grid.reshape((Ngrid, Ngrid, len(zz), 3))\n\nB_grid_matrix_norm = np.linalg.norm(B_grid_matrix, axis=-1)\n\n\nscene = mlab.figure(None, bgcolor=(1, 1, 1), fgcolor=(0.5, 0.5, 0.5), size=(800, 800))\n\nmlab.triangular_mesh(*mesh.vertices.T, mesh.faces)\n\nfield = mlab.pipeline.vector_field(\n    X,\n    Y,\n    Z,\n    B_grid_matrix[:, :, :, 0],\n    B_grid_matrix[:, :, :, 1],\n    B_grid_matrix[:, :, :, 2],\n    scalars=B_grid_matrix_norm,\n    name=\"B-field\",\n)\n\n\niso = mlab.pipeline.iso_surface(\n    field,\n    opacity=0.3,\n    colormap=\"viridis\",\n    contours=[20e-15, 5e-15, 1e-15, 1e-16],\n    vmax=20e-15,\n    vmin=1e-16,\n)\n\n# A trick to make transparency look better: cull the front face\niso.actor.property.frontface_culling = False"
      ]
    },
    {
      "cell_type": "markdown",
      "metadata": {},
      "source": [
        "Plot the noise level at horizontal planes at different distance.\n\n"
      ]
    },
    {
      "cell_type": "code",
      "execution_count": null,
      "metadata": {
        "collapsed": false
      },
      "outputs": [],
      "source": [
        "from matplotlib import colors\n\nfig, axes = plt.subplots(nrows=1, ncols=5, figsize=(20, 4))\naxes = axes.flatten()\nB_scale = 1e15\n\nfor ax_idx, ax in enumerate(axes):\n    cont = ax.pcolormesh(\n        X[:, :, ax_idx] * scale_factor,\n        Y[:, :, ax_idx] * scale_factor,\n        B_scale * B_grid_matrix_norm[:, :, ax_idx],\n        cmap=\"viridis\",\n        vmin=B_scale * 1e-17,\n        vmax=B_scale * 5e-14,\n        norm=colors.LogNorm(),\n        shading=\"gouraud\",\n    )\n\n    clines = ax.contour(\n        X[:, :, ax_idx] * scale_factor,\n        Y[:, :, ax_idx] * scale_factor,\n        B_scale * B_grid_matrix_norm[:, :, ax_idx],\n        levels=B_scale\n        * np.array(\n            [1e-17, 5e-17, 1e-16, 5e-16, 1e-15, 2.5e-15, 5e-15, 1e-14, 2.5e-14, 5e-14]\n        ),\n        norm=colors.LogNorm(),\n        antialiased=True,\n        colors=(\"k\",),\n        linewidths=(3,),\n    )\n    ax.clabel(clines, fmt=\"%2.2f\", colors=\"w\", fontsize=10)\n\n    ax.set_title(\"Distance %.2f mm\" % (Z[0, 0, ax_idx] * 1e3))\n    ax.set_xlabel(\"(mm)\")\n    ax.set_ylabel(\"(mm)\")\n\n    ax.get_xaxis().set_visible(False)\n    ax.get_yaxis().set_visible(False)\n\nfig.tight_layout()\n\nfig.subplots_adjust(right=0.925)\ncbar_ax = fig.add_axes([0.95, 0.15, 0.01, 0.7])\ncbar = fig.colorbar(cont, cax=cbar_ax)\ncbar.set_label(\"DC magnetic field noise amplitude (fT/rHz)\")"
      ]
    }
  ],
  "metadata": {
    "kernelspec": {
      "display_name": "Python 3",
      "language": "python",
      "name": "python3"
    },
    "language_info": {
      "codemirror_mode": {
        "name": "ipython",
        "version": 3
      },
      "file_extension": ".py",
      "mimetype": "text/x-python",
      "name": "python",
      "nbconvert_exporter": "python",
      "pygments_lexer": "ipython3",
      "version": "3.7.3"
    }
  },
  "nbformat": 4,
  "nbformat_minor": 0
}