{
  "cells": [
    {
      "cell_type": "code",
      "execution_count": null,
      "metadata": {
        "collapsed": false
      },
      "outputs": [],
      "source": [
        "%matplotlib inline"
      ]
    },
    {
      "cell_type": "markdown",
      "metadata": {},
      "source": [
        "\nLine charge\n================\n\nTest and validation of gamma_0\n\nFor the math see:\n        A. S. Ferguson, Xu Zhang and G. Stroink,\n        \"A complete linear discretization for calculating the magnetic field\n        using the boundary element method,\"\n        in IEEE Transactions on Biomedical Engineering,\n        vol. 41, no. 5, pp. 455-460, May 1994.\n        doi: 10.1109/10.293220\n"
      ]
    },
    {
      "cell_type": "code",
      "execution_count": null,
      "metadata": {
        "collapsed": false
      },
      "outputs": [],
      "source": [
        "import numpy as np\nimport matplotlib.pyplot as plt\nimport sys\nfrom mayavi import mlab\n\npath = \"/m/home/home8/80/makinea1/unix/pythonstuff/bfieldtools\"\nif path not in sys.path:\n    sys.path.insert(0, path)\n\nfrom bfieldtools.integrals import gamma0\nfrom bfieldtools.utils import tri_normals_and_areas"
      ]
    },
    {
      "cell_type": "markdown",
      "metadata": {},
      "source": [
        "%% Test potential shape slightly above the surface\n\n"
      ]
    },
    {
      "cell_type": "code",
      "execution_count": null,
      "metadata": {
        "collapsed": false
      },
      "outputs": [],
      "source": [
        "points = np.array([[0, 0, 0], [1, 0, 0], [0, 1, 0]])\n\ntris = np.array([[0, 1, 2]])\np_tris = points[tris]\n\n# Evaluation points\nNx = 100\nxx = np.linspace(-2, 2, Nx)\nX, Y = np.meshgrid(xx, xx, indexing=\"ij\")\nZ = np.zeros_like(X) + 0.1\np_eval = np.array([X, Y, Z]).reshape(3, -1).T\n\n# Difference vectors\nRR = p_eval[:, None, None, :] - p_tris[None, :, :, :]\n\npot = gamma0(RR)\n\n# Plot shape\nplt.figure()\nplt.imshow(\n    pot[:, 0].sum(axis=-1).reshape(Nx, Nx),\n    extent=(xx.min(), xx.max(), xx.max(), xx.min()),\n)\nplt.ylabel(\"x\")\nplt.xlabel(\"y\")"
      ]
    },
    {
      "cell_type": "code",
      "execution_count": null,
      "metadata": {
        "collapsed": false
      },
      "outputs": [],
      "source": [
        "\"\"\" Test potential at directly at the edge. As the line has no\n    perpendicular dimensions, the potential is infinite at the edge.\n    The regularization factor given to the function apprximates the line\n    current with a small radius, giving rougly constant potential on the line.\n    The relative error between the regularized verison and\n    the infinitely thin line charge seems to be on the order of the \"reg\" value\n\n    The \"symmetrize\" option symmeterizes the result with respect to the\n    mid point. This removes errors (Nans) on the other continuoation of the edge\n\"\"\""
      ]
    },
    {
      "cell_type": "code",
      "execution_count": null,
      "metadata": {
        "collapsed": false
      },
      "outputs": [],
      "source": [
        "points = np.array([[0, 0, 0], [1, 0, 0], [0, 1, 0]])\n\ntris = np.array([[0, 1, 2]])\np_tris = points[tris]\n\n# Evaluation points\nNx = 1000\nx = np.linspace(-2, 2, Nx)\ny = z = np.zeros_like(x)\np_eval = np.array([x, y, z]).T\n\n# Difference vectors\nRR = p_eval[:, None, None, :] - p_tris[None, :, :, :]\n\n# Regularize and symmetrize\npot = gamma0(RR, 1e-13, True)\npot0 = pot[:, 0, 2]\nplt.figure()\nplt.plot(x, pot0, linewidth=5)\n# Symmetrize, but do not regularize\npot = gamma0(RR, 0, True)\npot1 = pot[:, 0, 2]\nplt.plot(x, pot1, \"--\", linewidth=3)\n# Neither\npot = gamma0(RR, 0, False)\npot2 = pot[:, 0, 2]\nplt.plot(x, pot2)\nplt.xlabel(\"x\")\nplt.legend((\"reg + sym\", \"sym\", \"neither\"))\n\nplt.figure()\nplt.title(\"Relative error\")\nplt.plot(x, abs(pot0 - pot1) / pot1)"
      ]
    }
  ],
  "metadata": {
    "kernelspec": {
      "display_name": "Python 3",
      "language": "python",
      "name": "python3"
    },
    "language_info": {
      "codemirror_mode": {
        "name": "ipython",
        "version": 3
      },
      "file_extension": ".py",
      "mimetype": "text/x-python",
      "name": "python",
      "nbconvert_exporter": "python",
      "pygments_lexer": "ipython3",
      "version": "3.7.3"
    }
  },
  "nbformat": 4,
  "nbformat_minor": 0
}