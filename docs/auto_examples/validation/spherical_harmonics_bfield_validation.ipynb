{
  "cells": [
    {
      "cell_type": "code",
      "execution_count": null,
      "metadata": {
        "collapsed": false
      },
      "outputs": [],
      "source": [
        "%matplotlib inline"
      ]
    },
    {
      "cell_type": "markdown",
      "metadata": {},
      "source": [
        "\nSpherical harmonics B-field computation validation\n==================================================\n\n\n\n\n"
      ]
    },
    {
      "cell_type": "code",
      "execution_count": null,
      "metadata": {
        "collapsed": false
      },
      "outputs": [],
      "source": [
        "import numpy as np\nimport trimesh\nfrom mayavi import mlab\n\nfrom bfieldtools.mesh_magnetics import magnetic_field_coupling\nfrom bfieldtools.mesh_class import MeshWrapper\n\nfrom bfieldtools.sphtools import compute_sphcoeffs_mesh, sphbasis\n\n\nimport pkg_resources\n\n#Load simple plane mesh that is centered on the origin\nfile_obj = pkg_resources.resource_filename('bfieldtools',\n                    'example_meshes/10x10_plane.obj')\ncoilmesh = trimesh.load(file_obj, process=False)\ncoil = MeshWrapper(mesh_obj = coilmesh)\n\ncoil.mesh.vertices += np.array([0,-1,0])\nweights = np.zeros(coilmesh.vertices.shape[0])\nweights[coil.inner_verts] = 1\n\ntest_points = coilmesh.vertices.copy()\ntest_points[:, 1] = 0\n\nlmax = 12\n\nsph = sphbasis(20)\n\nsph_C = compute_sphcoeffs_mesh(coil.mesh, lmax)\n\nalms = sph_C[0] @ weights\nblms = sph_C[1] @ weights\n\nalms = np.zeros_like(alms)\n\nB0 = (magnetic_field_coupling(coilmesh, test_points) @ weights).T\nB1 = sph.field(test_points, alms, blms, lmax).T\n\n\n\ns = mlab.triangular_mesh(*coilmesh.vertices.T, coilmesh.faces,\n                         scalars=weights, colormap='viridis')\ns.enable_contours = True\ns.actor.property.render_lines_as_tubes = True\ns.actor.property.line_width = 3.0\n\nmlab.quiver3d(*test_points.T, *B0, color=(1,0,0), scale_factor=0.5e7, vmin=0, vmax=2e-7)\nmlab.quiver3d(*test_points.T, *B1, color=(0,0,1), scale_factor=0.5e7, vmin=0, vmax=2e-7)\ns.scene.isometric_view()\n\n\nprint('Relative RMS error',  np.sqrt(np.mean((B1-B0)**2))/np.sqrt(np.mean((B0)**2)))"
      ]
    }
  ],
  "metadata": {
    "kernelspec": {
      "display_name": "Python 3",
      "language": "python",
      "name": "python3"
    },
    "language_info": {
      "codemirror_mode": {
        "name": "ipython",
        "version": 3
      },
      "file_extension": ".py",
      "mimetype": "text/x-python",
      "name": "python",
      "nbconvert_exporter": "python",
      "pygments_lexer": "ipython3",
      "version": "3.6.7"
    }
  },
  "nbformat": 4,
  "nbformat_minor": 0
}