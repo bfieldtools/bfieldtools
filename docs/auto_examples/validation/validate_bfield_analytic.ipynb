{
  "cells": [
    {
      "cell_type": "code",
      "execution_count": null,
      "metadata": {
        "collapsed": false
      },
      "outputs": [],
      "source": [
        "%matplotlib inline"
      ]
    },
    {
      "cell_type": "markdown",
      "metadata": {},
      "source": [
        "\nCreated on Fri Sep  6 11:26:17 2019\n\n@author: makinea1\n\n"
      ]
    },
    {
      "cell_type": "code",
      "execution_count": null,
      "metadata": {
        "collapsed": false
      },
      "outputs": [],
      "source": [
        "import numpy as np\nimport trimesh\nfrom timeit import timeit\nfrom mayavi import mlab\nimport matplotlib.pyplot as plt\n\nimport pkg_resources\nimport sys\npath = '/m/home/home8/80/makinea1/unix/pythonstuff/bfieldtools'\nif path not in sys.path:\n    sys.path.insert(0,path)\n\nfrom bfieldtools.laplacian_mesh import gradient\nfrom bfieldtools.magnetic_field_mesh import compute_C\nfrom bfieldtools.magnetic_field_mesh import compute_C_analytic\nfrom bfieldtools.mesh_class import MeshWrapper\n\n\n#Load simple plane mesh that is centered on the origin\nfile_obj = pkg_resources.resource_filename('bfieldtools',\n                    'example_meshes/10x10_plane.obj')\ncoilmesh = trimesh.load(file_obj, process=False)\ncoil = MeshWrapper(mesh_obj = coilmesh)\nweights = np.zeros(coilmesh.vertices.shape[0])\nweights[coil.inner_verts] = 1\n\ntest_points = coilmesh.vertices + np.array([0,1,0])\n\nB0 = np.moveaxis(compute_C(coilmesh, test_points), 2, 0) @ weights\nB1 = compute_C_analytic(coilmesh, test_points) @ weights\n\n\ns = mlab.triangular_mesh(*coilmesh.vertices.T, coilmesh.faces,\n                         scalars=weights, colormap='viridis')\ns.enable_contours = True\ns.actor.property.render_lines_as_tubes = True\ns.actor.property.line_width = 3.0\n\nmlab.quiver3d(*test_points.T, *B0, color=(1,0,0))\nmlab.quiver3d(*test_points.T, *B1, color=(0,0,1))\n\nprint('Relative RMS error',  np.sqrt(np.mean((B1-B0)**2))/np.sqrt(np.mean((B0)**2)))\n\n#%% Test against analytic formula\n#Load simple plane mesh that is centered on the origin\nfile_obj = pkg_resources.resource_filename('bfieldtools',\n                    'example_meshes/unit_disc.stl')\ndiscmesh = trimesh.load(file_obj, process=True)\nfor ii in range(3):\n    discmesh = discmesh.subdivide()\ndisc = MeshWrapper(mesh_obj = discmesh)\nweights = np.zeros(discmesh.vertices.shape[0])\nweights[disc.inner_verts] = 1\nmlab.figure()\ns = mlab.triangular_mesh(*discmesh.vertices.T, discmesh.faces,\n                         scalars=weights, colormap='viridis')\ng = gradient(weights, discmesh, rotated=True)\nmlab.quiver3d(*discmesh.vertices[discmesh.faces].mean(axis=1).T, *g)\n\ntest_points = np.zeros((100, 3))\ntest_points[:, 2] = np.linspace(0.0, 5, 100)\nmlab.points3d(*test_points.T, scale_factor=0.1)\n\n# Bfield for 1 Ampere current\nB0 = np.moveaxis(compute_C(discmesh, test_points), 2, 0) @ weights\nB1 = compute_C_analytic(discmesh, test_points) @ weights\n\n# Analytic formula for unit disc\nplt.plot(1e-7*2*np.pi/(np.sqrt(test_points[:,2]**2 + 1)**3))\n# Field from the mesh\nplt.plot(np.linalg.norm(B0, axis=0))\nplt.plot(np.linalg.norm(B1, axis=0))\n\nplt.legend(('Analytic', 'Quadrature mesh', 'Analytic mesh'))\nplt.xlabel('Distance, z [m]')\nplt.xlabel('B [T]')"
      ]
    }
  ],
  "metadata": {
    "kernelspec": {
      "display_name": "Python 3",
      "language": "python",
      "name": "python3"
    },
    "language_info": {
      "codemirror_mode": {
        "name": "ipython",
        "version": 3
      },
      "file_extension": ".py",
      "mimetype": "text/x-python",
      "name": "python",
      "nbconvert_exporter": "python",
      "pygments_lexer": "ipython3",
      "version": "3.6.7"
    }
  },
  "nbformat": 4,
  "nbformat_minor": 0
}