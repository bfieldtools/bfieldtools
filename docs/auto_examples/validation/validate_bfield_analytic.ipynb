{
  "cells": [
    {
      "cell_type": "code",
      "execution_count": null,
      "metadata": {
        "collapsed": false
      },
      "outputs": [],
      "source": [
        "%matplotlib inline"
      ]
    },
    {
      "cell_type": "markdown",
      "metadata": {},
      "source": [
        "\nAnalytic B-field computation\n==================================================\nValidation of analytic mesh operator for magnetic field computation.\n"
      ]
    },
    {
      "cell_type": "code",
      "execution_count": null,
      "metadata": {
        "collapsed": false
      },
      "outputs": [],
      "source": [
        "import numpy as np\nimport trimesh\nfrom mayavi import mlab\nimport matplotlib.pyplot as plt\n\nfrom bfieldtools.mesh_calculus import gradient\nfrom bfieldtools.mesh_magnetics import (\n    magnetic_field_coupling,\n    magnetic_field_coupling_analytic,\n)\nfrom bfieldtools.conductor import Conductor\nimport pkg_resources\n\n\n# Load simple plane mesh that is centered on the origin\nfile_obj = pkg_resources.resource_filename(\n    \"bfieldtools\", \"example_meshes/10x10_plane.obj\"\n)\ncoilmesh = trimesh.load(file_obj, process=False)\ncoil = Conductor(mesh_obj=coilmesh)\nweights = np.zeros(coilmesh.vertices.shape[0])\nweights[coil.inner_vertices] = 1\n\ntest_points = coilmesh.vertices + np.array([0, 1, 0])\n\nB0 = magnetic_field_coupling(coilmesh, test_points) @ weights\nB1 = magnetic_field_coupling_analytic(coilmesh, test_points) @ weights\n\n\nf = mlab.figure(None, bgcolor=(1, 1, 1), fgcolor=(0.5, 0.5, 0.5), size=(800, 800))\n\ns = mlab.triangular_mesh(\n    *coilmesh.vertices.T, coilmesh.faces, scalars=weights, colormap=\"viridis\"\n)\ns.enable_contours = True\ns.actor.property.render_lines_as_tubes = True\ns.actor.property.line_width = 3.0\n\nmlab.quiver3d(*test_points.T, *B0.T, color=(1, 0, 0))\nmlab.quiver3d(*test_points.T, *B1.T, color=(0, 0, 1))\n\nprint(\n    \"Relative RMS error\", np.sqrt(np.mean((B1 - B0) ** 2)) / np.sqrt(np.mean((B0) ** 2))\n)"
      ]
    },
    {
      "cell_type": "markdown",
      "metadata": {},
      "source": [
        "Load simple plane mesh that is centered on the origin\n\n"
      ]
    },
    {
      "cell_type": "code",
      "execution_count": null,
      "metadata": {
        "collapsed": false
      },
      "outputs": [],
      "source": [
        "file_obj = pkg_resources.resource_filename(\n    \"bfieldtools\", \"example_meshes/unit_disc.stl\"\n)\ndiscmesh = trimesh.load(file_obj, process=True)\nfor ii in range(3):\n    discmesh = discmesh.subdivide()\ndisc = Conductor(mesh_obj=discmesh)\nweights = np.zeros(discmesh.vertices.shape[0])\nweights[disc.inner_vertices] = 1\nmlab.figure()\ns = mlab.triangular_mesh(\n    *discmesh.vertices.T, discmesh.faces, scalars=weights, colormap=\"viridis\"\n)\ng = gradient(weights, discmesh, rotated=True)\nmlab.quiver3d(*discmesh.vertices[discmesh.faces].mean(axis=1).T, *g)\n\ntest_points = np.zeros((100, 3))\ntest_points[:, 2] = np.linspace(0.0, 5, 100)\nmlab.points3d(*test_points.T, scale_factor=0.1)\n\n# Bfield for 1 Ampere current\nB0 = magnetic_field_coupling(discmesh, test_points) @ weights\nB1 = magnetic_field_coupling_analytic(discmesh, test_points) @ weights\n\n# Analytic formula for unit disc\nplt.plot(1e-7 * 2 * np.pi / (np.sqrt(test_points[:, 2] ** 2 + 1) ** 3))\n# Field from the mesh\nplt.plot(np.linalg.norm(B0, axis=1))\nplt.plot(np.linalg.norm(B1, axis=1))\n\nplt.legend((\"Analytic\", \"Quadrature mesh\", \"Analytic mesh\"))\nplt.xlabel(\"Distance, z [m]\")\nplt.ylabel(\"B [T]\")"
      ]
    }
  ],
  "metadata": {
    "kernelspec": {
      "display_name": "Python 3",
      "language": "python",
      "name": "python3"
    },
    "language_info": {
      "codemirror_mode": {
        "name": "ipython",
        "version": 3
      },
      "file_extension": ".py",
      "mimetype": "text/x-python",
      "name": "python",
      "nbconvert_exporter": "python",
      "pygments_lexer": "ipython3",
      "version": "3.7.3"
    }
  },
  "nbformat": 4,
  "nbformat_minor": 0
}