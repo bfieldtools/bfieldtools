{
  "cells": [
    {
      "cell_type": "code",
      "execution_count": null,
      "metadata": {
        "collapsed": false
      },
      "outputs": [],
      "source": [
        "%matplotlib inline"
      ]
    },
    {
      "cell_type": "markdown",
      "metadata": {},
      "source": [
        "\nIntegrals testing\n==================================================\n"
      ]
    },
    {
      "cell_type": "code",
      "execution_count": null,
      "metadata": {
        "collapsed": false
      },
      "outputs": [],
      "source": [
        "import numpy as np\n\nimport matplotlib.pyplot as plt\n\nimport trimesh\nfrom mayavi import mlab"
      ]
    },
    {
      "cell_type": "markdown",
      "metadata": {},
      "source": [
        "%% Test potential shape slightly above the surface\n\n"
      ]
    },
    {
      "cell_type": "code",
      "execution_count": null,
      "metadata": {
        "collapsed": false
      },
      "outputs": [],
      "source": [
        "x = np.sin(np.pi / 6)\ny = np.cos(np.pi / 6)\npoints = (\n    np.array(\n        [\n            [0, 0, 0],\n            [1, 0, 0],\n            [x, y, 0],\n            [-x, y, 0],\n            [-1, 0, 0],\n            [-x, -y, 0],\n            [x, -y, 0],\n        ]\n    )\n    * 2\n)\n\ntris = np.array([[0, 1, 2], [0, 2, 3], [0, 3, 4], [0, 4, 5], [0, 5, 6], [0, 6, 1]])\nmesh = trimesh.Trimesh(points, tris)\nscalars = np.zeros(7)\nscalars[0] = 1"
      ]
    },
    {
      "cell_type": "code",
      "execution_count": null,
      "metadata": {
        "collapsed": false
      },
      "outputs": [],
      "source": [
        "# Sign ok\npoints = np.array([[0.1, 1, 1], [0.1, 1, -1], [0.1, -1, -1], [0.1, -1, 1]]) * 2\n# points = np.roll(points, 2, 1)\ntris = np.array([[0, 1, 2], [2, 3, 0]])\nmesh2 = trimesh.Trimesh(points, tris)\nfor ii in range(7):\n    mesh2 = mesh2.subdivide()\n\nfrom bfieldtools.integrals_old import triangle_potential_dipole_linear as t1\nfrom bfieldtools.integrals import triangle_potential_dipole_linear as t2\n\nRR = mesh2.vertices[:, None, None, :] - mesh.vertices[None, mesh.faces]\np1 = t1(RR, mesh.face_normals, mesh.area_faces, planar=False)\np2 = t2(RR, mesh.face_normals, mesh.area_faces, planar=False)\n\nassert np.allclose(p1, p2)\n\n\nmlab.figure(None, bgcolor=(1, 1, 1), fgcolor=(0.5, 0.5, 0.5), size=(800, 800))\nmlab.triangular_mesh(*mesh2.vertices.T, mesh2.faces, scalars=p1[:, :, 0].sum(axis=1))\nmlab.colorbar()\nmlab.triangular_mesh(*mesh.vertices.T, mesh.faces, representation=\"wireframe\")\nmlab.quiver3d(*mesh.triangles_center.T, *mesh.face_normals.T)\n\nmlab.figure(None, bgcolor=(1, 1, 1), fgcolor=(0.5, 0.5, 0.5), size=(800, 800))\nmlab.triangular_mesh(*mesh2.vertices.T, mesh2.faces, scalars=p2[:, :, 0].sum(axis=1))\nmlab.colorbar()\nmlab.triangular_mesh(*mesh.vertices.T, mesh.faces, representation=\"wireframe\")\nmlab.quiver3d(*mesh.triangles_center.T, *mesh.face_normals.T)\n\nmlab.figure(None, bgcolor=(1, 1, 1), fgcolor=(0.5, 0.5, 0.5), size=(800, 800))\nmlab.triangular_mesh(\n    *mesh2.vertices.T, mesh2.faces, scalars=(p1 - p2)[:, :, 0].sum(axis=1)\n)\nmlab.colorbar()"
      ]
    },
    {
      "cell_type": "code",
      "execution_count": null,
      "metadata": {
        "collapsed": false
      },
      "outputs": [],
      "source": [
        "points = np.zeros((100, 3))\npoints[:, 2] = np.linspace(-1, 1, 100)\nfrom bfieldtools.integrals_old import omega as omega1\nfrom bfieldtools.integrals import omega as omega2\n\nRR = points[:, None, None, :] - mesh.vertices[None, mesh.faces]\no1 = omega1(RR).sum(axis=1)\no2 = omega2(RR).sum(axis=1)\n\nassert np.allclose(o1, -o2)\n\nplt.plot(o1)\nplt.plot(o2)\nmlab.plot3d(*points.T, points[:, 2], colormap=\"seismic\")\nmlab.quiver3d(*mesh.triangles_center.T, *mesh.face_normals.T)"
      ]
    },
    {
      "cell_type": "code",
      "execution_count": null,
      "metadata": {
        "collapsed": false
      },
      "outputs": [],
      "source": [
        "from bfieldtools.integrals import x_distance\n\nRR = mesh2.vertices[:, None, None, :] - mesh.vertices[None, mesh.faces]\nxdist = x_distance(RR, mesh.face_normals)\nmlab.triangular_mesh(\n    *mesh2.vertices.T,\n    mesh2.faces,\n    scalars=xdist[:, 1, 0],\n    vmin=-1,\n    vmax=1,\n    colormap=\"seismic\"\n)\nmlab.colorbar()\nmlab.triangular_mesh(*mesh.vertices.T, mesh.faces, representation=\"wireframe\")\nmlab.quiver3d(*mesh.triangles_center.T, *mesh.face_normals.T)"
      ]
    },
    {
      "cell_type": "code",
      "execution_count": null,
      "metadata": {
        "collapsed": false
      },
      "outputs": [],
      "source": [
        "from bfieldtools.integrals_old import triangle_potential_uniform as u1\nfrom bfieldtools.integrals import triangle_potential_uniform as u2\n\nRR = mesh2.vertices[:, None, None, :] - mesh.vertices[None, mesh.faces]\np1 = u1(RR, mesh.face_normals, planar=False)\np2 = u2(RR, mesh.face_normals, planar=False)\n\nassert np.allclose(p1, p2)\n\n\nmlab.figure(\"uniform charge density (old)\")\nmlab.triangular_mesh(*mesh2.vertices.T, mesh2.faces, scalars=p1.sum(axis=1))\nmlab.colorbar()\nmlab.triangular_mesh(*mesh.vertices.T, mesh.faces, representation=\"wireframe\")\nmlab.quiver3d(*mesh.triangles_center.T, *mesh.face_normals.T)\nmlab.figure(\"uniform charge density (new)\")\nmlab.triangular_mesh(*mesh2.vertices.T, mesh2.faces, scalars=p2.sum(axis=1))\nmlab.colorbar()\nmlab.triangular_mesh(*mesh.vertices.T, mesh.faces, representation=\"wireframe\")\nmlab.quiver3d(*mesh.triangles_center.T, *mesh.face_normals.T)"
      ]
    },
    {
      "cell_type": "code",
      "execution_count": null,
      "metadata": {
        "collapsed": false
      },
      "outputs": [],
      "source": [
        "from bfieldtools.integrals import d_distance\n\nRR = mesh2.vertices[:, None, None, :] - mesh.vertices[None, mesh.faces]\nddist = d_distance(RR, mesh.face_normals)\nmlab.figure(\"d distance\")\nmlab.triangular_mesh(\n    *mesh2.vertices.T,\n    mesh2.faces,\n    scalars=ddist[:, 0],\n    vmin=-1,\n    vmax=1,\n    colormap=\"seismic\"\n)\nmlab.colorbar()\nmlab.triangular_mesh(*mesh.vertices.T, mesh.faces, representation=\"wireframe\")\nmlab.quiver3d(*mesh.triangles_center.T, *mesh.face_normals.T)"
      ]
    },
    {
      "cell_type": "code",
      "execution_count": null,
      "metadata": {
        "collapsed": false
      },
      "outputs": [],
      "source": [
        "from bfieldtools.mesh_magnetics import magnetic_field_coupling_analytic_old\nfrom bfieldtools.mesh_magnetics import magnetic_field_coupling_analytic\n\nb1 = magnetic_field_coupling_analytic_old(mesh, mesh2.vertices)\nb2 = magnetic_field_coupling_analytic(mesh, mesh2.vertices)\n\nassert np.allclose(b1, b2)\n\nmlab.figure(\"b field\")\nmlab.quiver3d(*mesh2.vertices.T, *b1[:, :, 0].T)\nmlab.quiver3d(*mesh2.vertices.T, *b2[:, :, 0].T)"
      ]
    },
    {
      "cell_type": "code",
      "execution_count": null,
      "metadata": {
        "collapsed": false
      },
      "outputs": [],
      "source": [
        "from bfieldtools.integrals_old import gamma0 as g1\nfrom bfieldtools.integrals import gamma0 as g2\n\n# RR =  mesh2.vertices[:, None, None, :] - mesh.vertices[None, mesh.faces]\nt = np.linspace(-1.5, 1.5)\npoints = (\n    t[:, None] * mesh.vertices[mesh.faces][0][0]\n    + (1 - t)[:, None] * mesh.vertices[mesh.faces][0][1]\n)\n\n\nR = points[:, None, None, :] - mesh.vertices[None, mesh.faces]\np1 = g1(R, symmetrize=True)\np2 = g2(R, symmetrize=True)\n\nassert np.allclose(p1, p2)\n\nplt.figure()\nplt.plot(p1[:, 0, :])\nplt.figure()\nplt.plot(p2[:, 0, :])"
      ]
    }
  ],
  "metadata": {
    "kernelspec": {
      "display_name": "Python 3",
      "language": "python",
      "name": "python3"
    },
    "language_info": {
      "codemirror_mode": {
        "name": "ipython",
        "version": 3
      },
      "file_extension": ".py",
      "mimetype": "text/x-python",
      "name": "python",
      "nbconvert_exporter": "python",
      "pygments_lexer": "ipython3",
      "version": "3.7.3"
    }
  },
  "nbformat": 4,
  "nbformat_minor": 0
}