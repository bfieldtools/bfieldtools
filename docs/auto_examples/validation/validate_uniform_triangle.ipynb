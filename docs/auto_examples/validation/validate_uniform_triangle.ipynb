{
  "cells": [
    {
      "cell_type": "code",
      "execution_count": null,
      "metadata": {
        "collapsed": false
      },
      "outputs": [],
      "source": [
        "%matplotlib inline"
      ]
    },
    {
      "cell_type": "markdown",
      "metadata": {},
      "source": [
        "\nUniform triangle\n================\n\nTest and validation of potential of uniformaly distributed charge density\n\nFor the math see:\n        A. S. Ferguson, Xu Zhang and G. Stroink,\n        \"A complete linear discretization for calculating the magnetic field\n        using the boundary element method,\"\n        in IEEE Transactions on Biomedical Engineering,\n        vol. 41, no. 5, pp. 455-460, May 1994.\n        doi: 10.1109/10.293220\n\n\n"
      ]
    },
    {
      "cell_type": "code",
      "execution_count": null,
      "metadata": {
        "collapsed": false
      },
      "outputs": [],
      "source": [
        "import numpy as np\nimport matplotlib.pyplot as plt\nimport sys\nfrom mayavi import mlab\npath = '/m/home/home8/80/makinea1/unix/pythonstuff/bfieldtools'\nif path not in sys.path:\n    sys.path.insert(0,path)\n\nfrom bfieldtools.integrals import triangle_potential_uniform\nfrom bfieldtools.utils import tri_normals_and_areas"
      ]
    },
    {
      "cell_type": "markdown",
      "metadata": {},
      "source": [
        "%% Test potential shape slightly above the surface\n\n"
      ]
    },
    {
      "cell_type": "code",
      "execution_count": null,
      "metadata": {
        "collapsed": false
      },
      "outputs": [],
      "source": [
        "points = np.array([[0,0,0],\n                   [1,0,0],\n                   [0,1,0]])\n\ntris = np.array([[0,1,2]])\np_tris = points[tris]\n\n# Evaluation points\nNx = 100\nxx = np.linspace(-2, 2, Nx)\nX,Y = np.meshgrid(xx, xx, indexing='ij')\nZ = np.zeros_like(X) + 0.01\np_eval = np.array([X,Y,Z]).reshape(3,-1).T\n\n# Difference vectors\nRR = p_eval[:,None,None,:] - p_tris[None,:,:,:]\ntn, ta = tri_normals_and_areas(points, tris)\n\npot = triangle_potential_uniform(RR, tn, False)\n\n# Plot shape\nplt.figure()\nplt.imshow(pot[:,0].reshape(Nx, Nx), extent=(xx.min(),xx.max(),\n                                             xx.max(),xx.min()))\nplt.ylabel('x')\nplt.xlabel('y')"
      ]
    },
    {
      "cell_type": "markdown",
      "metadata": {},
      "source": [
        "%% Test asymptotic behavour by comparing potential of  charge at the\n    center of mass of the triangle having the same first moment\n\n"
      ]
    },
    {
      "cell_type": "code",
      "execution_count": null,
      "metadata": {
        "collapsed": false
      },
      "outputs": [],
      "source": [
        "def charge_potential(Reval, Rcharge, moment):\n    R  = Reval - Rcharge\n    r = np.linalg.norm(R, axis=1)\n    return moment/r\n\n# Center of mass\nRcharge = points.mean(axis=0)\n# Moment\nm = ta\n# Eval points\nNeval = 100\n\ncases = np.arange(3)\nf, ax = plt.subplots(1, 3)\nmlab.figure(bgcolor=(1,1,1))\nmlab.triangular_mesh(*points.T, tris, color=(0.5,0.5,0.5))\nfor c in cases:\n    p_eval2 = np.zeros((Neval, 3))\n\n    if c==0:\n        z = np.linspace(0.01, 20, Neval)\n        p_eval2[:,2] = z\n        p_eval2 += Rcharge\n        mlab.points3d(*p_eval2.T, color=(1,0,0), scale_factor=0.1)\n        lab = 'z'\n    elif c==1:\n        x = np.linspace(0.01, 20, Neval)\n        p_eval2[:,0] = x\n        mlab.points3d(*p_eval2.T, color=(0,1,0), scale_factor=0.1)\n        lab = 'x'\n    elif c==2:\n        y = np.linspace(0.01, 20, Neval)\n        p_eval2[:,1] = y\n        mlab.points3d(*p_eval2.T, color=(0,0,1), scale_factor=0.1)\n        lab = 'y'\n\n    plt.sca(ax[c])\n    # Plot dipole field approximating uniform dipolar density\n    plt.semilogy(z, charge_potential(p_eval2, Rcharge, m))\n    # Plot sum of the linear dipoles\n    RR = p_eval2[:,None,None,:] - p_tris[None,:,:,:]\n    pot = triangle_potential_uniform(RR, tn, False)\n    plt.semilogy(z, pot)\n    plt.xlabel(lab)\n    if c==0:\n        plt.ylabel('potential')\n    if c==2:\n        plt.legend(('Approx.', 'True'))"
      ]
    }
  ],
  "metadata": {
    "kernelspec": {
      "display_name": "Python 3",
      "language": "python",
      "name": "python3"
    },
    "language_info": {
      "codemirror_mode": {
        "name": "ipython",
        "version": 3
      },
      "file_extension": ".py",
      "mimetype": "text/x-python",
      "name": "python",
      "nbconvert_exporter": "python",
      "pygments_lexer": "ipython3",
      "version": "3.6.7"
    }
  },
  "nbformat": 4,
  "nbformat_minor": 0
}