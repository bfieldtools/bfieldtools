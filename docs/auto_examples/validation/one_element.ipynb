{
  "cells": [
    {
      "cell_type": "code",
      "execution_count": null,
      "metadata": {
        "collapsed": false
      },
      "outputs": [],
      "source": [
        "%matplotlib inline"
      ]
    },
    {
      "cell_type": "markdown",
      "metadata": {},
      "source": [
        "\nOne-element validation\n======================\n"
      ]
    },
    {
      "cell_type": "code",
      "execution_count": null,
      "metadata": {
        "collapsed": false
      },
      "outputs": [],
      "source": [
        "import numpy as np\n\nfrom bfieldtools.mesh_magnetics import (\n    scalar_potential_coupling,\n    vector_potential_coupling,\n)\nfrom bfieldtools.mesh_magnetics import (\n    magnetic_field_coupling,\n    magnetic_field_coupling_analytic,\n)\n\nimport trimesh\nfrom mayavi import mlab"
      ]
    },
    {
      "cell_type": "markdown",
      "metadata": {},
      "source": [
        "%% Test potential shape slightly above the surface\n\n"
      ]
    },
    {
      "cell_type": "code",
      "execution_count": null,
      "metadata": {
        "collapsed": false
      },
      "outputs": [],
      "source": [
        "x = np.sin(np.pi / 6)\ny = np.cos(np.pi / 6)\npoints = np.array(\n    [[0, 0, 0], [1, 0, 0], [x, y, 0], [-x, y, 0], [-1, 0, 0], [-x, -y, 0], [x, -y, 0]]\n)\n\ntris = np.array([[0, 1, 2], [0, 2, 3], [0, 3, 4], [0, 4, 5], [0, 5, 6], [0, 6, 1]])\nmesh = trimesh.Trimesh(points, tris)\nscalars = np.zeros(7)\nscalars[0] = 1\n# Stream function\ns1 = mlab.triangular_mesh(*points.T, tris, scalars=scalars, colormap=\"viridis\")\n# Stream lines\ns2 = mlab.triangular_mesh(*points.T, tris, scalars=scalars, colormap=\"viridis\")\ns2.enable_contours = True\ns2.actor.mapper.scalar_range = np.array([0.0, 1.0])\ns2.actor.mapper.scalar_visibility = False\ns2.actor.property.render_lines_as_tubes = True\ns2.actor.property.line_width = 3.0"
      ]
    },
    {
      "cell_type": "code",
      "execution_count": null,
      "metadata": {
        "collapsed": false
      },
      "outputs": [],
      "source": [
        "points = np.array([[0.01, 1, 1], [0.01, 1, -1], [0.01, -1, -1], [0.01, -1, 1]]) * 2\ntris = np.array([[0, 1, 2], [2, 3, 0]])\nmesh2 = trimesh.Trimesh(points, tris)\nfor ii in range(7):\n    mesh2 = mesh2.subdivide()\n\nU = scalar_potential_coupling(mesh, mesh2.vertices) @ scalars\n\ns3 = mlab.triangular_mesh(*mesh2.vertices.T, mesh2.faces, scalars=U, colormap=\"bwr\")\ns3.enable_contours = True\ns3.contour.minimum_contour = -5.2e-07\ns3.contour.maximum_contour = 5.2e-07\ns3.actor.property.render_lines_as_tubes = True\ns3.actor.property.line_width = 3.0"
      ]
    },
    {
      "cell_type": "code",
      "execution_count": null,
      "metadata": {
        "collapsed": false
      },
      "outputs": [],
      "source": [
        "if False:\n    points = (\n        np.array([[1, 1, -0.01], [1, -1, -0.01], [-1, -1, -0.01], [-1, 1, -0.01]]) * 2\n    )\n    tris = np.array([[0, 1, 2], [2, 3, 0]])\n    mesh3 = trimesh.Trimesh(points, tris)\n    for ii in range(5):\n        mesh3 = mesh3.subdivide()\n    A = vector_potential_coupling(mesh, mesh3.vertices) @ scalars\n    vectors = mlab.quiver3d(*mesh3.vertices.T, *A, mode=\"2ddash\", color=(0, 0, 1))\n    vectors.glyph.glyph_source.glyph_position = \"center\"\n    vectors.actor.property.render_lines_as_tubes = True\n    vectors.actor.property.line_width = 3.0"
      ]
    },
    {
      "cell_type": "code",
      "execution_count": null,
      "metadata": {
        "collapsed": false
      },
      "outputs": [],
      "source": [
        "points = (\n    np.array([[0.001, 1, 1], [0.001, 1, -1], [0.001, -1, -1], [0.001, -1, 1]]) * 2\n    + 0.001\n)\ntris = np.array([[0, 1, 2], [2, 3, 0]])\nmesh2 = trimesh.Trimesh(points, tris)\nfor ii in range(6):\n    mesh2 = mesh2.subdivide()\n\nB0 = magnetic_field_coupling(mesh, mesh2.vertices) @ scalars\nB1 = magnetic_field_coupling_analytic(mesh, mesh2.vertices) @ scalars\n# B1[0] = 0\nvectors = mlab.quiver3d(*mesh2.vertices.T, *B1.T, mode=\"arrow\", color=(1, 0, 1))\nvectors.glyph.glyph_source.glyph_position = \"center\"\n# vectors.actor.property.render_lines_as_tubes = True\n# vectors.actor.property.line_width = 3.0"
      ]
    }
  ],
  "metadata": {
    "kernelspec": {
      "display_name": "Python 3",
      "language": "python",
      "name": "python3"
    },
    "language_info": {
      "codemirror_mode": {
        "name": "ipython",
        "version": 3
      },
      "file_extension": ".py",
      "mimetype": "text/x-python",
      "name": "python",
      "nbconvert_exporter": "python",
      "pygments_lexer": "ipython3",
      "version": "3.7.3"
    }
  },
  "nbformat": 4,
  "nbformat_minor": 0
}