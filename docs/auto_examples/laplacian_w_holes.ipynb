{
  "cells": [
    {
      "cell_type": "code",
      "execution_count": null,
      "metadata": {
        "collapsed": false
      },
      "outputs": [],
      "source": [
        "%matplotlib inline"
      ]
    },
    {
      "cell_type": "markdown",
      "metadata": {},
      "source": [
        "\nCreated on Mon Nov  4 09:37:19 2019\n\n@author: Antti\n\n"
      ]
    },
    {
      "cell_type": "code",
      "execution_count": null,
      "metadata": {
        "collapsed": false
      },
      "outputs": [],
      "source": [
        "import numpy as np\nimport trimesh\nfrom timeit import timeit\nfrom mayavi import mlab\nimport matplotlib.pyplot as plt\n\nimport pkg_resources\nimport sys\n#path = '/m/home/home8/80/makinea1/unix/pythonstuff/bfieldtools'\n#if path not in sys.path:\n#    sys.path.insert(0,path)\n\nfrom bfieldtools.laplacian_mesh import laplacian_matrix, mass_matrix\nfrom bfieldtools.mesh_class import MeshWrapper\n\n\n#Load simple plane mesh that is centered on the origin\nfile_obj = pkg_resources.resource_filename('bfieldtools',\n                    'example_meshes/plane_w_holes.stl')\ncoilmesh = trimesh.load(file_obj, process=True)\ncoil = MeshWrapper(mesh_obj = coilmesh)\n\nmlab.triangular_mesh(*coilmesh.vertices.T, coilmesh.faces)\nmlab.points3d([-6,6,0], [0,0,0], [0,0,0])\n#mlab.show()\n\n#%%\ni1 = np.sum((coilmesh.vertices[coil.boundary_verts] - np.array([6,0,0]))**2, axis=1) < 3**2\ni2 = np.sum((coilmesh.vertices[coil.boundary_verts] - np.array([0,0,0]))**2, axis=1) < 3**2\ni3 = np.sum((coilmesh.vertices[coil.boundary_verts] - np.array([-6,0,0]))**2, axis=1) < 3**2\n\nb1 = coil.boundary_verts[i1]\nb2 = coil.boundary_verts[i2]\nb3 = coil.boundary_verts[i3]\nb4 = coil.boundary_verts[np.logical_not(i1+i2+i3)]\n\n#%%\nL = laplacian_matrix(coilmesh)\nM = mass_matrix(coilmesh)\nLinner = L[coil.inner_verts, :][:, coil.inner_verts]\nMinner = M[coil.inner_verts, :][:, coil.inner_verts]\n\nL1 = np.array(np.sum(L[b1,:][:, coil.inner_verts], axis=0))\nL2 = np.array(np.sum(L[b2,:][:, coil.inner_verts], axis=0))\nL3 = np.array(np.sum(L[b3,:][:, coil.inner_verts], axis=0))\n\nu1 = np.linalg.solve(Linner.toarray() , -L1[0])\n\nscalars = np.zeros(L.shape[0])\nscalars[coil.inner_verts] =u1\nmlab.triangular_mesh(*coilmesh.vertices.T, coilmesh.faces, scalars=scalars)\n#mlab.show()\n\n\n#%%\nL_holes = np.concatenate((Linner.toarray(), L1.T, L2.T, L3.T), axis=1)\nL11 = np.concatenate((L1, np.array([[-L1.sum(), 0, 0]])), axis=1)\nL21 = np.concatenate((L2, np.array([[0, -L2.sum(), 0]])), axis=1)\nL31 = np.concatenate((L3, np.array([[0, 0, -L3.sum()]])), axis=1)\nL_holes = np.concatenate((L_holes, L11, L21, L31) ,axis=0)\n\n#%%\nm = M.diagonal()\nM_holes = np.diag(np.concatenate((Minner.diagonal(), np.array([np.sum(m[b1]),\n                                 np.sum(m[b2]), np.sum(m[b3])]))))\n\n#%%\nfrom scipy.linalg import eigh\nee, vv = eigh(-L_holes, M_holes, eigvals=(0,10))"
      ]
    },
    {
      "cell_type": "markdown",
      "metadata": {},
      "source": [
        "%%\n\n"
      ]
    },
    {
      "cell_type": "code",
      "execution_count": null,
      "metadata": {
        "collapsed": false
      },
      "outputs": [],
      "source": [
        "from scipy.linalg import eigh\nu, v = eigh(-L_holes, M_holes)\n\n\n#Normalize the laplacien eigenvectors\n\nfor i in range(v.shape[1]):\n    v[:, i] = v[:, i]/np.sqrt(u[i])\n\n#Assign values per vertex\nvl = np.zeros((M.shape[0], v.shape[1]))\n\nvl[coil.inner_verts] = v[:-3]\nvl[b1] = v[-3]\nvl[b2] = v[-2]\nvl[b3] = v[-1]\n\n\nverts = coil.mesh.vertices\ntris = coil.mesh.faces\n\nNmodes = 600\nscale = 1\ncontours=True\ncolormap='bwr'\n\nmlab.figure()\n\nfor ii in range(Nmodes):\n    n = int(np.sqrt(Nmodes))\n    i = ii % n\n    j = int(ii/n)\n\n    x = scale*verts[:, 0] + i*(np.max(verts[:, 0]) - np.min(verts[:, 0]))*1.2\n    y = scale*verts[:, 1]+ j*(np.max(verts[:, 1]) - np.min(verts[:, 1]))*1.2\n    z = scale*verts[:, 2]\n\n    limit = np.max(np.abs(vl[:, ii]))\n\n    s = mlab.triangular_mesh(x, y, z, tris, scalars=vl[:, ii], colormap=colormap)\n\n    s.module_manager.scalar_lut_manager.number_of_colors = 256\n    s.module_manager.scalar_lut_manager.data_range = np.array([-limit,limit])\n    s.actor.mapper.interpolate_scalars_before_mapping = True\n    s.enable_contours = contours"
      ]
    }
  ],
  "metadata": {
    "kernelspec": {
      "display_name": "Python 3",
      "language": "python",
      "name": "python3"
    },
    "language_info": {
      "codemirror_mode": {
        "name": "ipython",
        "version": 3
      },
      "file_extension": ".py",
      "mimetype": "text/x-python",
      "name": "python",
      "nbconvert_exporter": "python",
      "pygments_lexer": "ipython3",
      "version": "3.6.7"
    }
  },
  "nbformat": 4,
  "nbformat_minor": 0
}