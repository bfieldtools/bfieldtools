{
  "cells": [
    {
      "cell_type": "code",
      "execution_count": null,
      "metadata": {
        "collapsed": false
      },
      "outputs": [],
      "source": [
        "%matplotlib inline"
      ]
    },
    {
      "cell_type": "markdown",
      "metadata": {},
      "source": [
        "\nShielded cylindrical coil\n=========================\nCompact example of design of a shielded cylindrical coil, for which the transient field\ndue to inductive interaction with the shield is minimized\n\n"
      ]
    },
    {
      "cell_type": "code",
      "execution_count": null,
      "metadata": {
        "collapsed": false
      },
      "outputs": [],
      "source": [
        "import numpy as np\nfrom mayavi import mlab\nimport trimesh\n\n\nfrom bfieldtools.mesh_class import MeshWrapper\nfrom bfieldtools.magnetic_field_mesh import compute_C\nfrom bfieldtools.coil_optimize import optimize_streamfunctions\nfrom bfieldtools.mutual_inductance_mesh import mutual_inductance_matrix\n\nimport pkg_resources\n\n\n#Set unit, e.g. meter or millimeter.\n# This doesn't matter, the problem is scale-invariant\nscaling_factor = 1\n\n\n#Load example coil mesh that is centered on the origin\ncoilmesh = trimesh.load(file_obj=pkg_resources.resource_filename('bfieldtools', 'example_meshes/cylinder.stl'), process=True)\n\ncoilmesh.apply_scale(0.75)\n\ncoilmesh.vertices, coilmesh.faces = trimesh.remesh.subdivide(coilmesh.vertices, coilmesh.faces)\n\n#Specify offset from origin\ncenter_offset = np.array([0, 0, 0.75])\n\n#Apply offset\ncoilmesh = trimesh.Trimesh(coilmesh.vertices + center_offset,\n                            coilmesh.faces, process=False)\n\n#Create mesh class object\ncoil = MeshWrapper(verts=coilmesh.vertices, tris=coilmesh.faces, fix_normals=True)\n\n# Separate object for shield geometry\nshield = MeshWrapper(mesh_file=pkg_resources.resource_filename('bfieldtools', 'example_meshes/cylinder.stl'), process=True, fix_normals=True)"
      ]
    },
    {
      "cell_type": "markdown",
      "metadata": {},
      "source": [
        "Set up target  points and plot geometry\n\n"
      ]
    },
    {
      "cell_type": "code",
      "execution_count": null,
      "metadata": {
        "collapsed": false
      },
      "outputs": [],
      "source": [
        "#Here, the target points are on a volumetric grid within a sphere\n\ncenter = np.array([0, 0, 3])\n\nsidelength = 0.75 * scaling_factor\nn = 12\nxx = np.linspace(-sidelength/2, sidelength/2, n)\nyy = np.linspace(-sidelength/2, sidelength/2, n)\nzz = np.linspace(-sidelength/2, sidelength/2, n)\nX, Y, Z = np.meshgrid(xx, yy, zz, indexing='ij')\n\nx = X.ravel()\ny = Y.ravel()\nz = Z.ravel()\n\ntarget_points = np.array([x, y, z]).T\n\n#Turn cube into sphere by rejecting points \"in the corners\"\ntarget_points = target_points[np.linalg.norm(target_points, axis=1) < sidelength/2]  + center\n\n\n#Plot coil, shield and target points\n\nf = mlab.figure(None, bgcolor=(1, 1, 1), fgcolor=(0.5, 0.5, 0.5),\n                size=(800, 800))\n\ncoil.plot_mesh()\nshield.plot_mesh()\nmlab.points3d(*target_points.T)"
      ]
    },
    {
      "cell_type": "markdown",
      "metadata": {},
      "source": [
        "Compute C matrices that are used to compute the generated magnetic field\n\n"
      ]
    },
    {
      "cell_type": "code",
      "execution_count": null,
      "metadata": {
        "collapsed": false
      },
      "outputs": [],
      "source": [
        "coil.C = compute_C(coil.mesh, target_points)\nshield.C = compute_C(shield.mesh, target_points)\n\nmutual_inductance = mutual_inductance_matrix(coil.mesh, shield.mesh)\n\n# Take into account the field produced by currents induced into the shield\n# NB! This expression is for instantaneous step-function switching of coil current, see Eq. 18 in G.N. Peeren, 2003.\n\nshield.coupling = -np.linalg.pinv(shield.inductance) @ mutual_inductance.T\nsecondary_C = (shield.C.transpose((0,2,1)) @ shield.coupling).transpose((0,2,1))"
      ]
    },
    {
      "cell_type": "markdown",
      "metadata": {},
      "source": [
        "Create bfield specifications used when optimizing the coil geometry\n\n"
      ]
    },
    {
      "cell_type": "code",
      "execution_count": null,
      "metadata": {
        "collapsed": false
      },
      "outputs": [],
      "source": [
        "#The absolute target field amplitude is not of importance,\n# and it is scaled to match the C matrix in the optimization function\ntarget_field = np.zeros(target_points.shape)\ntarget_field[:, 1] = target_field[:, 1] + 1 # Homogeneous Z-field\n\ntarget_spec = {'C':coil.C, 'rel_error':0.01, 'abs_error':0, 'target_field':target_field}\n\n\ninduction_spec = {'C':secondary_C, 'abs_error':0.1, 'rel_error':0, 'target_field':np.zeros(target_field.shape)}"
      ]
    },
    {
      "cell_type": "markdown",
      "metadata": {},
      "source": [
        "Run QP solver\n\n"
      ]
    },
    {
      "cell_type": "code",
      "execution_count": null,
      "metadata": {
        "collapsed": false
      },
      "outputs": [],
      "source": [
        "# The tolerance parameter will determine the spatial detail of the coil.\n# Smaller tolerance means better but more intricate patterns. Too small values\n# will not be solveable.\ntolerance = 0.5\n\ncoil.I, coil.sol = optimize_streamfunctions(coil,\n                                            [target_spec, induction_spec],\n                                            laplacian_smooth=0,\n                                            tolerance=tolerance)\n\nshield.induced_I = shield.coupling @ coil.I"
      ]
    },
    {
      "cell_type": "markdown",
      "metadata": {},
      "source": [
        "Plot coil windings and target points\n\n"
      ]
    },
    {
      "cell_type": "code",
      "execution_count": null,
      "metadata": {
        "collapsed": false
      },
      "outputs": [],
      "source": [
        "f = mlab.figure(None, bgcolor=(1, 1, 1), fgcolor=(0.5, 0.5, 0.5),\n           size=(800, 800))\nmlab.clf()\n\nsurface = mlab.pipeline.triangular_mesh_source(*coil.mesh.vertices.T, coil.mesh.faces,scalars=coil.I)\n\nwindings = mlab.pipeline.contour_surface(surface, contours=20)\nwindings.module_manager.scalar_lut_manager.number_of_colors = 2 #Color windings according to current direction\nwindings.module_manager.scalar_lut_manager.reverse_lut = True #Flip LUT for the colors to correspond to RdBu colormap\n\nshield_surface = mlab.pipeline.triangular_mesh_source(*shield.mesh.vertices.T, shield.mesh.faces,scalars=shield.induced_I)\n\nshield_surface_render = mlab.pipeline.surface(shield_surface, colormap='RdBu')\n\nshield_surface_render.actor.property.frontface_culling = True\n\nB_target = coil.C.transpose([0, 2, 1]) @ coil.I\n\nmlab.quiver3d(*target_points.T, *B_target.T)\n\nmlab.title('Coils which minimize the transient effects of conductive shield')"
      ]
    },
    {
      "cell_type": "markdown",
      "metadata": {},
      "source": [
        "For comparison, let's see how the coils look when we ignore the conducting shield\n\n"
      ]
    },
    {
      "cell_type": "code",
      "execution_count": null,
      "metadata": {
        "collapsed": false
      },
      "outputs": [],
      "source": [
        "# The tolerance parameter will determine the spatial detail of the coil.\n# Smaller tolerance means better but more intricate patterns. Too small values\n# will not be solveable.\ntolerance = 0.5\n\ncoil.unshielded_I, coil.unshielded_sol = optimize_streamfunctions(coil,\n                                            [target_spec],\n                                            laplacian_smooth=0,\n                                            tolerance=tolerance)\n\nshield.unshielded_induced_I = shield.coupling @ coil.unshielded_I\n\nf = mlab.figure(None, bgcolor=(1, 1, 1), fgcolor=(0.5, 0.5, 0.5),\n                size=(800, 800))\nmlab.clf()\n\nsurface = mlab.pipeline.triangular_mesh_source(*coil.mesh.vertices.T, coil.mesh.faces,scalars=coil.unshielded_I)\n\nwindings = mlab.pipeline.contour_surface(surface, contours=20)\nwindings.module_manager.scalar_lut_manager.number_of_colors = 2 #Color windings according to current direction\nwindings.module_manager.scalar_lut_manager.reverse_lut = True #Flip LUT for the colors to correspond to RdBu colormap\n\nshield_surface = mlab.pipeline.triangular_mesh_source(*shield.mesh.vertices.T, shield.mesh.faces,scalars=shield.unshielded_induced_I)\n\nshield_surface_render = mlab.pipeline.surface(shield_surface, colormap='RdBu')\n\nshield_surface_render.actor.property.frontface_culling = True\n\nB_target = coil.C.transpose([0, 2, 1]) @ coil.unshielded_I\n\nmlab.quiver3d(*target_points.T, *B_target.T)\n\nmlab.title('Coils which ignore the conductive shield')"
      ]
    }
  ],
  "metadata": {
    "kernelspec": {
      "display_name": "Python 3",
      "language": "python",
      "name": "python3"
    },
    "language_info": {
      "codemirror_mode": {
        "name": "ipython",
        "version": 3
      },
      "file_extension": ".py",
      "mimetype": "text/x-python",
      "name": "python",
      "nbconvert_exporter": "python",
      "pygments_lexer": "ipython3",
      "version": "3.6.7"
    }
  },
  "nbformat": 4,
  "nbformat_minor": 0
}