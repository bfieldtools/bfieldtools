{
  "cells": [
    {
      "cell_type": "code",
      "execution_count": null,
      "metadata": {
        "collapsed": false
      },
      "outputs": [],
      "source": [
        "%matplotlib inline"
      ]
    },
    {
      "cell_type": "markdown",
      "metadata": {},
      "source": [
        "\nCoil with minimal eddy currents\n===============================\nCompact example of design of a cylindrical coil surrounded by a RF shield, i.e. a conductive surface.\nThe effects of eddy currents due to inductive interaction with the shield is minimized\n"
      ]
    },
    {
      "cell_type": "code",
      "execution_count": null,
      "metadata": {
        "collapsed": false
      },
      "outputs": [],
      "source": [
        "import numpy as np\nfrom mayavi import mlab\nimport trimesh\n\n\nfrom bfieldtools.conductor import Conductor\n\nfrom bfieldtools.coil_optimize import optimize_streamfunctions\nfrom bfieldtools.contour import scalar_contour\nfrom bfieldtools.viz import plot_3d_current_loops, plot_data_on_vertices\n\nimport pkg_resources\n\nfrom pyface.api import GUI\n_gui = GUI()\n\n\n#Set unit, e.g. meter or millimeter.\n# This doesn't matter, the problem is scale-invariant\nscaling_factor = 1\n\n\n#Load example coil mesh that is centered on the origin\ncoilmesh = trimesh.load(file_obj=pkg_resources.resource_filename('bfieldtools', 'example_meshes/open_cylinder.stl'), process=True)\n\nangle = np.pi/2\nrotation_matrix = np.array([[np.cos(angle), 0, np.sin(angle), 0],\n                              [0, 1, 0, 0],\n                              [-np.sin(angle), 0, np.cos(angle), 0],\n                              [0, 0, 0, 1]\n                              ])\n\ncoilmesh.apply_transform(rotation_matrix)\n\ncoilmesh1 = coilmesh.copy()\n#coilmesh1.apply_scale(1.3)\n\ncoilmesh2 = coilmesh.copy()\n\n#coilmesh1 = coilmesh.union(coilmesh1)\n#coilmesh1 = coilmesh1.subdivide().subdivide()\n#coilmesh2 = coilmesh.subdivide()\n\n\n#Create mesh class object\ncoil = Conductor(verts=coilmesh1.vertices*0.75, tris=coilmesh1.faces,\n                 fix_normals=True,\n                 basis_name='suh',\n                 N_suh=400\n                 )\n\n\ndef alu_sigma(T):\n    ref_T = 293 #K\n    ref_rho = 2.82e-8 #ohm*meter\n    alpha = 0.0039 #1/K\n\n\n    rho = alpha * (T - ref_T) * ref_rho + ref_rho\n\n    return 1/rho\n\nresistivity = 1/alu_sigma(T=293) #room-temp Aluminium\nthickness = 0.5e-3 # 0.5 mm thick\n\n\n# Separate object for shield geometry\nshield = Conductor(verts=coilmesh2.vertices.copy()*1.1, tris=coilmesh2.faces.copy(),\n                   fix_normals=True,\n                   basis_name='inner',\n                   resistivity=resistivity,\n                   thickness=thickness)"
      ]
    },
    {
      "cell_type": "markdown",
      "metadata": {},
      "source": [
        "Set up target  points and plot geometry\n\n"
      ]
    },
    {
      "cell_type": "code",
      "execution_count": null,
      "metadata": {
        "collapsed": false
      },
      "outputs": [],
      "source": [
        "#Here, the target points are on a volumetric grid within a sphere\n\ncenter = np.array([0, 0, 0])\n\nsidelength = 0.25 * scaling_factor\nn = 12\nxx = np.linspace(-sidelength/2, sidelength/2, n)\nyy = np.linspace(-sidelength/2, sidelength/2, n)\nzz = np.linspace(-sidelength/2, sidelength/2, n)\nX, Y, Z = np.meshgrid(xx, yy, zz, indexing='ij')\n\nx = X.ravel()\ny = Y.ravel()\nz = Z.ravel()\n\ntarget_points = np.array([x, y, z]).T\n\n#Turn cube into sphere by rejecting points \"in the corners\"\ntarget_points = target_points[np.linalg.norm(target_points, axis=1) < sidelength/2]  + center\n\n\n#Plot coil, shield and target points\nf = mlab.figure(None, bgcolor=(1, 1, 1), fgcolor=(0.5, 0.5, 0.5),\n            size=(800, 800))\ncoil.plot_mesh()\nshield.plot_mesh()\nmlab.points3d(*target_points.T)"
      ]
    },
    {
      "cell_type": "markdown",
      "metadata": {},
      "source": [
        "Compute C matrices that are used to compute the generated magnetic field\n\n"
      ]
    },
    {
      "cell_type": "code",
      "execution_count": null,
      "metadata": {
        "collapsed": false
      },
      "outputs": [],
      "source": [
        "mutual_inductance = coil.mutual_inductance(shield)\n\n# Take into account the field produced by currents induced into the shield\n# NB! This expression is for instantaneous step-function switching of coil current, see Eq. 18 in G.N. Peeren, 2003.\n\nshield.M_coupling = np.linalg.solve(-shield.inductance, mutual_inductance.T)\nsecondary_C = shield.B_coupling(target_points) @ -shield.M_coupling"
      ]
    },
    {
      "cell_type": "markdown",
      "metadata": {},
      "source": [
        "Create bfield specifications used when optimizing the coil geometry\n\n"
      ]
    },
    {
      "cell_type": "code",
      "execution_count": null,
      "metadata": {
        "collapsed": false
      },
      "outputs": [],
      "source": [
        "#The absolute target field amplitude is not of importance,\n# and it is scaled to match the C matrix in the optimization function\n\ntarget_field = np.zeros(target_points.shape)\ntarget_field[:, 1] = target_field[:, 1] + 1\n\n\ntarget_spec = {'coupling':coil.B_coupling(target_points), 'abs_error':0.01, 'target':target_field}\n\n\n\n\nfrom scipy.linalg import eigh\nl, U = eigh(shield.resistance, shield.inductance, eigvals=(0, 500))\n#\n#U = np.zeros((shield.inductance.shape[0], len(li)))\n#U[shield.inner_verts, :] = Ui\n\n\n#\n#plt.figure()\n#plt.plot(1/li)\n\n\n#shield.M_coupling = np.linalg.solve(-shield.inductance, mutual_inductance.T)\n#secondary_C = shield.B_coupling(target_points) @ -shield.M_coupling\n\n\n#\n#tmin, tmax = 0.001, 0.001\n#Fs=10000\n\ntime = [0.001, 0.003, 0.005]\neddy_error = [0.05, 0.01, 0.0025]\n#time_decay = U @ np.exp(-l[None, :]*time[:, None]) @ np.pinv(U)\n\ntime_decay = np.zeros((len(time), shield.inductance.shape[0], shield.inductance.shape[1]))\n\ninduction_spec = []\n\n\nUinv = np.linalg.pinv(U)\nfor idx, t in enumerate(time):\n     time_decay = U @ np.diag(np.exp(-l*t)) @ Uinv\n     eddy_coupling = shield.B_coupling(target_points) @ time_decay @ shield.M_coupling\n     induction_spec.append({'coupling':eddy_coupling, 'abs_error':eddy_error[idx], 'rel_error':0, 'target':np.zeros_like(target_field)})"
      ]
    },
    {
      "cell_type": "markdown",
      "metadata": {},
      "source": [
        "Run QP solver\n\n"
      ]
    },
    {
      "cell_type": "code",
      "execution_count": null,
      "metadata": {
        "collapsed": false
      },
      "outputs": [],
      "source": [
        "import mosek\n\ncoil.s, prob = optimize_streamfunctions(coil,\n                                   [target_spec] + induction_spec,\n                                   objective='minimum_inductive_energy',\n                                   solver='MOSEK',\n                                   solver_opts={'mosek_params':{mosek.iparam.num_threads: 8}}\n                                   )\n\nfrom bfieldtools.conductor import StreamFunction\nshield.induced_s = StreamFunction(shield.M_coupling @ coil.s, shield)"
      ]
    },
    {
      "cell_type": "markdown",
      "metadata": {},
      "source": [
        "Plot coil windings and target points\n\n"
      ]
    },
    {
      "cell_type": "code",
      "execution_count": null,
      "metadata": {
        "collapsed": false
      },
      "outputs": [],
      "source": [
        "loops, loop_values= scalar_contour(coil.mesh, coil.s.vert, N_contours=6)\n\n\nf = mlab.figure(None, bgcolor=(1, 1, 1), fgcolor=(0.5, 0.5, 0.5),\n           size=(600, 500))\nmlab.clf()\n\nplot_3d_current_loops(loops, colors='auto', figure=f, tube_radius=0.005)\n\nB_target = coil.B_coupling(target_points) @ coil.s\n\nmlab.quiver3d(*target_points.T, *B_target.T)\n\nshield.plot_mesh(representation='surface', opacity=0.5, cull_back=True, color=(0.8,0.8,0.8), figure=f)\nshield.plot_mesh(representation='surface', opacity=1, cull_front=True, color=(0.8,0.8,0.8), figure=f)\n\nf.scene.camera.parallel_projection=1\n\nf.scene.camera.zoom(1.4)"
      ]
    },
    {
      "cell_type": "markdown",
      "metadata": {},
      "source": [
        "For comparison, let's see how the coils look when we ignore the conducting shield\n\n"
      ]
    },
    {
      "cell_type": "code",
      "execution_count": null,
      "metadata": {
        "collapsed": false
      },
      "outputs": [],
      "source": [
        "coil.unshielded_s, coil.unshielded_prob = optimize_streamfunctions(coil,\n                                   [target_spec],\n                                   objective='minimum_inductive_energy',\n                                   solver='MOSEK',\n                                   solver_opts={'mosek_params':{mosek.iparam.num_threads: 8}}\n                                   )\n\nshield.unshielded_induced_s = StreamFunction(shield.M_coupling @ coil.unshielded_s, shield)\n\nloops, loop_values= scalar_contour(coil.mesh, coil.unshielded_s.vert, N_contours=6)\n\nf = mlab.figure(None, bgcolor=(1, 1, 1), fgcolor=(0.5, 0.5, 0.5),\n           size=(600, 500))\nmlab.clf()\n\nplot_3d_current_loops(loops, colors='auto', figure=f, tube_radius=0.005)\n\nB_target_unshielded = coil.B_coupling(target_points) @ coil.unshielded_s\n\nmlab.quiver3d(*target_points.T, *B_target_unshielded.T)\n\nshield.plot_mesh(representation='surface', opacity=0.5, cull_back=True, color=(0.8,0.8,0.8), figure=f)\nshield.plot_mesh(representation='surface', opacity=1, cull_front=True, color=(0.8,0.8,0.8), figure=f)\n\nf.scene.camera.parallel_projection=1\n\nf.scene.camera.zoom(1.4)"
      ]
    },
    {
      "cell_type": "markdown",
      "metadata": {},
      "source": [
        "Finally, let's compare the time-courses\n\n"
      ]
    },
    {
      "cell_type": "code",
      "execution_count": null,
      "metadata": {
        "collapsed": false
      },
      "outputs": [],
      "source": [
        "tmin, tmax = 0, 0.025\nFs=2000\n\ntime = np.linspace(tmin, tmax, int(Fs*(tmax-tmin)+1))\n\ntime_decay = np.zeros((len(time), shield.inductance.shape[0], shield.inductance.shape[1]))\n\nUinv = np.linalg.pinv(U)\nfor idx, t in enumerate(time):\n     time_decay[idx] = U @ np.diag(np.exp(-l*t)) @ Uinv\n\n\n\nB_t = shield.B_coupling(target_points) @ (time_decay @ shield.induced_s).T\n\nunshieldedB_t = shield.B_coupling(target_points) @ (time_decay @ shield.unshielded_induced_s).T\n\nimport matplotlib.pyplot as plt\n\n\nfig, ax = plt.subplots(1, 1, sharex=True, figsize=(8, 4))\nax.plot(time*1e3, np.mean(np.linalg.norm(B_t, axis=1), axis=0).T, 'k-', label='Minimized', linewidth=1.5)\nax.set_ylabel('Transient field amplitude')\nax.semilogy(time*1e3, np.mean(np.linalg.norm(unshieldedB_t, axis=1), axis=0).T, 'k--', label='Ignored', linewidth=1.5 )\nax.set_xlabel('Time (ms)')\n\n\nax.set_ylim(1e-4, 0.5)\nax.set_xlim(0, 25)\n\n\nplt.grid(which='both', axis='y', alpha=0.1)\n\nplt.legend()\nfig.tight_layout()\n\nax.vlines([1, 5, 10, 20], 1e-4, 0.5, alpha=0.1, linewidth=3, color='r')"
      ]
    }
  ],
  "metadata": {
    "kernelspec": {
      "display_name": "Python 3",
      "language": "python",
      "name": "python3"
    },
    "language_info": {
      "codemirror_mode": {
        "name": "ipython",
        "version": 3
      },
      "file_extension": ".py",
      "mimetype": "text/x-python",
      "name": "python",
      "nbconvert_exporter": "python",
      "pygments_lexer": "ipython3",
      "version": "3.7.3"
    }
  },
  "nbformat": 4,
  "nbformat_minor": 0
}