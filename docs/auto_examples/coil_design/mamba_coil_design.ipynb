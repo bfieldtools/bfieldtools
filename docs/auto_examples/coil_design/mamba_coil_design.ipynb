{
  "cells": [
    {
      "cell_type": "code",
      "execution_count": null,
      "metadata": {
        "collapsed": false
      },
      "outputs": [],
      "source": [
        "%matplotlib inline"
      ]
    },
    {
      "cell_type": "markdown",
      "metadata": {},
      "source": [
        "\nMAMBA coil\n==========\n\nCompact example of a biplanar coil producing homogeneous field in a number of target\nregions arranged in a grid.\n"
      ]
    },
    {
      "cell_type": "code",
      "execution_count": null,
      "metadata": {
        "collapsed": false
      },
      "outputs": [],
      "source": [
        "import numpy as np\nfrom mayavi import mlab\nimport trimesh\n\n\nfrom bfieldtools.conductor import Conductor\nfrom bfieldtools.coil_optimize import optimize_streamfunctions\nfrom bfieldtools.contour import scalar_contour\nfrom bfieldtools.viz import plot_3d_current_loops\n\nimport pkg_resources\n\n\n# Set unit, e.g. meter or millimeter.\n# This doesn't matter, the problem is scale-invariant\nscaling_factor = 1\n\n\n# Load simple plane mesh that is centered on the origin\nplanemesh = trimesh.load(\n    file_obj=pkg_resources.resource_filename(\n        \"bfieldtools\", \"example_meshes/10x10_plane_hires.obj\"\n    ),\n    process=False,\n)\n\nplanemesh.apply_scale(scaling_factor)\n\n# planemesh.vertices, planemesh.faces = trimesh.remesh.subdivide(planemesh.vertices, planemesh.faces)\n\n\n# Specify coil plane geometry\ncenter_offset = np.array([0, 0, 0]) * scaling_factor\nstandoff = np.array([0, 1.5, 0]) * scaling_factor\n\n# Create coil plane pairs\ncoil_plus = trimesh.Trimesh(\n    planemesh.vertices + center_offset + standoff, planemesh.faces, process=False\n)\n\ncoil_minus = trimesh.Trimesh(\n    planemesh.vertices + center_offset - standoff, planemesh.faces, process=False\n)\n\njoined_planes = coil_plus.union(coil_minus)\n\n# Create mesh class object\ncoil = Conductor(\n    verts=joined_planes.vertices, tris=joined_planes.faces, fix_normals=True\n)"
      ]
    },
    {
      "cell_type": "markdown",
      "metadata": {},
      "source": [
        "Set up target and stray field points. Here, the target points are on a planar\n4x4 grid slightly smaller than the coil dimensions.\n\n"
      ]
    },
    {
      "cell_type": "code",
      "execution_count": null,
      "metadata": {
        "collapsed": false
      },
      "outputs": [],
      "source": [
        "center = np.array([0, 0, 0]) * scaling_factor\n\nsidelength = 0.5 * scaling_factor\nn = 4\n\nheight = 0.1\nn_height = 2\nxx = np.linspace(-sidelength / 2, sidelength / 2, n)\nyy = np.linspace(-height / 2, height / 2, n_height)\nzz = np.linspace(-sidelength / 2, sidelength / 2, n)\nX, Y, Z = np.meshgrid(xx, yy, zz, indexing=\"ij\")\n\nx = X.ravel()\ny = Y.ravel()\nz = Z.ravel()\n\ntarget_points = np.array([x, y, z]).T\n\n\ngrid_target_points = list()\ntarget_field = list()\n\nhori_offsets = [-3, -1, 1, 3]\nvert_offsets = [-3, -1, 1, 3]\n\nfor i, offset_x in enumerate(hori_offsets):\n    for j, offset_y in enumerate(vert_offsets):\n        grid_target_points.append(target_points + np.array([offset_x, 0, offset_y]))\n        target_field.append((i + j - 3) * np.ones((len(target_points),)))\n\ntarget_points = np.asarray(grid_target_points).reshape((-1, 3))\ntarget_field = np.asarray(target_field).reshape((-1,))\n\ntarget_field = np.array(\n    [np.zeros((len(target_field),)), target_field, np.zeros((len(target_field),))]\n).T\n\n\ntarget_rel_error = np.zeros_like(target_field)\ntarget_rel_error[:, 1] += 0.05\n\ntarget_abs_error = np.zeros_like(target_field)\ntarget_abs_error[:, 1] += 0.01\ntarget_abs_error[:, 0::2] += 0.05"
      ]
    },
    {
      "cell_type": "markdown",
      "metadata": {},
      "source": [
        "Plot target points and mesh\n\n"
      ]
    },
    {
      "cell_type": "code",
      "execution_count": null,
      "metadata": {
        "collapsed": false
      },
      "outputs": [],
      "source": [
        "scene = mlab.figure(None, bgcolor=(1, 1, 1), fgcolor=(0.5, 0.5, 0.5), size=(800, 800))\n\nmlab.quiver3d(*target_points.T, *target_field.T)\ncoil.plot_mesh()"
      ]
    },
    {
      "cell_type": "markdown",
      "metadata": {},
      "source": [
        "Compute coupling matrix that is used to compute the generated magnetic field, create field specification\n\n"
      ]
    },
    {
      "cell_type": "code",
      "execution_count": null,
      "metadata": {
        "collapsed": false
      },
      "outputs": [],
      "source": [
        "target_spec = {\n    \"coupling\": coil.B_coupling(target_points),\n    \"rel_error\": target_rel_error,\n    \"abs_error\": target_abs_error,\n    \"target\": target_field,\n}"
      ]
    },
    {
      "cell_type": "markdown",
      "metadata": {},
      "source": [
        "Run QP solver\n\n"
      ]
    },
    {
      "cell_type": "code",
      "execution_count": null,
      "metadata": {
        "collapsed": false
      },
      "outputs": [],
      "source": [
        "import mosek\n\ncoil.j, prob = optimize_streamfunctions(\n    coil,\n    [target_spec],\n    objective=\"minimum_inductive_energy\",\n    solver=\"MOSEK\",\n    solver_opts={\"mosek_params\": {mosek.iparam.num_threads: 8}},\n)"
      ]
    },
    {
      "cell_type": "markdown",
      "metadata": {},
      "source": [
        "Plot coil windings and target points\n\n"
      ]
    },
    {
      "cell_type": "code",
      "execution_count": null,
      "metadata": {
        "collapsed": false
      },
      "outputs": [],
      "source": [
        "loops = scalar_contour(coil.mesh, coil.j, N_contours=10)\n\nf = mlab.figure(None, bgcolor=(1, 1, 1), fgcolor=(0.5, 0.5, 0.5), size=(800, 800))\nmlab.clf()\n\nplot_3d_current_loops(loops, colors=\"auto\", figure=f, tube_radius=0.025)\n\nB_target = coil.B_coupling(target_points) @ coil.j\n\nmlab.quiver3d(*target_points.T, *B_target.T)\n\nf.scene.isometric_view()"
      ]
    }
  ],
  "metadata": {
    "kernelspec": {
      "display_name": "Python 3",
      "language": "python",
      "name": "python3"
    },
    "language_info": {
      "codemirror_mode": {
        "name": "ipython",
        "version": 3
      },
      "file_extension": ".py",
      "mimetype": "text/x-python",
      "name": "python",
      "nbconvert_exporter": "python",
      "pygments_lexer": "ipython3",
      "version": "3.7.3"
    }
  },
  "nbformat": 4,
  "nbformat_minor": 0
}