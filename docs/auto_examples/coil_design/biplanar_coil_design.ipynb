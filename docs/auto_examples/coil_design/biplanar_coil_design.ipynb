{
  "cells": [
    {
      "cell_type": "code",
      "execution_count": null,
      "metadata": {
        "collapsed": false
      },
      "outputs": [],
      "source": [
        "%matplotlib inline"
      ]
    },
    {
      "cell_type": "markdown",
      "metadata": {},
      "source": [
        "\nBiplanar coil design\n====================\n\nExample showing a basic biplanar coil producing homogeneous field in a target\nregion between the two coil planes.\n"
      ]
    },
    {
      "cell_type": "code",
      "execution_count": null,
      "metadata": {
        "collapsed": false
      },
      "outputs": [],
      "source": [
        "import numpy as np\nimport matplotlib.pyplot as plt\nfrom mayavi import mlab\nimport trimesh\n\n\nfrom bfieldtools.conductor import Conductor\nfrom bfieldtools.coil_optimize import optimize_streamfunctions\nfrom bfieldtools.contour import scalar_contour\nfrom bfieldtools.viz import plot_3d_current_loops\nfrom bfieldtools.utils import combine_meshes\n\nimport pkg_resources\n\n\n# Set unit, e.g. meter or millimeter.\n# This doesn't matter, the problem is scale-invariant\nscaling_factor = 1\n\n\n# Load simple plane mesh that is centered on the origin\nplanemesh = trimesh.load(\n    file_obj=pkg_resources.resource_filename(\n        \"bfieldtools\", \"example_meshes/10x10_plane_hires.obj\"\n    ),\n    process=False,\n)\n\nplanemesh.apply_scale(scaling_factor * 1.6)\n\n# Specify coil plane geometry\ncenter_offset = np.array([0, 0, 0]) * scaling_factor\nstandoff = np.array([0, 5, 0]) * scaling_factor\n\n# Create coil plane pairs\ncoil_plus = trimesh.Trimesh(\n    planemesh.vertices + center_offset + standoff, planemesh.faces, process=False\n)\n\ncoil_minus = trimesh.Trimesh(\n    planemesh.vertices + center_offset - standoff, planemesh.faces, process=False\n)\n\njoined_planes = combine_meshes((coil_plus, coil_minus))\n\n# Create mesh class object\ncoil = Conductor(mesh_obj=joined_planes, fix_normals=True, basis_name=\"suh\", N_suh=100)"
      ]
    },
    {
      "cell_type": "markdown",
      "metadata": {},
      "source": [
        "Set up target and stray field points\n\n"
      ]
    },
    {
      "cell_type": "code",
      "execution_count": null,
      "metadata": {
        "collapsed": false
      },
      "outputs": [],
      "source": [
        "# Here, the target points are on a volumetric grid within a sphere\n\ncenter = np.array([0, 0, 0]) * scaling_factor\n\nsidelength = 2 * scaling_factor\nn = 8\nxx = np.linspace(-sidelength / 2, sidelength / 2, n)\nyy = np.linspace(-sidelength / 2, sidelength / 2, n)\nzz = np.linspace(-sidelength / 2, sidelength / 2, n)\nX, Y, Z = np.meshgrid(xx, yy, zz, indexing=\"ij\")\n\nx = X.ravel()\ny = Y.ravel()\nz = Z.ravel()\n\ntarget_points = np.array([x, y, z]).T\n\n# Turn cube into sphere by rejecting points \"in the corners\"\ntarget_points = (\n    target_points[np.linalg.norm(target_points, axis=1) < sidelength / 2] + center\n)\n\n\n#    #Here, the stray field points are on a spherical surface\nstray_radius = 20 * scaling_factor\n#    stray_length = 20 * scaling_factor\n#\n#    stray_points = cylinder_points(radius=stray_radius,\n#                                   length = stray_length,\n#                                   nlength = 5,\n#                                   nalpha = 30,\n#                                   orientation=np.array([1, 0, 0]))\n#\nstray_points_mesh = trimesh.creation.icosphere(subdivisions=3, radius=stray_radius)\nstray_points = stray_points_mesh.vertices + center\n\nn_stray_points = len(stray_points)"
      ]
    },
    {
      "cell_type": "markdown",
      "metadata": {},
      "source": [
        "Create bfield specifications used when optimizing the coil geometry\n\n"
      ]
    },
    {
      "cell_type": "code",
      "execution_count": null,
      "metadata": {
        "collapsed": false
      },
      "outputs": [],
      "source": [
        "# The absolute target field amplitude is not of importance,\n# and it is scaled to match the C matrix in the optimization function\n\ntarget_field = np.zeros(target_points.shape)\ntarget_field[:, 0] = target_field[:, 0] + 1\n\ntarget_spec = {\n    \"coupling\": coil.B_coupling(target_points),\n    \"abs_error\": 0.01,\n    \"target\": target_field,\n}\nstray_spec = {\n    \"coupling\": coil.B_coupling(stray_points),\n    \"abs_error\": 0.01,\n    \"target\": np.zeros((n_stray_points, 3)),\n}\n\nbfield_specification = [target_spec, stray_spec]"
      ]
    },
    {
      "cell_type": "markdown",
      "metadata": {},
      "source": [
        "# Compute the optimal stream function, either using a numerical solver or regularized least squares\n\n"
      ]
    },
    {
      "cell_type": "code",
      "execution_count": null,
      "metadata": {
        "collapsed": false
      },
      "outputs": [],
      "source": [
        "import mosek\n\ncoil.s, prob = optimize_streamfunctions(\n    coil,\n    [target_spec, stray_spec],\n    objective=\"minimum_resistive_energy\",\n    solver=\"MOSEK\",\n    solver_opts={\"mosek_params\": {mosek.iparam.num_threads: 8}},\n)"
      ]
    },
    {
      "cell_type": "markdown",
      "metadata": {},
      "source": [
        "Plot coil windings and target points\n\n"
      ]
    },
    {
      "cell_type": "code",
      "execution_count": null,
      "metadata": {
        "collapsed": false
      },
      "outputs": [],
      "source": [
        "N_contours = 10\n\nloops = scalar_contour(coil.mesh, coil.s, N_contours=N_contours)\n\nf = mlab.figure(None, bgcolor=(1, 1, 1), fgcolor=(0.5, 0.5, 0.5), size=(800, 800))\nmlab.clf()\n\nplot_3d_current_loops(loops, colors=\"auto\", figure=f)\n\nB_target = coil.B_coupling(target_points) @ coil.s\n\nmlab.quiver3d(*target_points.T, *B_target.T)"
      ]
    },
    {
      "cell_type": "markdown",
      "metadata": {},
      "source": [
        "Plot cross-section of magnetic field and magnetic potential of the discretized loops\n\n"
      ]
    },
    {
      "cell_type": "code",
      "execution_count": null,
      "metadata": {
        "collapsed": false
      },
      "outputs": [],
      "source": [
        "from bfieldtools.line_magnetics import magnetic_field, scalar_potential\n\nx = y = np.linspace(-12, 12, 250)\nX, Y = np.meshgrid(x, y, indexing=\"ij\")\npoints = np.zeros((X.flatten().shape[0], 3))\npoints[:, 0] = X.flatten()\npoints[:, 1] = Y.flatten()\n\nB = np.zeros_like(points)\nU = np.zeros((points.shape[0],))\nfor loop_idx in range(len(loops)):\n    B += magnetic_field(np.vstack((loops[loop_idx], loops[loop_idx][0])), points)\n    U += scalar_potential(np.vstack((loops[loop_idx], loops[loop_idx][0])), points)\n\nB = B.T[:2].reshape(2, x.shape[0], y.shape[0])\nlw = np.sqrt(B[0] ** 2 + B[1] ** 2)\nlw = 2 * lw / np.max(lw)\n\nU = U.reshape(x.shape[0], y.shape[0])\n\nplt.figure()\n\nplt.pcolormesh(X, Y, U.T, cmap=\"seismic\", shading=\"gouraud\")\n# plt.imshow(U, vmin=-1.0, vmax=1.0, cmap='seismic', interpolation='bicubic',\n#           extent=(x.min(), x.max(), y.min(), y.max()))\n\nseed_points = points[:, :2] * 0.3\n\nplt.streamplot(\n    x,\n    y,\n    B[1],\n    B[0],\n    density=2,\n    linewidth=lw,\n    color=\"k\",\n    integration_direction=\"both\",\n    start_points=seed_points,\n)\nplt.axis(\"equal\")\nplt.axis(\"off\")\nfor loop in loops:\n    plt.plot(loop[:, 1], loop[:, 0], \"k\", linewidth=4, alpha=0.1)\n\nplt.tight_layout()"
      ]
    },
    {
      "cell_type": "markdown",
      "metadata": {},
      "source": [
        "Lets also do the same coil optimization using regularized least-squares\n\n"
      ]
    },
    {
      "cell_type": "code",
      "execution_count": null,
      "metadata": {
        "collapsed": false
      },
      "outputs": [],
      "source": [
        "from bfieldtools.coil_optimize import optimize_lsq\n\ncoil.s2 = optimize_lsq(\n    coil, [target_spec, stray_spec], objective=\"minimum_resistive_energy\", reg=1e6\n)"
      ]
    },
    {
      "cell_type": "markdown",
      "metadata": {},
      "source": [
        "Plot coil windings and target points\n\n"
      ]
    },
    {
      "cell_type": "code",
      "execution_count": null,
      "metadata": {
        "collapsed": false
      },
      "outputs": [],
      "source": [
        "N_contours = 10\n\nloops = scalar_contour(coil.mesh, coil.s2, N_contours=N_contours)\n\nf = mlab.figure(None, bgcolor=(1, 1, 1), fgcolor=(0.5, 0.5, 0.5), size=(800, 800))\nmlab.clf()\n\nplot_3d_current_loops(loops, colors=\"auto\", figure=f)\n\nB_target = coil.B_coupling(target_points) @ coil.s2\n\nmlab.quiver3d(*target_points.T, *B_target.T)"
      ]
    },
    {
      "cell_type": "markdown",
      "metadata": {},
      "source": [
        "Plot cross-section of magnetic field and magnetic potential of the discretized loops\n\n"
      ]
    },
    {
      "cell_type": "code",
      "execution_count": null,
      "metadata": {
        "collapsed": false
      },
      "outputs": [],
      "source": [
        "from bfieldtools.line_magnetics import magnetic_field, scalar_potential\n\nx = y = np.linspace(-12, 12, 250)\nX, Y = np.meshgrid(x, y, indexing=\"ij\")\npoints = np.zeros((X.flatten().shape[0], 3))\npoints[:, 0] = X.flatten()\npoints[:, 1] = Y.flatten()\n\nB = np.zeros_like(points)\nU = np.zeros((points.shape[0],))\nfor loop_idx in range(len(loops)):\n    B += magnetic_field(np.vstack((loops[loop_idx], loops[loop_idx][0])), points)\n    U += scalar_potential(np.vstack((loops[loop_idx], loops[loop_idx][0])), points)\n\nB = B.T[:2].reshape(2, x.shape[0], y.shape[0])\nlw = np.sqrt(B[0] ** 2 + B[1] ** 2)\nlw = 2 * lw / np.max(lw)\n\nU = U.reshape(x.shape[0], y.shape[0])\n\nplt.figure()\n\nplt.pcolormesh(X, Y, U.T, cmap=\"seismic\", shading=\"gouraud\")\n# plt.imshow(U, vmin=-1.0, vmax=1.0, cmap='seismic', interpolation='bicubic',\n#           extent=(x.min(), x.max(), y.min(), y.max()))\n\nseed_points = points[:, :2] * 0.3\n\nplt.streamplot(\n    x,\n    y,\n    B[1],\n    B[0],\n    density=2,\n    linewidth=lw,\n    color=\"k\",\n    integration_direction=\"both\",\n    start_points=seed_points,\n)\nplt.axis(\"equal\")\nplt.axis(\"off\")\nfor loop in loops:\n    plt.plot(loop[:, 1], loop[:, 0], \"k\", linewidth=4, alpha=0.1)\n\nplt.tight_layout()"
      ]
    }
  ],
  "metadata": {
    "kernelspec": {
      "display_name": "Python 3",
      "language": "python",
      "name": "python3"
    },
    "language_info": {
      "codemirror_mode": {
        "name": "ipython",
        "version": 3
      },
      "file_extension": ".py",
      "mimetype": "text/x-python",
      "name": "python",
      "nbconvert_exporter": "python",
      "pygments_lexer": "ipython3",
      "version": "3.7.3"
    }
  },
  "nbformat": 4,
  "nbformat_minor": 0
}