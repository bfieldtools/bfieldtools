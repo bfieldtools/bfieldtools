{
  "cells": [
    {
      "cell_type": "code",
      "execution_count": null,
      "metadata": {
        "collapsed": false
      },
      "outputs": [],
      "source": [
        "%matplotlib inline"
      ]
    },
    {
      "cell_type": "markdown",
      "metadata": {},
      "source": [
        "\nBiplanar coil design\n====================\n\nExample showing a basic biplanar coil producing homogeneous field in a target\nregion between the two coil planes.\n\n\n"
      ]
    },
    {
      "cell_type": "code",
      "execution_count": null,
      "metadata": {
        "collapsed": false
      },
      "outputs": [],
      "source": [
        "import numpy as np\nimport matplotlib.pyplot as plt\nfrom mayavi import mlab\nimport trimesh\n\n\nfrom bfieldtools.mesh_class import MeshWrapper\nfrom bfieldtools.magnetic_field_mesh import compute_C\nfrom bfieldtools.coil_optimize import optimize_streamfunctions\nfrom bfieldtools.contour import scalar_contour\nfrom bfieldtools.viz import plot_3d_current_loops\n\nimport pkg_resources\n\n\n#Set unit, e.g. meter or millimeter.\n# This doesn't matter, the problem is scale-invariant\nscaling_factor = 1\n\n\n#Load simple plane mesh that is centered on the origin\nplanemesh = trimesh.load(file_obj=pkg_resources.resource_filename('bfieldtools', 'example_meshes/10x10_plane_hires.obj'), process=False)\n\nplanemesh.apply_scale(scaling_factor)\n\n#Specify coil plane geometry\ncenter_offset = np.array([0, 0, 0]) * scaling_factor\nstandoff = np.array([0, 4, 0]) * scaling_factor\n\n#Create coil plane pairs\ncoil_plus = trimesh.Trimesh(planemesh.vertices + center_offset + standoff,\n                         planemesh.faces, process=False)\n\ncoil_minus = trimesh.Trimesh(planemesh.vertices + center_offset - standoff,\n                     planemesh.faces, process=False)\n\njoined_planes = coil_plus.union(coil_minus)\n\n#Create mesh class object\ncoil = MeshWrapper(verts=joined_planes.vertices, tris=joined_planes.faces, fix_normals=True)"
      ]
    },
    {
      "cell_type": "markdown",
      "metadata": {},
      "source": [
        "Set up target and stray field points\n\n"
      ]
    },
    {
      "cell_type": "code",
      "execution_count": null,
      "metadata": {
        "collapsed": false
      },
      "outputs": [],
      "source": [
        "#Here, the target points are on a volumetric grid within a sphere\n\ncenter = np.array([0, 0, 0]) * scaling_factor\n\nsidelength = 2 * scaling_factor\nn = 12\nxx = np.linspace(-sidelength/2, sidelength/2, n)\nyy = np.linspace(-sidelength/2, sidelength/2, n)\nzz = np.linspace(-sidelength/2, sidelength/2, n)\nX, Y, Z = np.meshgrid(xx, yy, zz, indexing='ij')\n\nx = X.ravel()\ny = Y.ravel()\nz = Z.ravel()\n\ntarget_points = np.array([x, y, z]).T\n\n#Turn cube into sphere by rejecting points \"in the corners\"\ntarget_points = target_points[np.linalg.norm(target_points, axis=1) < sidelength/2]  + center\n\n\n\n#    #Here, the stray field points are on a spherical surface\nstray_radius = 20 * scaling_factor\n#    stray_length = 20 * scaling_factor\n#\n#    stray_points = cylinder_points(radius=stray_radius,\n#                                   length = stray_length,\n#                                   nlength = 5,\n#                                   nalpha = 30,\n#                                   orientation=np.array([1, 0, 0]))\n#\nstray_points_mesh = trimesh.creation.icosphere(subdivisions=4, radius=stray_radius)\nstray_points = stray_points_mesh.vertices + center\n\nn_stray_points = len(stray_points)"
      ]
    },
    {
      "cell_type": "markdown",
      "metadata": {},
      "source": [
        "Compute C matrices that are used to compute the generated magnetic field\n\n"
      ]
    },
    {
      "cell_type": "code",
      "execution_count": null,
      "metadata": {
        "collapsed": false
      },
      "outputs": [],
      "source": [
        "coil.C = compute_C(coil.mesh, target_points)\ncoil.strayC = compute_C(coil.mesh, stray_points)"
      ]
    },
    {
      "cell_type": "markdown",
      "metadata": {},
      "source": [
        "Create bfield specifications used when optimizing the coil geometry\n\n"
      ]
    },
    {
      "cell_type": "code",
      "execution_count": null,
      "metadata": {
        "collapsed": false
      },
      "outputs": [],
      "source": [
        "#The absolute target field amplitude is not of importance,\n# and it is scaled to match the C matrix in the optimization function\n\ntarget_field = np.zeros(target_points.shape)\ntarget_field[:, 0] = target_field[:, 0] + 1\n\ntarget_spec = {'C':coil.C, 'rel_error':0.01, 'abs_error':0, 'target_field':target_field}\nstray_spec = {'C':coil.strayC, 'abs_error':0.01, 'rel_error':0, 'target_field':np.zeros((n_stray_points, 3))}"
      ]
    },
    {
      "cell_type": "markdown",
      "metadata": {},
      "source": [
        "Run QP solver\n\n"
      ]
    },
    {
      "cell_type": "code",
      "execution_count": null,
      "metadata": {
        "collapsed": false
      },
      "outputs": [],
      "source": [
        "# The tolerance parameter will determine the spatial detail of the coil.\n# Smaller tolerance means better but more intricate patterns. Too small values\n# will not be solveable.\ntolerance = 0.25\n\ncoil.I, coil.sol = optimize_streamfunctions(coil,\n                                            [target_spec, stray_spec],\n                                            objective='minimum_inductive_energy',\n                                            tolerance=tolerance)"
      ]
    },
    {
      "cell_type": "markdown",
      "metadata": {},
      "source": [
        "Plot coil windings and target points\n\n"
      ]
    },
    {
      "cell_type": "code",
      "execution_count": null,
      "metadata": {
        "collapsed": false
      },
      "outputs": [],
      "source": [
        "loops, loop_values= scalar_contour(coil.mesh, coil.I, N_contours=10)\n\nf = mlab.figure(None, bgcolor=(1, 1, 1), fgcolor=(0.5, 0.5, 0.5),\n           size=(800, 800))\nmlab.clf()\n\nplot_3d_current_loops(loops, colors='auto', figure=f)\n\nB_target = coil.C.transpose([0, 2, 1]) @ coil.I\n\nmlab.quiver3d(*target_points.T, *B_target.T)"
      ]
    },
    {
      "cell_type": "markdown",
      "metadata": {},
      "source": [
        "Plot field falloff on two axes\n\n"
      ]
    },
    {
      "cell_type": "code",
      "execution_count": null,
      "metadata": {
        "collapsed": false
      },
      "outputs": [],
      "source": [
        "plt.figure()\n\nz1 = np.linspace(-30, 30, 101) * scaling_factor\n\nx1 = y1 = np.zeros_like(z1)\n\nline1_points = np.vstack((x1, y1, z1)).T\n\nline1_C = compute_C(coil.mesh, r=line1_points)\n\nB_line1 = line1_C.transpose([0, 2, 1]) @ coil.I\n\nplt.semilogy(z1 / scaling_factor, np.linalg.norm(B_line1, axis=1)/np.mean(np.abs(target_field)), label='Z')\n\ny2 = np.linspace(-30, 30, 101) * scaling_factor\n\nz2 = x2 = np.zeros_like(y2)\n\nline2_points = np.vstack((x2, y2, z2)).T\n\nline2_C = compute_C(coil.mesh, r=line2_points)\n\nB_line2 = line2_C.transpose([0, 2, 1]) @ coil.I\n\nplt.semilogy(y2 / scaling_factor, np.linalg.norm(B_line2, axis=1)/np.mean(np.abs(target_field)), label='Y')\nplt.ylabel('Field amplitude (target field units)')\nplt.xlabel('Distance from origin')\nplt.grid(True, which='minor', axis='y')\nplt.grid(True, which='major', axis='y', color='k')\nplt.grid(True, which='major', axis='x')\n\nplt.legend()\n\nplt.show()"
      ]
    },
    {
      "cell_type": "markdown",
      "metadata": {},
      "source": [
        "Extract stream function isosurfaces/contours as polygons,\nplot with current directions\n\n"
      ]
    },
    {
      "cell_type": "code",
      "execution_count": null,
      "metadata": {
        "collapsed": false
      },
      "outputs": [],
      "source": [
        "scene = mlab.figure(None, bgcolor=(1, 1, 1), fgcolor=(0.5, 0.5, 0.5),\n               size=(800, 800))\nmlab.clf()\n\nN_contours = 10\n\n\ncontour_polys, contour_values = scalar_contour(coil.mesh, coil.I, N_contours=N_contours)\n\n\ncolors = [(1, 0, 0), (0, 0, 1)]\n\nfor loop_idx, loop in enumerate(contour_polys):\n    mlab.plot3d(*loop.T,\n                color=colors[int((np.sign(contour_values[loop_idx])+1)/2)],\n                tube_radius=None)\n\n    mlab.quiver3d(*loop[0,:].T,\n              *(loop[0,:].T - loop[1,:].T),\n              mode='cone', scale_mode='none',\n              scale_factor=0.5,\n              color=colors[int((np.sign(contour_values[loop_idx])+1)/2)])"
      ]
    },
    {
      "cell_type": "markdown",
      "metadata": {},
      "source": [
        "Compute magnetic field from discrete current line segments\n\n"
      ]
    },
    {
      "cell_type": "code",
      "execution_count": null,
      "metadata": {
        "collapsed": false
      },
      "outputs": [],
      "source": [
        "Bseg_target = np.zeros(B_target.shape)\n\nBseg_line1 = np.zeros(B_line1.shape)\nBseg_line2 = np.zeros(B_line2.shape)\n\nfrom bfieldtools.bfield_line import bfield_line_segments\n\nfor loop in contour_polys:\n    Bseg_target += bfield_line_segments(loop,\n                         target_points)\n\n    Bseg_line1 += bfield_line_segments(loop,\n                         np.array([x1, y1, z1]).T)\n\n    Bseg_line2 += bfield_line_segments(loop,\n                     np.array([x2, y2, z2]).T)\n\n\nplt.figure()\n\nI = 0.01\nplt.hist(1e9 * np.linalg.norm(Bseg_target, axis=1)*0.01, 50)\nplt.xlabel('Field amplitude in target region when %.1f mA current is injected (nT)' % (I*1e3))\n\n\nplt.figure()\n\nnormalize_value = np.linalg.norm(Bseg_line1, axis=1)[np.where(z1==0)[0][0]]\nplt.semilogy(z1 / scaling_factor, np.linalg.norm(Bseg_line1, axis=1)/normalize_value, label='Z')\n\nnormalize_value = np.linalg.norm(Bseg_line2, axis=1)[np.where(y2==0)[0][0]]\nplt.semilogy(y2 / scaling_factor, np.linalg.norm(Bseg_line2, axis=1)/normalize_value, label='Y')\n\nplt.ylabel('Field amplitude (target field units)')\nplt.xlabel('Distance from origin')\nplt.grid(True, which='minor', axis='y')\nplt.grid(True, which='major', axis='y', color='k')\nplt.grid(True, which='major', axis='x')\nplt.title('Field from discrete line segments, N_contours: %d'%N_contours)\n\nplt.legend()"
      ]
    }
  ],
  "metadata": {
    "kernelspec": {
      "display_name": "Python 3",
      "language": "python",
      "name": "python3"
    },
    "language_info": {
      "codemirror_mode": {
        "name": "ipython",
        "version": 3
      },
      "file_extension": ".py",
      "mimetype": "text/x-python",
      "name": "python",
      "nbconvert_exporter": "python",
      "pygments_lexer": "ipython3",
      "version": "3.6.7"
    }
  },
  "nbformat": 4,
  "nbformat_minor": 0
}