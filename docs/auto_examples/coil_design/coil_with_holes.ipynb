{
  "cells": [
    {
      "cell_type": "code",
      "execution_count": null,
      "metadata": {
        "collapsed": false
      },
      "outputs": [],
      "source": [
        "%matplotlib inline"
      ]
    },
    {
      "cell_type": "markdown",
      "metadata": {},
      "source": [
        "\nCoil with interior holes\n========================\n\nExample showing a basic biplanar coil producing homogeneous field in a target\nregion between the two coil planes. The coil planes have holes in them,\n\n\n"
      ]
    },
    {
      "cell_type": "code",
      "execution_count": null,
      "metadata": {
        "collapsed": false
      },
      "outputs": [],
      "source": [
        "import numpy as np\nfrom mayavi import mlab\nimport trimesh\n\nfrom bfieldtools.mesh_class import MeshWrapper\nfrom bfieldtools.coil_optimize import optimize_streamfunctions\nfrom bfieldtools.contour import scalar_contour\nfrom bfieldtools.viz import plot_3d_current_loops\n\nimport pkg_resources\n\n\n#Set unit, e.g. meter or millimeter.\n# This doesn't matter, the problem is scale-invariant\nscaling_factor = 1\n\n\n#Load simple plane mesh that is centered on the origin\nplanemesh = trimesh.load(file_obj=pkg_resources.resource_filename('bfieldtools', 'example_meshes/plane_w_holes.stl'), process=False)\n\nangle=np.pi/2\nrotation_matrix = np.array([[1, 0, 0, 0],\n                            [0, np.cos(angle), -np.sin(angle), 0],\n                            [0, np.sin(angle), np.cos(angle), 0],\n                            [0, 0, 0, 1]\n                              ])\n\nplanemesh.apply_transform(rotation_matrix)\nplanemesh.apply_scale(scaling_factor)\n\n#Specify coil plane geometry\ncenter_offset = np.array([0, 0, 0]) * scaling_factor\nstandoff = np.array([0, 20, 0]) * scaling_factor\n\n#Create coil plane pairs\ncoil_plus = trimesh.Trimesh(planemesh.vertices + center_offset + standoff,\n                         planemesh.faces, process=False)\n\ncoil_minus = trimesh.Trimesh(planemesh.vertices + center_offset - standoff,\n                     planemesh.faces, process=False)\n\njoined_planes = coil_plus.union(coil_minus)\n\n#Create mesh class object\ncoil = MeshWrapper(verts=joined_planes.vertices, tris=joined_planes.faces, fix_normals=True)"
      ]
    },
    {
      "cell_type": "markdown",
      "metadata": {},
      "source": [
        "Set up target and stray field points\n\n"
      ]
    },
    {
      "cell_type": "code",
      "execution_count": null,
      "metadata": {
        "collapsed": false
      },
      "outputs": [],
      "source": [
        "#Here, the target points are on a volumetric grid within a sphere\n\ncenter = np.array([0, 0, 0]) * scaling_factor\n\nsidelength = 10 * scaling_factor\nn = 8\nxx = np.linspace(-sidelength/2, sidelength/2, n)\nyy = np.linspace(-sidelength/2, sidelength/2, n)\nzz = np.linspace(-sidelength/2, sidelength/2, n)\nX, Y, Z = np.meshgrid(xx, yy, zz, indexing='ij')\n\nx = X.ravel()\ny = Y.ravel()\nz = Z.ravel()\n\ntarget_points = np.array([x, y, z]).T\n\n#Turn cube into sphere by rejecting points \"in the corners\"\ntarget_points = target_points[np.linalg.norm(target_points, axis=1) < sidelength/2]  + center"
      ]
    },
    {
      "cell_type": "markdown",
      "metadata": {},
      "source": [
        "Let's find and separate the inner and outer boundaries of the coil mesh\n\n"
      ]
    },
    {
      "cell_type": "code",
      "execution_count": null,
      "metadata": {
        "collapsed": false
      },
      "outputs": [],
      "source": [
        "inner_bounds = np.intersect1d(coil.boundary_verts, np.where(np.linalg.norm(coil.mesh.vertices[:,0::2], axis=1)< 0.015)[0])\n\ncentre_hole1 = np.intersect1d(np.intersect1d(coil.boundary_verts,\n                                             np.where(np.linalg.norm(coil.mesh.vertices[:,0::2], axis=1)< 0.004)[0]),\n                              np.where(coil.mesh.vertices[:,1] < 0)[0])\n\ncentre_hole2 = np.intersect1d(np.intersect1d(coil.boundary_verts,\n                                             np.where(np.linalg.norm(coil.mesh.vertices[:,0::2], axis=1)< 0.004)[0]),\n                              np.where(coil.mesh.vertices[:,1] > 0)[0])\n\nleft_hole1 = np.intersect1d(np.intersect1d(np.intersect1d(coil.boundary_verts,\n                                           np.where(coil.mesh.vertices[:,0] < -0.004)[0]), inner_bounds),\n                            np.where(coil.mesh.vertices[:,1] < 0)[0])\n\nleft_hole2 = np.intersect1d(np.intersect1d(np.intersect1d(coil.boundary_verts,\n                                           np.where(coil.mesh.vertices[:,0] < -0.004)[0]), inner_bounds),\n                            np.where(coil.mesh.vertices[:,1] > 0)[0])\n\nright_hole1 = np.intersect1d(np.intersect1d(np.intersect1d(coil.boundary_verts,\n                                           np.where(coil.mesh.vertices[:,0] > 0.004)[0]), inner_bounds),\n                            np.where(coil.mesh.vertices[:,1] < 0)[0])\n\nright_hole2 = np.intersect1d(np.intersect1d(np.intersect1d(coil.boundary_verts,\n                                           np.where(coil.mesh.vertices[:,0] > 0.004)[0]), inner_bounds),\n                            np.where(coil.mesh.vertices[:,1] > 0)[0])\n\nouter_bounds = np.setdiff1d(coil.boundary_verts, inner_bounds)\n\n\ngraph = trimesh.graph.vertex_adjacency_graph(coil.mesh)\n\nzero_eq_indices = outer_bounds\niso_eq_indices = [left_hole1, centre_hole1, right_hole1, left_hole2, centre_hole2, right_hole2]\n\nboundary_constraints = {'zero_eq_indices':zero_eq_indices , 'iso_eq_indices': iso_eq_indices}"
      ]
    },
    {
      "cell_type": "markdown",
      "metadata": {},
      "source": [
        "Create bfield specifications used when optimizing the coil geometry\n\n"
      ]
    },
    {
      "cell_type": "code",
      "execution_count": null,
      "metadata": {
        "collapsed": false
      },
      "outputs": [],
      "source": [
        "#The absolute target field amplitude is not of importance,\n# and it is scaled to match the C matrix in the optimization function\n\ntarget_field = np.zeros(target_points.shape)\ntarget_field[:, 0] = target_field[:, 0] + 1\n\ntarget_rel_error = np.zeros_like(target_field)\ntarget_rel_error[:, 0] += 0.01\n\ntarget_abs_error = np.zeros_like(target_field)\ntarget_abs_error[:, 0] += 0.001\ntarget_abs_error[:, 1:3] += 0.005\n\ntarget_spec = {'coupling':coil.B_coupling(target_points), 'rel_error':target_rel_error, 'abs_error':target_abs_error, 'target':target_field}\n\nbfield_specification = [target_spec]"
      ]
    },
    {
      "cell_type": "markdown",
      "metadata": {},
      "source": [
        "Run QP solver\n\n"
      ]
    },
    {
      "cell_type": "code",
      "execution_count": null,
      "metadata": {
        "collapsed": false
      },
      "outputs": [],
      "source": [
        "import mosek\n\ncoil.j, prob = optimize_streamfunctions(coil,\n                                   bfield_specification,\n                                   objective='minimum_inductive_energy',\n                                   solver='MOSEK',\n                                   solver_opts={'mosek_params':{mosek.iparam.num_threads: 8}},\n                                   boundary_constraints=boundary_constraints\n                                   )"
      ]
    },
    {
      "cell_type": "markdown",
      "metadata": {},
      "source": [
        "Plot coil windings and target points\n\n"
      ]
    },
    {
      "cell_type": "code",
      "execution_count": null,
      "metadata": {
        "collapsed": false
      },
      "outputs": [],
      "source": [
        "N_contours = 20\n\nloops, loop_values= scalar_contour(coil.mesh, coil.j, N_contours=N_contours)\n\nf = mlab.figure(None, bgcolor=(1, 1, 1), fgcolor=(0.5, 0.5, 0.5),\n           size=(800, 800))\nmlab.clf()\n\nplot_3d_current_loops(loops, colors='auto', figure=f, tube_radius=0.1)\n\nB_target = coil.B_coupling(target_points) @ coil.j\n\nmlab.quiver3d(*target_points.T, *B_target.T)"
      ]
    }
  ],
  "metadata": {
    "kernelspec": {
      "display_name": "Python 3",
      "language": "python",
      "name": "python3"
    },
    "language_info": {
      "codemirror_mode": {
        "name": "ipython",
        "version": 3
      },
      "file_extension": ".py",
      "mimetype": "text/x-python",
      "name": "python",
      "nbconvert_exporter": "python",
      "pygments_lexer": "ipython3",
      "version": "3.6.7"
    }
  },
  "nbformat": 4,
  "nbformat_minor": 0
}