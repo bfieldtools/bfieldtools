{
  "cells": [
    {
      "cell_type": "code",
      "execution_count": null,
      "metadata": {
        "collapsed": false
      },
      "outputs": [],
      "source": [
        "%matplotlib inline"
      ]
    },
    {
      "cell_type": "markdown",
      "metadata": {},
      "source": [
        "\nMagnetically shielded  coil\n===========================\nCompact example of design of a biplanar coil within a cylindrical shield.\nThe effect of the shield is prospectively taken into account while designing the coil.\nThe coil is positioned close to the end of the shield to demonstrate the effect\n\n"
      ]
    },
    {
      "cell_type": "code",
      "execution_count": null,
      "metadata": {
        "collapsed": false
      },
      "outputs": [],
      "source": [
        "import numpy as np\nfrom mayavi import mlab\nimport trimesh\n\n\nfrom bfieldtools.mesh_class import Conductor\nfrom bfieldtools.coil_optimize import optimize_streamfunctions\nfrom bfieldtools.contour import scalar_contour\nfrom bfieldtools.viz import plot_3d_current_loops, plot_data_on_vertices\n\nimport pkg_resources\n\n\n#Set unit, e.g. meter or millimeter.\n# This doesn't matter, the problem is scale-invariant\nscaling_factor = 1\n\n\n#Load simple plane mesh that is centered on the origin\nplanemesh = trimesh.load(file_obj=pkg_resources.resource_filename('bfieldtools', 'example_meshes/10x10_plane_hires.obj'), process=False)\n\nplanemesh.apply_scale(scaling_factor)\n\n#Specify coil plane geometry\ncenter_offset = np.array([9, 0, 0]) * scaling_factor\nstandoff = np.array([0, 4, 0]) * scaling_factor\n\n#Create coil plane pairs\ncoil_plus = trimesh.Trimesh(planemesh.vertices + center_offset + standoff,\n                         planemesh.faces, process=False)\n\ncoil_minus = trimesh.Trimesh(planemesh.vertices + center_offset - standoff,\n                     planemesh.faces, process=False)\n\njoined_planes = coil_plus.union(coil_minus)\n\n#Create mesh class object\ncoil = Conductor(mesh_obj=joined_planes, fix_normals=True)\n\n# Separate object for shield geometry\nshieldmesh = trimesh.load(file_obj=pkg_resources.resource_filename('bfieldtools', 'example_meshes/closed_cylinder.stl'), process=True)\nshieldmesh.apply_scale(15)\n\nshield = Conductor(mesh_obj=shieldmesh, process=True, fix_normals=True)"
      ]
    },
    {
      "cell_type": "markdown",
      "metadata": {},
      "source": [
        "Set up target  points and plot geometry\n\n"
      ]
    },
    {
      "cell_type": "code",
      "execution_count": null,
      "metadata": {
        "collapsed": false
      },
      "outputs": [],
      "source": [
        "#Here, the target points are on a volumetric grid within a sphere\n# Set up target and stray field points\n\n#Here, the target points are on a volumetric grid within a sphere\n\ncenter = np.array([9, 0, 0]) * scaling_factor\n\nsidelength = 3 * scaling_factor\nn = 12\nxx = np.linspace(-sidelength/2, sidelength/2, n)\nyy = np.linspace(-sidelength/2, sidelength/2, n)\nzz = np.linspace(-sidelength/2, sidelength/2, n)\nX, Y, Z = np.meshgrid(xx, yy, zz, indexing='ij')\n\nx = X.ravel()\ny = Y.ravel()\nz = Z.ravel()\n\ntarget_points = np.array([x, y, z]).T\n\n#Turn cube into sphere by rejecting points \"in the corners\"\ntarget_points = target_points[np.linalg.norm(target_points, axis=1) < sidelength/2]  + center\n\n\n#Plot coil, shield and target points\n\nf = mlab.figure(None, bgcolor=(1, 1, 1), fgcolor=(0.5, 0.5, 0.5),\n                size=(800, 800))\n\ncoil.plot_mesh(representation='surface')\nshield.plot_mesh()\nmlab.points3d(*target_points.T)"
      ]
    },
    {
      "cell_type": "markdown",
      "metadata": {},
      "source": [
        "Let's design a coil without taking the magnetic shield into account\n\n"
      ]
    },
    {
      "cell_type": "code",
      "execution_count": null,
      "metadata": {
        "collapsed": false
      },
      "outputs": [],
      "source": [
        "#The absolute target field amplitude is not of importance,\n# and it is scaled to match the C matrix in the optimization function\ntarget_field = np.zeros(target_points.shape)\ntarget_field[:, 1] = target_field[:, 1] + 1 # Homogeneous Z-field\n\n\ntarget_rel_error = np.zeros_like(target_field)\ntarget_rel_error[:, 0] += 0.01\n\ntarget_abs_error = np.zeros_like(target_field)\ntarget_abs_error[:, 0] += 0.001\ntarget_abs_error[:, 1:3] += 0.005\n\ntarget_spec = {'coupling':coil.B_coupling(target_points), 'rel_error':target_rel_error, 'abs_error':target_abs_error, 'target':target_field}\n\nimport mosek\n\ncoil.j, coil.prob = optimize_streamfunctions(coil,\n                                   [target_spec],\n                                   objective='minimum_inductive_energy',\n                                   solver='MOSEK',\n                                   solver_opts={'mosek_params':{mosek.iparam.num_threads: 8}}\n                                   )"
      ]
    },
    {
      "cell_type": "markdown",
      "metadata": {},
      "source": [
        "Plot coil windings and target points\n\n"
      ]
    },
    {
      "cell_type": "code",
      "execution_count": null,
      "metadata": {
        "collapsed": false
      },
      "outputs": [],
      "source": [
        "loops, loop_values= scalar_contour(coil.mesh, coil.j, N_contours=10)\n\nf = mlab.figure(None, bgcolor=(1, 1, 1), fgcolor=(0.5, 0.5, 0.5),\n           size=(800, 800))\nmlab.clf()\n\nplot_3d_current_loops(loops, colors='auto', figure=f)\n\nB_target = coil.B_coupling(target_points) @ coil.j\n\nmlab.quiver3d(*target_points.T, *B_target.T)"
      ]
    },
    {
      "cell_type": "markdown",
      "metadata": {},
      "source": [
        "Now, let's compute the effect of the shield on the field produced by the coil\n\n"
      ]
    },
    {
      "cell_type": "code",
      "execution_count": null,
      "metadata": {
        "collapsed": false
      },
      "outputs": [],
      "source": [
        "# Points slightly inside the shield\nd = np.mean(np.diff(shield.mesh.vertices[shield.mesh.faces[:,0:2]],axis=1), axis=0)/10\npoints = shield.mesh.vertices - d*shield.mesh.vertex_normals\n\n# Calculate primary potential matrix at the shield surface\nP_prim = coil.U_coupling(points)\n\n# Calculate linear collocation BEM matrix\nP_bem = shield.U_coupling(points)\n\n# Recalculate diag elements according to de Munck paper\n#for diag_index in range(P_bem.shape[0]):\n#    P_bem[diag_index, diag_index] = 0\n#    P_bem[diag_index, diag_index] = -P_bem[diag_index, :].sum()\n\n# Matrix misses one rank, make it invertible\n# by rank-one update (sets potential of constant dipole layer)\n#P_bem += np.ones(P_bem.shape)/P_bem.shape[0]\n\n\n# Solve equivalent stream function for the perfect linear mu-metal layer.\n# This is the equivalent surface current in the shield that would cause its\n# scalar magnetic potential to be constant\nshield.j =  np.linalg.solve(P_bem, P_prim @ coil.j)"
      ]
    },
    {
      "cell_type": "markdown",
      "metadata": {},
      "source": [
        "Plot the difference in field when taking the shield into account\n\n"
      ]
    },
    {
      "cell_type": "code",
      "execution_count": null,
      "metadata": {
        "collapsed": false
      },
      "outputs": [],
      "source": [
        "f = mlab.figure(None, bgcolor=(1, 1, 1), fgcolor=(0.5, 0.5, 0.5),\n           size=(800, 800))\nmlab.clf()\n\nB_target = coil.B_coupling(target_points) @ coil.j\n\nB_target_w_shield = coil.B_coupling(target_points) @ coil.j + shield.B_coupling(target_points) @ shield.j\n\nB_quiver = mlab.quiver3d(*target_points.T, *(B_target_w_shield - B_target).T, colormap='viridis', mode='arrow')\nf.scene.isometric_view()\nmlab.colorbar(B_quiver, title='Difference in magnetic field (a.u.)')\n\nimport seaborn as sns\nimport matplotlib.pyplot as plt\n\n\n\n\nfig, axes = plt.subplots(1, 3, figsize=(10, 4))\n\nfig.suptitle('Component-wise effect of magnetic shield on target field amplitude distribution')\nfor ax_idx, ax in enumerate(axes):\n\n    sns.distplot(B_target[:, ax_idx], label='Without shield', ax=ax)\n    sns.distplot(B_target_w_shield[:, ax_idx], label='With shield', ax=ax)\n    ax.set_xlabel('Magnetic field (a.u.)')\n\n    if ax_idx == 2:\n        ax.legend()\n\nfig.tight_layout(rect=[0, 0.03, 1, 0.95])"
      ]
    },
    {
      "cell_type": "markdown",
      "metadata": {},
      "source": [
        "Let's redesign the coil taking the shield into account prospectively\n\n"
      ]
    },
    {
      "cell_type": "code",
      "execution_count": null,
      "metadata": {
        "collapsed": false
      },
      "outputs": [],
      "source": [
        "shield.coupling = np.linalg.solve(P_bem, P_prim)\n\nsecondary_B_coupling = shield.B_coupling(target_points) @ shield.coupling\n\ntotal_B_coupling = coil.B_coupling(target_points) + secondary_B_coupling\n\ntarget_spec_w_shield = {'coupling':total_B_coupling, 'rel_error':target_rel_error, 'abs_error':target_abs_error, 'target':target_field}\n\n\ncoil.j2, coil.prob2 = optimize_streamfunctions(coil,\n                                   [target_spec_w_shield],\n                                   objective='minimum_inductive_energy',\n                                   solver='MOSEK',\n                                   solver_opts={'mosek_params':{mosek.iparam.num_threads: 8}}\n                                   )"
      ]
    },
    {
      "cell_type": "markdown",
      "metadata": {},
      "source": [
        "Plot the newly designed coil windings and field at the target points\n\n"
      ]
    },
    {
      "cell_type": "code",
      "execution_count": null,
      "metadata": {
        "collapsed": false
      },
      "outputs": [],
      "source": [
        "loops, loop_values= scalar_contour(coil.mesh, coil.j2, N_contours=10)\nf = mlab.figure(None, bgcolor=(1, 1, 1), fgcolor=(0.5, 0.5, 0.5),\n           size=(800, 800))\nmlab.clf()\n\nplot_3d_current_loops(loops, colors='auto', figure=f)\n\nB_target2 = total_B_coupling @ coil.j2\nmlab.quiver3d(*target_points.T, *B_target2.T)"
      ]
    },
    {
      "cell_type": "markdown",
      "metadata": {},
      "source": [
        "Plot the difference in stream functions\n\n"
      ]
    },
    {
      "cell_type": "code",
      "execution_count": null,
      "metadata": {
        "collapsed": false
      },
      "outputs": [],
      "source": [
        "f = mlab.figure(None, bgcolor=(1, 1, 1), fgcolor=(0.5, 0.5, 0.5),\n           size=(800, 800))\nmlab.clf()\n\nplot_data_on_vertices(coil.mesh, np.nan_to_num(100 * (coil.j-coil.j2)/coil.j), figure=f, colorbar=True)\n\nmlab.colorbar(title='Relative error (%)')"
      ]
    }
  ],
  "metadata": {
    "kernelspec": {
      "display_name": "Python 3",
      "language": "python",
      "name": "python3"
    },
    "language_info": {
      "codemirror_mode": {
        "name": "ipython",
        "version": 3
      },
      "file_extension": ".py",
      "mimetype": "text/x-python",
      "name": "python",
      "nbconvert_exporter": "python",
      "pygments_lexer": "ipython3",
      "version": "3.6.7"
    }
  },
  "nbformat": 4,
  "nbformat_minor": 0
}