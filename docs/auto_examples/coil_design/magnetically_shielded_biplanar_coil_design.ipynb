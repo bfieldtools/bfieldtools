{
  "cells": [
    {
      "cell_type": "code",
      "execution_count": null,
      "metadata": {
        "collapsed": false
      },
      "outputs": [],
      "source": [
        "%matplotlib inline"
      ]
    },
    {
      "cell_type": "markdown",
      "metadata": {},
      "source": [
        "\nMagnetically shielded  coil\n=========================\nCompact example of design of a biplanar coil within a cylindrical shield.\nThe effect of the shield is prospectively taken into account while designing the coil\n\n"
      ]
    },
    {
      "cell_type": "code",
      "execution_count": null,
      "metadata": {
        "collapsed": false
      },
      "outputs": [],
      "source": [
        "import numpy as np\nfrom mayavi import mlab\nimport trimesh\n\n\nfrom bfieldtools.mesh_class import MeshWrapper\nfrom bfieldtools.magnetic_field_mesh import compute_C, compute_U\nfrom bfieldtools.coil_optimize import optimize_streamfunctions\n\nimport pkg_resources\n\n\n#Set unit, e.g. meter or millimeter.\n# This doesn't matter, the problem is scale-invariant\nscaling_factor = 1\n\n\n#Load simple plane mesh that is centered on the origin\nplanemesh = trimesh.load(file_obj=pkg_resources.resource_filename('bfieldtools', 'example_meshes/10x10_plane_hires.obj'), process=False)\n\nplanemesh.apply_scale(scaling_factor)\n\n#Specify coil plane geometry\ncenter_offset = np.array([0, 0, 0]) * scaling_factor\nstandoff = np.array([0, 4, 0]) * scaling_factor\n\n#Create coil plane pairs\ncoil_plus = trimesh.Trimesh(planemesh.vertices + center_offset + standoff,\n                         planemesh.faces, process=False)\n\ncoil_minus = trimesh.Trimesh(planemesh.vertices + center_offset - standoff,\n                     planemesh.faces, process=False)\n\njoined_planes = coil_plus.union(coil_minus)\n\n#Create mesh class object\ncoil = MeshWrapper(mesh_obj=joined_planes, fix_normals=True)\n\n# Separate object for shield geometry\nshieldmesh = trimesh.load('/l/bfieldtools/bfieldtools/example_meshes/closed_cylinder.stl')\nshieldmesh.apply_scale(20)\n\nshield = MeshWrapper(mesh_obj=shieldmesh, process=True, fix_normals=True)"
      ]
    },
    {
      "cell_type": "markdown",
      "metadata": {},
      "source": [
        "Set up target  points and plot geometry\n\n"
      ]
    },
    {
      "cell_type": "code",
      "execution_count": null,
      "metadata": {
        "collapsed": false
      },
      "outputs": [],
      "source": [
        "#Here, the target points are on a volumetric grid within a sphere\n# Set up target and stray field points\n\n#Here, the target points are on a volumetric grid within a sphere\n\ncenter = np.array([0, 0, 0]) * scaling_factor\n\nsidelength = 2 * scaling_factor\nn = 12\nxx = np.linspace(-sidelength/2, sidelength/2, n)\nyy = np.linspace(-sidelength/2, sidelength/2, n)\nzz = np.linspace(-sidelength/2, sidelength/2, n)\nX, Y, Z = np.meshgrid(xx, yy, zz, indexing='ij')\n\nx = X.ravel()\ny = Y.ravel()\nz = Z.ravel()\n\ntarget_points = np.array([x, y, z]).T\n\n#Turn cube into sphere by rejecting points \"in the corners\"\ntarget_points = target_points[np.linalg.norm(target_points, axis=1) < sidelength/2]  + center\n\n\n#Plot coil, shield and target points\n\nf = mlab.figure(None, bgcolor=(1, 1, 1), fgcolor=(0.5, 0.5, 0.5),\n                size=(800, 800))\n\ncoil.plot_mesh()\nshield.plot_mesh()\nmlab.points3d(*target_points.T)"
      ]
    },
    {
      "cell_type": "markdown",
      "metadata": {},
      "source": [
        "Compute C matrices that are used to compute the generated magnetic field\n\n"
      ]
    },
    {
      "cell_type": "code",
      "execution_count": null,
      "metadata": {
        "collapsed": false
      },
      "outputs": [],
      "source": [
        "coil.C = compute_C(coil.mesh, target_points)\nshield.C = compute_C(shield.mesh, target_points)"
      ]
    },
    {
      "cell_type": "markdown",
      "metadata": {},
      "source": [
        "Let's design a coil without taking the magnetic shield into account\n\n"
      ]
    },
    {
      "cell_type": "code",
      "execution_count": null,
      "metadata": {
        "collapsed": false
      },
      "outputs": [],
      "source": [
        "#The absolute target field amplitude is not of importance,\n# and it is scaled to match the C matrix in the optimization function\ntarget_field = np.zeros(target_points.shape)\ntarget_field[:, 1] = target_field[:, 1] + 1 # Homogeneous Z-field\n\ntarget_spec = {'C':coil.C, 'rel_error':0.01, 'abs_error':0, 'target_field':target_field}\n\n\n# The tolerance parameter will determine the spatial detail of the coil.\n# Smaller tolerance means better but more intricate patterns. Too small values\n# will not be solveable.\ntolerance = 0.5\n\ncoil.I, coil.sol = optimize_streamfunctions(coil,\n                                            [target_spec],\n                                            objective='minimum_inductive_energy',\n                                            tolerance=tolerance)"
      ]
    },
    {
      "cell_type": "markdown",
      "metadata": {},
      "source": [
        "Plot coil windings and target points\n\n"
      ]
    },
    {
      "cell_type": "code",
      "execution_count": null,
      "metadata": {
        "collapsed": false
      },
      "outputs": [],
      "source": [
        "f = mlab.figure(None, bgcolor=(1, 1, 1), fgcolor=(0.5, 0.5, 0.5),\n           size=(800, 800))\nmlab.clf()\n\nsurface = mlab.pipeline.triangular_mesh_source(*coil.mesh.vertices.T, coil.mesh.faces,scalars=coil.I)\n\nwindings = mlab.pipeline.contour_surface(surface, contours=10)\n\n\nB_target = coil.C.transpose([0, 2, 1]) @ coil.I\n\n\nmlab.quiver3d(*target_points.T, *B_target.T)"
      ]
    },
    {
      "cell_type": "markdown",
      "metadata": {},
      "source": [
        "Now, let's compute the effect of the shield on the field produced by the coil\n\n"
      ]
    },
    {
      "cell_type": "code",
      "execution_count": null,
      "metadata": {
        "collapsed": false
      },
      "outputs": [],
      "source": [
        "# Calculate primary potential matrix at the shield surface\nP_prim = compute_U(coil.mesh, shield.mesh.vertices)\n\n\n# Plot the resulting primary potential\nmlab.figure()\nmlab.triangular_mesh(*shield.mesh.vertices.T, shield.mesh.faces, scalars=P_prim @ coil.I,\n                     opacity=1.0)\n\n# Calculate linear collocation BEM matrix\nP_bem = compute_U(shield.mesh, shield.mesh.vertices)\n\n# Recalculate diag elements according to de Munck paper\nfor diag_index in range(P_bem.shape[0]):\n    P_bem[diag_index, diag_index] = 0\n    P_bem[diag_index, diag_index] = -P_bem[diag_index, :].sum()\n\n# Matrix misses one rank, make it invertible\n# by rank-one update (sets potential of constant dipole layer)\nP_bem += np.ones(P_bem.shape)/P_bem.shape[0]\n\n\n# Solve equivalent stream function for the perfect linear mu-metal layer\nshield.I =  np.linalg.solve(P_bem, P_prim @ coil.I)"
      ]
    },
    {
      "cell_type": "markdown",
      "metadata": {},
      "source": [
        "Plot the difference in field when taking the shield into account\n\n"
      ]
    },
    {
      "cell_type": "code",
      "execution_count": null,
      "metadata": {
        "collapsed": false
      },
      "outputs": [],
      "source": [
        "f = mlab.figure(None, bgcolor=(1, 1, 1), fgcolor=(0.5, 0.5, 0.5),\n           size=(800, 800))\nmlab.clf()\n\nB_target = coil.C.transpose([0, 2, 1]) @ coil.I\n\nB_target_w_shield = coil.C.transpose([0, 2, 1]) @ coil.I + shield.C.transpose([0, 2, 1]) @ shield.I\n\nB_quiver = mlab.quiver3d(*target_points.T, *((B_target_w_shield - B_target)/np.linalg.norm(B_target)).T)\nmlab.colorbar(B_quiver)\n\nimport seaborn as sns\nimport matplotlib.pyplot as plt\n\nplt.figure()\n\nsns.distplot(np.linalg.norm(B_target, axis=-1), label='Without shield')\nsns.distplot(np.linalg.norm(B_target_w_shield, axis=-1), label='With shield')\nplt.legend()\nplt.title('Effect of magnetic shield on target field amplitude distribution')\nplt.xlabel('Magnetic field (a.u.)')"
      ]
    },
    {
      "cell_type": "markdown",
      "metadata": {},
      "source": [
        "Let's redesign the coil taking the shield into account prospectively\n\n"
      ]
    },
    {
      "cell_type": "code",
      "execution_count": null,
      "metadata": {
        "collapsed": false
      },
      "outputs": [],
      "source": [
        "shield.coupling = np.linalg.pinv(P_bem) @ P_prim\n\nsecondary_C = (shield.C.transpose((0,2,1)) @ shield.coupling).transpose((0,2,1))\n\ntotal_C = coil.C + secondary_C\n\ntarget_spec_w_shield = {'C':total_C, 'rel_error':0.01, 'abs_error':0, 'target_field':target_field}\n\n\n# The tolerance parameter will determine the spatial detail of the coil.\n# Smaller tolerance means better but more intricate patterns. Too small values\n# will not be solveable.\ntolerance = 0.5\n\ncoil.I2, coil.sol2 = optimize_streamfunctions(coil,\n                                            [target_spec_w_shield],\n                                            objective='minimum_inductive_energy',\n                                            tolerance=tolerance)"
      ]
    },
    {
      "cell_type": "markdown",
      "metadata": {},
      "source": [
        "Plot coil windings and target points\n\n"
      ]
    },
    {
      "cell_type": "code",
      "execution_count": null,
      "metadata": {
        "collapsed": false
      },
      "outputs": [],
      "source": [
        "f = mlab.figure(None, bgcolor=(1, 1, 1), fgcolor=(0.5, 0.5, 0.5),\n           size=(800, 800))\nmlab.clf()\n\nsurface = mlab.pipeline.triangular_mesh_source(*coil.mesh.vertices.T, coil.mesh.faces,scalars=coil.I)\n\nwindings = mlab.pipeline.contour_surface(surface, contours=10)\n\n\nB_target = coil.C.transpose([0, 2, 1]) @ coil.I2\n\n\nmlab.quiver3d(*target_points.T, *B_target.T)"
      ]
    },
    {
      "cell_type": "markdown",
      "metadata": {},
      "source": [
        "Finally, lot the difference in stream functions\n\n"
      ]
    },
    {
      "cell_type": "code",
      "execution_count": null,
      "metadata": {
        "collapsed": false
      },
      "outputs": [],
      "source": [
        "f = mlab.figure(None, bgcolor=(1, 1, 1), fgcolor=(0.5, 0.5, 0.5),\n           size=(800, 800))\nmlab.clf()\n\nRE_I = mlab.triangular_mesh(*coil.mesh.vertices.T, coil.mesh.faces, scalars=100 * (coil.I-coil.I2)/coil.I, colormap='RdBu')\nmlab.colorbar(RE_I, title='Relative error (%)')"
      ]
    }
  ],
  "metadata": {
    "kernelspec": {
      "display_name": "Python 3",
      "language": "python",
      "name": "python3"
    },
    "language_info": {
      "codemirror_mode": {
        "name": "ipython",
        "version": 3
      },
      "file_extension": ".py",
      "mimetype": "text/x-python",
      "name": "python",
      "nbconvert_exporter": "python",
      "pygments_lexer": "ipython3",
      "version": "3.6.7"
    }
  },
  "nbformat": 4,
  "nbformat_minor": 0
}