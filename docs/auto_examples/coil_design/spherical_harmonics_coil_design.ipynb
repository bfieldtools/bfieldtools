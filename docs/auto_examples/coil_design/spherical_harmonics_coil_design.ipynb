{
  "cells": [
    {
      "cell_type": "code",
      "execution_count": null,
      "metadata": {
        "collapsed": false
      },
      "outputs": [],
      "source": [
        "%matplotlib inline"
      ]
    },
    {
      "cell_type": "markdown",
      "metadata": {},
      "source": [
        "\nSpherical harmonics-generating coil design\n==========================================\n\nExample showing a basic biplanar coil producing a field profile defined by\nspherical harmonics.\n"
      ]
    },
    {
      "cell_type": "code",
      "execution_count": null,
      "metadata": {
        "collapsed": false
      },
      "outputs": [],
      "source": [
        "# import sys\n# path = '/m/home/home8/80/makinea1/unix/pythonstuff/bfieldtools'\n# if path in sys.path:\n#    sys.path.insert(0, path)\n\n\nimport numpy as np\nfrom mayavi import mlab\nimport trimesh\n\nfrom bfieldtools.conductor import Conductor\nfrom bfieldtools.coil_optimize import optimize_streamfunctions\nfrom bfieldtools.contour import scalar_contour\nfrom bfieldtools.viz import plot_3d_current_loops\nfrom bfieldtools import sphtools\n\n\nimport pkg_resources\n\n\n# Set unit, e.g. meter or millimeter.\n# This doesn't matter, the problem is scale-invariant\nscaling_factor = 1\n\n\n# Load simple plane mesh that is centered on the origin\nplanemesh = trimesh.load(\n    file_obj=pkg_resources.resource_filename(\n        \"bfieldtools\", \"example_meshes/10x10_plane_hires.obj\"\n    ),\n    process=False,\n)\n\nplanemesh.apply_scale(scaling_factor)\n\n# Specify coil plane geometry\ncenter_offset = np.array([0, 0, 0]) * scaling_factor\nstandoff = np.array([0, 4, 0]) * scaling_factor\n\n# Create coil plane pairs\ncoil_plus = trimesh.Trimesh(\n    planemesh.vertices + center_offset + standoff, planemesh.faces, process=False\n)\n\ncoil_minus = trimesh.Trimesh(\n    planemesh.vertices + center_offset - standoff, planemesh.faces, process=False\n)\n\njoined_planes = coil_plus.union(coil_minus)\n\n# Create mesh class object\n\ncoil = Conductor(\n    verts=joined_planes.vertices,\n    tris=joined_planes.faces,\n    fix_normals=True,\n    N_sph=4,\n    basis_name=\"suh\",\n    N_suh=80,\n)\n\ntarget_alms = np.zeros((coil.opts[\"N_sph\"] * (coil.opts[\"N_sph\"] + 2),))\ntarget_blms = np.zeros((coil.opts[\"N_sph\"] * (coil.opts[\"N_sph\"] + 2),))\n\ntarget_blms[3] += 1\n\n\ncenter = np.array([0, 0, 0]) * scaling_factor\n\nsidelength = 2 * scaling_factor\nn = 8\nxx = np.linspace(-sidelength / 2, sidelength / 2, n)\nyy = np.linspace(-sidelength / 2, sidelength / 2, n)\nzz = np.linspace(-sidelength / 2, sidelength / 2, n)\nX, Y, Z = np.meshgrid(xx, yy, zz, indexing=\"ij\")\n\nx = X.ravel()\ny = Y.ravel()\nz = Z.ravel()\n\ntarget_points = np.array([x, y, z]).T\n\n# Turn cube into sphere by rejecting points \"in the corners\"\ntarget_points = (\n    target_points[np.linalg.norm(target_points, axis=1) < sidelength / 2] + center\n)\n\n\nsphfield = sphtools.field(target_points, target_alms, target_blms, coil.opts[\"N_sph\"])\n\n\ntarget_field = sphfield / np.max(np.abs(sphfield))\n\ncoil.plot_mesh()\nmlab.quiver3d(*target_points.T, *sphfield.T)"
      ]
    },
    {
      "cell_type": "markdown",
      "metadata": {},
      "source": [
        "Create bfield specifications used when optimizing the coil geometry\n\n"
      ]
    },
    {
      "cell_type": "code",
      "execution_count": null,
      "metadata": {
        "collapsed": false
      },
      "outputs": [],
      "source": [
        "target_spec = {\n    \"coupling\": coil.sph_couplings[1],\n    \"rel_error\": 0,\n    \"abs_error\": 0.01,\n    \"target\": target_blms,\n}"
      ]
    },
    {
      "cell_type": "markdown",
      "metadata": {},
      "source": [
        "Run QP solver\n\n"
      ]
    },
    {
      "cell_type": "code",
      "execution_count": null,
      "metadata": {
        "collapsed": false
      },
      "outputs": [],
      "source": [
        "import mosek\n\ncoil.s, prob = optimize_streamfunctions(\n    coil,\n    [target_spec],\n    objective=\"minimum_inductive_energy\",\n    solver=\"MOSEK\",\n    solver_opts={\"mosek_params\": {mosek.iparam.num_threads: 8}},\n)"
      ]
    },
    {
      "cell_type": "markdown",
      "metadata": {},
      "source": [
        "Plot coil windings and target points\n\n"
      ]
    },
    {
      "cell_type": "code",
      "execution_count": null,
      "metadata": {
        "collapsed": false
      },
      "outputs": [],
      "source": [
        "N_contours = 10\n\nloops = scalar_contour(coil.mesh, coil.s.vert, N_contours=N_contours)\n\nf = mlab.figure(None, bgcolor=(1, 1, 1), fgcolor=(0.5, 0.5, 0.5), size=(800, 800))\nmlab.clf()\n\nplot_3d_current_loops(loops, colors=\"auto\", figure=f)\n\nB_target = coil.B_coupling(target_points) @ coil.s\n\nmlab.quiver3d(*target_points.T, *B_target.T)"
      ]
    }
  ],
  "metadata": {
    "kernelspec": {
      "display_name": "Python 3",
      "language": "python",
      "name": "python3"
    },
    "language_info": {
      "codemirror_mode": {
        "name": "ipython",
        "version": 3
      },
      "file_extension": ".py",
      "mimetype": "text/x-python",
      "name": "python",
      "nbconvert_exporter": "python",
      "pygments_lexer": "ipython3",
      "version": "3.7.3"
    }
  },
  "nbformat": 4,
  "nbformat_minor": 0
}