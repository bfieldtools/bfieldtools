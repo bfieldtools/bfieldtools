{
  "cells": [
    {
      "cell_type": "code",
      "execution_count": null,
      "metadata": {
        "collapsed": false
      },
      "outputs": [],
      "source": [
        "%matplotlib inline"
      ]
    },
    {
      "cell_type": "markdown",
      "metadata": {},
      "source": [
        "\nSpherical harmonics-generating coil design\n==========================================\n\nExample showing a basic biplanar coil producing a field profile defined by\nspherical harmonics.\n\n\n"
      ]
    },
    {
      "cell_type": "code",
      "execution_count": null,
      "metadata": {
        "collapsed": false
      },
      "outputs": [],
      "source": [
        "#import sys\n#path = '/m/home/home8/80/makinea1/unix/pythonstuff/bfieldtools'\n#if path in sys.path:\n#    sys.path.insert(0, path)\n\n\nimport numpy as np\nfrom mayavi import mlab\nimport trimesh\n\nfrom bfieldtools.mesh_class import MeshWrapper\nfrom bfieldtools.coil_optimize import optimize_streamfunctions\nfrom bfieldtools.contour import scalar_contour\nfrom bfieldtools.viz import plot_3d_current_loops\n\n\nfrom bfieldtools.sphtools import compute_sphcoeffs_mesh, sphbasis, plotsph, sphfittools\n\n\nimport pkg_resources\n\n\n#Set unit, e.g. meter or millimeter.\n# This doesn't matter, the problem is scale-invariant\nscaling_factor = 1\n\n\n#Load simple plane mesh that is centered on the origin\nplanemesh = trimesh.load(file_obj=pkg_resources.resource_filename('bfieldtools', 'example_meshes/10x10_plane_hires.obj'), process=False)\n\nplanemesh.apply_scale(scaling_factor)\n\n#Specify coil plane geometry\ncenter_offset = np.array([0, 0, 0]) * scaling_factor\nstandoff = np.array([0, 4, 0]) * scaling_factor\n\n#Create coil plane pairs\ncoil_plus = trimesh.Trimesh(planemesh.vertices + center_offset + standoff,\n                         planemesh.faces, process=False)\n\ncoil_minus = trimesh.Trimesh(planemesh.vertices + center_offset - standoff,\n                     planemesh.faces, process=False)\n\njoined_planes = coil_plus.union(coil_minus)\n\n#Create mesh class object\ncoil = MeshWrapper(verts=joined_planes.vertices, tris=joined_planes.faces, fix_normals=True)\n\nlmax = 4\ncoil.C_alms, coil.C_blms = compute_sphcoeffs_mesh(coil.mesh, lmax=lmax)\n\n\n#Radius of sphere of interest\nRmax = 1.0\n\nlind = 0\ncoil.C_alms_norm = np.zeros_like(coil.C_alms)\nfor l in range(1,lmax+1):\n    for m in range(-1*l,l+1):\n        temp = (2*l**2 + l)*Rmax**(2*l-1)/(2*l-1)\n        #coeffs2[lind] = coeffs[lind]**2*temp\n        coil.C_alms_norm[lind] = coil.C_alms[lind]/temp**0.5\n        lind += 1\n\ntarget_alms = np.zeros((lmax * (lmax+2),))\ntarget_blms = np.zeros((lmax * (lmax+2),))\n\ntarget_blms[0] += 1\n\n\ncenter = np.array([0, 0, 0]) * scaling_factor\n\nsidelength = 2 * scaling_factor\nn = 8\nxx = np.linspace(-sidelength/2, sidelength/2, n)\nyy = np.linspace(-sidelength/2, sidelength/2, n)\nzz = np.linspace(-sidelength/2, sidelength/2, n)\nX, Y, Z = np.meshgrid(xx, yy, zz, indexing='ij')\n\nx = X.ravel()\ny = Y.ravel()\nz = Z.ravel()\n\ntarget_points = np.array([x, y, z]).T\n\n#Turn cube into sphere by rejecting points \"in the corners\"\ntarget_points = target_points[np.linalg.norm(target_points, axis=1) < sidelength/2]  + center\n\n\n\n\nsph = sphbasis(4)\nsphfield = sph.field(target_points, target_alms, target_blms, lmax)\n\ntarget_field = sphfield/np.max(sphfield[:, 0])\n\ntarget_field[:, 2] = 0\n\ncoil.plot_mesh()\nmlab.quiver3d(*target_points.T, *sphfield.T)"
      ]
    },
    {
      "cell_type": "markdown",
      "metadata": {},
      "source": [
        "Create bfield specifications used when optimizing the coil geometry\n\n"
      ]
    },
    {
      "cell_type": "code",
      "execution_count": null,
      "metadata": {
        "collapsed": false
      },
      "outputs": [],
      "source": [
        "#The absolute target field amplitude is not of importance,\n# and it is scaled to match the C matrix in the optimization function\n\ntarget_abs_error = np.zeros_like(target_blms)\ntarget_abs_error += 0.01\n\n#target_field = np.zeros_like(target_points)\n#target_field[:, 0] += 1\n\n#target_abs_error = np.zeros_like(target_points)\n#target_abs_error += 0.01\n\ntarget_spec = {'coupling':coil.C_blms, 'rel_error':None, 'abs_error':target_abs_error, 'target_field':target_blms}"
      ]
    },
    {
      "cell_type": "markdown",
      "metadata": {},
      "source": [
        "Run QP solver\n\n"
      ]
    },
    {
      "cell_type": "code",
      "execution_count": null,
      "metadata": {
        "collapsed": false
      },
      "outputs": [],
      "source": [
        "import mosek\n\nI, prob = optimize_streamfunctions(coil,\n                                   [target_spec],\n                                   objective='minimum_inductive_energy',\n                                   solver='MOSEK',\n                                   solver_opts={'mosek_params':{mosek.iparam.num_threads: 8}}\n                                   )\n\ncoil.j = np.zeros(coil.mesh.vertices.shape[0])\ncoil.j[coil.inner_verts] = I\n\nB_target = coil.B_coupling(target_points) @ coil.j\n\n\nlmax = 4\ncoil.C_alms, coil.C_blms = compute_sphcoeffs_mesh(coil.mesh, lmax=lmax)\n\nAlms, Blms = coil.C_alms @ coil.j, coil.C_blms @ coil.j\n\nAlms = np.zeros_like(Blms)\nsphfield_target = sph.field(target_points, Alms, Blms, lmax)\n\n\ncoeffs, coeffs2, nrmse = sphfittools.fitSpectra(sph, np.repeat(target_points[:, :, None], 3, -1), B_target, lmax)"
      ]
    },
    {
      "cell_type": "markdown",
      "metadata": {},
      "source": [
        "Plot coil windings and target points\n\n"
      ]
    },
    {
      "cell_type": "code",
      "execution_count": null,
      "metadata": {
        "collapsed": false
      },
      "outputs": [],
      "source": [
        "N_contours = 10\n\nloops, loop_values= scalar_contour(coil.mesh, coil.j, N_contours=N_contours)\n\nf = mlab.figure(None, bgcolor=(1, 1, 1), fgcolor=(0.5, 0.5, 0.5),\n           size=(800, 800))\nmlab.clf()\n\nplot_3d_current_loops(loops, colors='auto', figure=f)\n\nB_target = coil.B_coupling(target_points) @ coil.j\n\nmlab.quiver3d(*target_points.T, *B_target.T)"
      ]
    }
  ],
  "metadata": {
    "kernelspec": {
      "display_name": "Python 3",
      "language": "python",
      "name": "python3"
    },
    "language_info": {
      "codemirror_mode": {
        "name": "ipython",
        "version": 3
      },
      "file_extension": ".py",
      "mimetype": "text/x-python",
      "name": "python",
      "nbconvert_exporter": "python",
      "pygments_lexer": "ipython3",
      "version": "3.6.7"
    }
  },
  "nbformat": 4,
  "nbformat_minor": 0
}