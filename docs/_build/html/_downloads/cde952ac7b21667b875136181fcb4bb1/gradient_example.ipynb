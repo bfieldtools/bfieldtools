{
  "cells": [
    {
      "cell_type": "code",
      "execution_count": null,
      "metadata": {
        "collapsed": false
      },
      "outputs": [],
      "source": [
        "%matplotlib inline"
      ]
    },
    {
      "cell_type": "markdown",
      "metadata": {},
      "source": [
        "\nGradient computation example\n============================\n\nMinimal example visualizing the gradient of a scalar function on a mesh\n\n\n"
      ]
    },
    {
      "cell_type": "code",
      "execution_count": null,
      "metadata": {
        "collapsed": false
      },
      "outputs": [],
      "source": [
        "import numpy as np\nfrom mayavi import mlab\nimport trimesh\n\nfrom bfieldtools.laplacian_mesh import gradient\nimport pkg_resources\n\n#Load simple plane mesh that is centered on the origin\nfile_obj = file_obj=pkg_resources.resource_filename('bfieldtools',\n                    'example_meshes/10x10_plane_hires.obj')\nplanemesh = trimesh.load(file_obj, process=False)\n\n# Generate a simple scalar function\nr = np.linalg.norm(planemesh.vertices, axis=1)\nvals = np.exp(-0.5*(r/r.max()))\n\n# triangle centers for plotting\ntri_centers = planemesh.vertices[planemesh.faces].mean(axis=1).T"
      ]
    },
    {
      "cell_type": "markdown",
      "metadata": {},
      "source": [
        "Calculate the gradient (e.g., flow from potential)\n\n"
      ]
    },
    {
      "cell_type": "code",
      "execution_count": null,
      "metadata": {
        "collapsed": false
      },
      "outputs": [],
      "source": [
        "g = gradient(vals, planemesh, rotated=False)\n\n# Plot function and its gradient as arrows\n\nscene = mlab.figure(None, bgcolor=(1, 1, 1), fgcolor=(0.5, 0.5, 0.5),\n               size=(800, 800))\n\nmlab.triangular_mesh(*planemesh.vertices.T, planemesh.faces, scalars=vals)\nmlab.quiver3d(*tri_centers, *g, colormap='viridis')"
      ]
    },
    {
      "cell_type": "markdown",
      "metadata": {},
      "source": [
        "The same but rotated (e.g. current density from a stream function)\n\n"
      ]
    },
    {
      "cell_type": "code",
      "execution_count": null,
      "metadata": {
        "collapsed": false
      },
      "outputs": [],
      "source": [
        "g = gradient(vals, planemesh, rotated=True)\n\n# Plot function and its gradient as arrows\nscene = mlab.figure(None, bgcolor=(1, 1, 1), fgcolor=(0.5, 0.5, 0.5),\n               size=(800, 800))\n\nmlab.triangular_mesh(*planemesh.vertices.T, planemesh.faces, scalars=vals)\nmlab.quiver3d(*tri_centers, *g, colormap='viridis')"
      ]
    }
  ],
  "metadata": {
    "kernelspec": {
      "display_name": "Python 3",
      "language": "python",
      "name": "python3"
    },
    "language_info": {
      "codemirror_mode": {
        "name": "ipython",
        "version": 3
      },
      "file_extension": ".py",
      "mimetype": "text/x-python",
      "name": "python",
      "nbconvert_exporter": "python",
      "pygments_lexer": "ipython3",
      "version": "3.6.7"
    }
  },
  "nbformat": 4,
  "nbformat_minor": 0
}