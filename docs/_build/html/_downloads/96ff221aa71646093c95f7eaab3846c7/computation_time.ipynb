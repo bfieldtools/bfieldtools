{
  "cells": [
    {
      "cell_type": "code",
      "execution_count": null,
      "metadata": {
        "collapsed": false
      },
      "outputs": [],
      "source": [
        "%matplotlib inline"
      ]
    },
    {
      "cell_type": "markdown",
      "metadata": {},
      "source": [
        "\nInductance computation time and memory benchmark\n================================================\nBenchmark for inductance matrix computation, used\nto set auto-chunking.\n\n\n"
      ]
    },
    {
      "cell_type": "code",
      "execution_count": null,
      "metadata": {
        "collapsed": false
      },
      "outputs": [],
      "source": [
        "SAVE = False\n\n\nimport numpy as np\nimport matplotlib.pyplot as plt\nimport trimesh\n\nfrom memory_profiler import memory_usage\n\n\ndef MakeFacesVectorized1(Nr,Nc):\n\n    out = np.empty((Nr-1,Nc-1,2,3),dtype=int)\n\n    r = np.arange(Nr*Nc).reshape(Nr,Nc)\n\n    out[:,:, 0,0] = r[:-1,:-1]\n    out[:,:, 1,0] = r[:-1,1:]\n    out[:,:, 0,1] = r[:-1,1:]\n\n    out[:,:, 1,1] = r[1:,1:]\n    out[:,:, :,2] = r[1:,:-1,None]\n\n    out.shape =(-1,3)\n    return out\n\n\nNr = 50\nNc = 50\nd = 1\n\n\nfrom bfieldtools.mesh_properties import self_inductance_matrix\nimport time\n\nN_vertices = []\ncomp_time = []\nmem_use = []\n\n\n\n#NE = [20, 30, 40, 60]#, 80]\nNE = [20, 25, 30, 40]\nfor Ne in NE:\n    x0 = np.arange(Ne) * d\n    y0 = np.arange(Ne) * d\n    X, Y = np.meshgrid(x0, y0)\n    Z = np.zeros_like(X)\n\n    vertices = np.array([X.flatten(), Y.flatten(), Z.flatten()]).T\n    faces = MakeFacesVectorized1(Ne, Ne)\n\n    mesh = trimesh.Trimesh(vertices=vertices, faces=faces)\n\n    N_vertices.append(mesh.vertices.shape[0])\n    Nchunks=1\n\n#    if mesh.vertices.shape[0] > 3000:\n#        Nchunks=3\n#    if mesh.vertices.shape[0] > 6000:\n#        Nchunks=5\n    start_t = time.time()\n    mem_use.append(np.max(memory_usage((self_inductance_matrix, (mesh,), {'Nchunks':Nchunks, 'quad_degree':2}))))\n\n    comp_time.append(time.time()- start_t)\n\n\n\n\nfig, ax = plt.subplots(nrows=1, ncols=1, figsize=(5, 4))\nax.loglog(N_vertices, comp_time,'.k')\nax.set_xlabel('Number of mesh vertices')\n#plt.legend()\nax.set_ylabel('Computation time (s)')\n#\n#ax.spines['top'].set_visible(False)\n#ax.spines['right'].set_visible(False)\n\nax.grid(which='both', alpha=0.5)\n\nfig.tight_layout()\n\ncoefs = np.polyfit(np.log(N_vertices), np.log(comp_time), 1)\n\n\nN = np.linspace(100, 10000, 200)\nT = np.exp(coefs[1])*N**coefs[0]\n\nax.loglog(N, T, '-k', alpha=0.1)\nprint('Fit:')\nprint('t = %.6f n**%.2f'%(np.exp(coefs[1]), coefs[0]))\n\nif SAVE:\n    fig.savefig('inductance_computation_time.pdf')\n\n\nfig, ax = plt.subplots(nrows=1, ncols=1, figsize=(5, 4))\nax.loglog(N_vertices, mem_use,'.k')\nax.set_xlabel('Number of mesh vertices')\n#plt.legend()\nax.set_ylabel('Memory usage (MiB)')\n#\n#ax.spines['top'].set_visible(False)\n#ax.spines['right'].set_visible(False)\n\nax.grid(which='both', alpha=0.5)\n\nfig.tight_layout()\n\nmem_coefs = np.polyfit(np.log(N_vertices), np.log(mem_use), 1)\n\n\nMEM = np.exp(mem_coefs[1])*N**mem_coefs[0]\n\nax.loglog(N, MEM, '-k', alpha=0.1)\nprint('Fit:')\nprint('memory = %.6f n**%.2f'%(np.exp(mem_coefs[1]), mem_coefs[0]))\n\nif SAVE:\n    fig.savefig('inductance_memory_usage.pdf')"
      ]
    }
  ],
  "metadata": {
    "kernelspec": {
      "display_name": "Python 3",
      "language": "python",
      "name": "python3"
    },
    "language_info": {
      "codemirror_mode": {
        "name": "ipython",
        "version": 3
      },
      "file_extension": ".py",
      "mimetype": "text/x-python",
      "name": "python",
      "nbconvert_exporter": "python",
      "pygments_lexer": "ipython3",
      "version": "3.6.7"
    }
  },
  "nbformat": 4,
  "nbformat_minor": 0
}