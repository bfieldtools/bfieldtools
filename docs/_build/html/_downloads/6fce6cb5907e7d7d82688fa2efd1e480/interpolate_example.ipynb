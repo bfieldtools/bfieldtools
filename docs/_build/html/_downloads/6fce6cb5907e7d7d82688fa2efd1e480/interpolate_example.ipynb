{
  "cells": [
    {
      "cell_type": "code",
      "execution_count": null,
      "metadata": {
        "collapsed": false
      },
      "outputs": [],
      "source": [
        "%matplotlib inline"
      ]
    },
    {
      "cell_type": "markdown",
      "metadata": {},
      "source": [
        "\nInterpolate stream function\n===========================\n\nMinimal example showing how to subdivide a mesh and interpolate a scalar function\ndefined on that mesh to match.\n\n\n"
      ]
    },
    {
      "cell_type": "code",
      "execution_count": null,
      "metadata": {
        "collapsed": false
      },
      "outputs": [],
      "source": [
        "from tvtk.api import tvtk\nfrom mayavi import mlab\nimport trimesh\n\nimport numpy as np\nfrom scipy.linalg import eigh\n\nfrom bfieldtools.mesh_calculus import laplacian_matrix, mass_matrix\nfrom bfieldtools import utils\n\nimport pkg_resources"
      ]
    },
    {
      "cell_type": "markdown",
      "metadata": {},
      "source": [
        "Load a simple mesh and compute an example scalar function on it.\nIn this case, the scalar function is an eigenvector of a generalized eigenvalue decomposition\n\n"
      ]
    },
    {
      "cell_type": "code",
      "execution_count": null,
      "metadata": {
        "collapsed": false
      },
      "outputs": [],
      "source": [
        "mesh = trimesh.load(pkg_resources.resource_filename('bfieldtools', 'example_meshes/10x10_plane.obj'))\n\n\nboundary_verts, inner_verts, boundary_tris, inner_tris = utils.find_mesh_boundaries(mesh.vertices, mesh.faces, mesh.edges)\n\nL = laplacian_matrix(mesh)\nM = mass_matrix(mesh)\n\nu, v = eigh(-L.todense()[inner_verts][:,inner_verts], M.todense()[inner_verts][:,inner_verts])\n\nscalars = np.zeros(mesh.vertices.shape[0])\nscalars[inner_verts] = v[:,12]\n\n\n\n\noriginal_scalars = scalars.copy()\noriginal_mesh = mesh.copy()"
      ]
    },
    {
      "cell_type": "markdown",
      "metadata": {},
      "source": [
        "Plot original scalars and mesh\n\n"
      ]
    },
    {
      "cell_type": "code",
      "execution_count": null,
      "metadata": {
        "collapsed": false
      },
      "outputs": [],
      "source": [
        "scene = mlab.figure(None, bgcolor=(1, 1, 1), fgcolor=(0.5, 0.5, 0.5),\n               size=(800, 800))\n\nmlab.triangular_mesh(*original_mesh.vertices.T, original_mesh.faces, scalars=original_scalars,\n                     representation='wireframe')"
      ]
    },
    {
      "cell_type": "markdown",
      "metadata": {},
      "source": [
        "Now, interpolate scalars\n\n"
      ]
    },
    {
      "cell_type": "code",
      "execution_count": null,
      "metadata": {
        "collapsed": false
      },
      "outputs": [],
      "source": [
        "ug = tvtk.UnstructuredGrid(points= mesh.vertices)\n\nug.set_cells(tvtk.Triangle().cell_type, mesh.faces)\nug.point_data.scalars = scalars\nug.point_data.scalars.name = 'scalars'\n\n\nmesh = original_mesh.subdivide().subdivide()\nscalars = mlab.pipeline.probe_data(ug, *mesh.vertices.T)"
      ]
    },
    {
      "cell_type": "markdown",
      "metadata": {},
      "source": [
        "Plot subdivided mesh and interpolated scalars\n\n"
      ]
    },
    {
      "cell_type": "code",
      "execution_count": null,
      "metadata": {
        "collapsed": false
      },
      "outputs": [],
      "source": [
        "scene = mlab.figure(None, bgcolor=(1, 1, 1), fgcolor=(0.5, 0.5, 0.5),\n               size=(800, 800))\n\nmlab.triangular_mesh(*mesh.vertices.T, mesh.faces, scalars=scalars,\n                     representation='wireframe')"
      ]
    }
  ],
  "metadata": {
    "kernelspec": {
      "display_name": "Python 3",
      "language": "python",
      "name": "python3"
    },
    "language_info": {
      "codemirror_mode": {
        "name": "ipython",
        "version": 3
      },
      "file_extension": ".py",
      "mimetype": "text/x-python",
      "name": "python",
      "nbconvert_exporter": "python",
      "pygments_lexer": "ipython3",
      "version": "3.6.7"
    }
  },
  "nbformat": 4,
  "nbformat_minor": 0
}