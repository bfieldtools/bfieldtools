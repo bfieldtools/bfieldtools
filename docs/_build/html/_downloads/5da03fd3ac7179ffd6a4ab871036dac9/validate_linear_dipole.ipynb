{
  "cells": [
    {
      "cell_type": "code",
      "execution_count": null,
      "metadata": {
        "collapsed": false
      },
      "outputs": [],
      "source": [
        "%matplotlib inline"
      ]
    },
    {
      "cell_type": "markdown",
      "metadata": {},
      "source": [
        "\nTriangle potential validation\n=============================\n\n"
      ]
    },
    {
      "cell_type": "code",
      "execution_count": null,
      "metadata": {
        "collapsed": false
      },
      "outputs": [],
      "source": [
        "import numpy as np\nimport matplotlib.pyplot as plt\n#import sys\n#path = '/m/home/home8/80/makinea1/unix/pythonstuff/bfieldtools'\n#if path not in sys.path:\n#    sys.path.insert(0,path)\n\nfrom bfieldtools.integrals import triangle_potential_dipole_linear\nfrom bfieldtools.integrals import omega\nfrom bfieldtools.utils import tri_normals_and_areas"
      ]
    },
    {
      "cell_type": "markdown",
      "metadata": {},
      "source": [
        "%% Test potential shape slightly above the surface\n\n"
      ]
    },
    {
      "cell_type": "code",
      "execution_count": null,
      "metadata": {
        "collapsed": false
      },
      "outputs": [],
      "source": [
        "points = np.array([[0,0,0],\n                   [1,0,0],\n                   [0,1,0]])\n\ntris = np.array([[0,1,2]])\np_tris = points[tris]\n\n# Evaluation points\nNx = 100\nxx = np.linspace(-2, 2, Nx)\nX,Y = np.meshgrid(xx, xx, indexing='ij')\nZ = np.zeros_like(X) + 0.01\np_eval = np.array([X,Y,Z]).reshape(3,-1).T\n\n# Difference vectors\nRR = p_eval[:,None,None,:] - p_tris[None,:,:,:]\ntn, ta = tri_normals_and_areas(points, tris)\n\npot = triangle_potential_dipole_linear(RR, tn, ta, False)\n\n# Plot shapes\nf, ax = plt.subplots(1, 3)\nfor i in range(3):\n    plt.sca(ax[i])\n    plt.imshow(pot[:,0,i].reshape(Nx, Nx))"
      ]
    },
    {
      "cell_type": "markdown",
      "metadata": {},
      "source": [
        "%% Test summation formula\n\n"
      ]
    },
    {
      "cell_type": "code",
      "execution_count": null,
      "metadata": {
        "collapsed": false
      },
      "outputs": [],
      "source": [
        "pot_sum = triangle_potential_dipole_linear(RR, tn, ta, False).sum(axis=-1)\nsolid_angle = omega(RR)\n\n# Plot shapes\nf, ax = plt.subplots(1, 3)\nplt.sca(ax[0])\nplt.title('Sum of potentials')\nplt.imshow(pot_sum[:,0].reshape(Nx, Nx), vmin=0, vmax=pot_sum.max())\nplt.sca(ax[1])\nplt.title('Solid angle')\nplt.imshow(solid_angle[:,0].reshape(Nx, Nx), vmin=0, vmax=pot_sum.max())\nplt.sca(ax[2])\nplt.title('Difference')\nplt.imshow((solid_angle[:,0]-pot_sum[:,0]).reshape(Nx, Nx),\n           vmin=0, vmax=pot_sum.max())\nplt.axis('image')"
      ]
    },
    {
      "cell_type": "markdown",
      "metadata": {},
      "source": [
        "%% Test asymptotic behavour\n\n"
      ]
    },
    {
      "cell_type": "code",
      "execution_count": null,
      "metadata": {
        "collapsed": false
      },
      "outputs": [],
      "source": [
        "def dip_potential(Reval, Rdip, moment):\n    R  = Reval - Rdip\n    r = np.linalg.norm(R, axis=1)\n    return (moment*R).sum(axis=1)/r**3\n\n# Center of mass\nRdip = points.mean(axis=0)\n# Moment\nm = ta*tn\n# Eval points\nNeval = 100\np_eval2 = np.zeros((Neval, 3))\nz = np.linspace(0,100, Neval)\np_eval2[:,2] = np.linspace(0,100, Neval)\np_eval2 += Rdip\n\n\nplt.figure()\n\n# Plot dipole field approximating uniform dipolar density\nplt.plot(z, dip_potential(p_eval2, Rdip, m))\n# Plot sum of the linear dipoles\nRR = p_eval2[:,None,None,:] - p_tris[None,:,:,:]\npot = triangle_potential_dipole_linear(RR, tn, ta, False)\nplt.plot(z,  pot.sum(axis=-1)[:,0])"
      ]
    }
  ],
  "metadata": {
    "kernelspec": {
      "display_name": "Python 3",
      "language": "python",
      "name": "python3"
    },
    "language_info": {
      "codemirror_mode": {
        "name": "ipython",
        "version": 3
      },
      "file_extension": ".py",
      "mimetype": "text/x-python",
      "name": "python",
      "nbconvert_exporter": "python",
      "pygments_lexer": "ipython3",
      "version": "3.6.7"
    }
  },
  "nbformat": 4,
  "nbformat_minor": 0
}