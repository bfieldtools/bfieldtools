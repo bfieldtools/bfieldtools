{
  "cells": [
    {
      "cell_type": "code",
      "execution_count": null,
      "metadata": {
        "collapsed": false
      },
      "outputs": [],
      "source": [
        "%matplotlib inline"
      ]
    },
    {
      "cell_type": "markdown",
      "metadata": {},
      "source": [
        "\nAnalytical self-shielded biplanar coil design\n==============================================\n\nExample showing a basic biplanar coil producing homogeneous field in a target\nregion between the two coil planes. In addition, the coils have an outer surface\nfor which (in a linear fashion) a secondary current is created, which zeroes the\nnormal component of the field produced by the primary coil at the secondary coil\nsurface. The combination of the primary and secondary coil currents are specified to create\nthe target field, and their combined inductive energy is minimized.\n\nNB. The secondary coil current is entirely a function of the primary coil current\nand the geometry.\n\n"
      ]
    },
    {
      "cell_type": "code",
      "execution_count": null,
      "metadata": {
        "collapsed": false
      },
      "outputs": [],
      "source": [
        "import numpy as np\nimport matplotlib.pyplot as plt\nfrom mayavi import mlab\nimport trimesh\n\nfrom bfieldtools.mesh_class import MeshWrapper\nfrom bfieldtools.mesh_magnetics import magnetic_field_coupling_analytic, scalar_potential_coupling\nfrom bfieldtools.mesh_inductance import mutual_inductance_matrix_from_A\nfrom bfieldtools.coil_optimize import optimize_streamfunctions\nfrom bfieldtools.contour import scalar_contour\nfrom bfieldtools.viz import plot_3d_current_loops, plot_data_on_vertices\n\nimport pkg_resources\n\n\n#Set unit, e.g. meter or millimeter.\n# This doesn't matter, the problem is scale-invariant\nscaling_factor = 1\n\n\n#Load simple plane mesh that is centered on the origin\nplanemesh = trimesh.load(file_obj=pkg_resources.resource_filename('bfieldtools', 'example_meshes/10x10_plane.obj'), process=False)\n\nplanemesh.apply_scale(scaling_factor*1.6)\n\n#Specify coil plane geometry\ncenter_offset = np.array([0, 0, 0]) * scaling_factor\nstandoff = np.array([0, 5, 0]) * scaling_factor\n\n#Create coil plane pairs\ncoil_plus = trimesh.Trimesh(planemesh.vertices + center_offset + standoff,\n                         planemesh.faces, process=False)\n\ncoil_minus = trimesh.Trimesh(planemesh.vertices + center_offset - standoff,\n                     planemesh.faces, process=False)\n\njoined_planes = coil_plus.union(coil_minus)\n\n#Create mesh class object\ncoil = MeshWrapper(verts=joined_planes.vertices, tris=joined_planes.faces, fix_normals=True)\n\nshieldmesh = joined_planes.copy()\nshieldmesh.vertices *= np.array([1.5, 1.5, 1.5])\n\nshieldcoil = MeshWrapper(verts=shieldmesh.vertices, tris=shieldmesh.faces, fix_normals=True)"
      ]
    },
    {
      "cell_type": "markdown",
      "metadata": {},
      "source": [
        "Compute inductances and coupling\n\n"
      ]
    },
    {
      "cell_type": "code",
      "execution_count": null,
      "metadata": {
        "collapsed": false
      },
      "outputs": [],
      "source": [
        "M11 = coil.inductance\nM22 = shieldcoil.inductance\n# Constrain boundary to zero and consider only inneverts\nM11 = M11#[coil.inner_verts][:, coil.inner_verts]\nM22 = M22[shieldcoil.inner_verts][:, shieldcoil.inner_verts]\n# Add rank-one matrix, so that M22 can be inverted (for zero mean functions)\n#M22 += np.ones_like(M22)/M22.shape[0]\n#M11 += np.ones_like(M11)/M11.shape[0]\n\n\n\nM21 = mutual_inductance_matrix_from_A(shieldcoil.mesh, coil.mesh)\nM21 = M21[shieldcoil.inner_verts]\n\n# Mapping from I1 to I2, constraining flux through shieldcoil to zero\nP = -np.linalg.solve(M22, M21)"
      ]
    },
    {
      "cell_type": "markdown",
      "metadata": {},
      "source": [
        "Set up target and stray field points\n\n"
      ]
    },
    {
      "cell_type": "code",
      "execution_count": null,
      "metadata": {
        "collapsed": false
      },
      "outputs": [],
      "source": [
        "#Here, the target points are on a volumetric grid within a sphere\n\ncenter = np.array([0, 0, 0]) * scaling_factor\n\nsidelength = 2 * scaling_factor\nn = 8\nxx = np.linspace(-sidelength/2, sidelength/2, n)\nyy = np.linspace(-sidelength/2, sidelength/2, n)\nzz = np.linspace(-sidelength/2, sidelength/2, n)\nX, Y, Z = np.meshgrid(xx, yy, zz, indexing='ij')\n\nx = X.ravel()\ny = Y.ravel()\nz = Z.ravel()\n\ntarget_points = np.array([x, y, z]).T\n\n#Turn cube into sphere by rejecting points \"in the corners\"\ntarget_points = target_points[np.linalg.norm(target_points, axis=1) < sidelength/2]  + center"
      ]
    },
    {
      "cell_type": "markdown",
      "metadata": {},
      "source": [
        "Create bfield specifications used when optimizing the coil geometry\n\n"
      ]
    },
    {
      "cell_type": "code",
      "execution_count": null,
      "metadata": {
        "collapsed": false
      },
      "outputs": [],
      "source": [
        "#The absolute target field amplitude is not of importance,\n# and it is scaled to match the C matrix in the optimization function\n\ntarget_field = np.zeros(target_points.shape)\ntarget_field[:, 1] = target_field[:, 1] + 1\n\ntarget_rel_error = np.zeros_like(target_field)\ntarget_rel_error[:, 0] += 0.01\n\ntarget_abs_error = np.zeros_like(target_field)\ntarget_abs_error[:, 0] += 0.001\ntarget_abs_error[:, 1:3] += 0.005\n\ntarget_spec = {'coupling':coil.B_coupling(target_points) + shieldcoil.B_coupling(target_points)[:, :, shieldcoil.inner_verts]@P, 'rel_error':target_rel_error, 'abs_error':target_abs_error, 'target':target_field}\n#[:, :, coil.inner_verts]\n\nobjective_matrix = M11 - M21.T @ np.linalg.pinv(M22) @ M21"
      ]
    },
    {
      "cell_type": "markdown",
      "metadata": {},
      "source": [
        "Run QP solver\n\n"
      ]
    },
    {
      "cell_type": "code",
      "execution_count": null,
      "metadata": {
        "collapsed": false
      },
      "outputs": [],
      "source": [
        "import mosek\n\ncoil.j, prob = optimize_streamfunctions(coil,\n                                   [target_spec],\n                                   objective=objective_matrix,\n                                   solver='MOSEK',\n                                   solver_opts={'mosek_params':{mosek.iparam.num_threads: 8}},\n                                   boundary_constraints='all_zero'\n                                   )\n\nshieldcoil.j = np.zeros((len(shieldcoil.mesh.vertices, )))\n\nshieldcoil.j[shieldcoil.inner_verts] = P @ coil.j\n\n\n\nf = mlab.figure(None, bgcolor=(1, 1, 1), fgcolor=(0.5, 0.5, 0.5),\n           size=(800, 800))\n\nplot_data_on_vertices(coil.mesh, coil.j, figure=f)\nplot_data_on_vertices(shieldcoil.mesh, shieldcoil.j, figure=f)"
      ]
    },
    {
      "cell_type": "markdown",
      "metadata": {},
      "source": [
        "Plot coil windings and target points\n\n"
      ]
    },
    {
      "cell_type": "code",
      "execution_count": null,
      "metadata": {
        "collapsed": false
      },
      "outputs": [],
      "source": [
        "N_contours = 10\n\nloops, loop_values= scalar_contour(coil.mesh, coil.j, N_contours=N_contours)\nsloops, sloop_values= scalar_contour(shieldcoil.mesh, shieldcoil.j, N_contours=N_contours)\n\nf = mlab.figure(None, bgcolor=(1, 1, 1), fgcolor=(0.5, 0.5, 0.5),\n           size=(800, 800))\nmlab.clf()\n\nplot_3d_current_loops(loops, colors='auto', figure=f)\nplot_3d_current_loops(sloops, colors='auto', figure=f)\n\nB_target = coil.B_coupling(target_points) @ coil.j + shieldcoil.B_coupling(target_points) @ shieldcoil.j\n\nmlab.quiver3d(*target_points.T, *B_target.T)\n\n\n\n\nextent = 30"
      ]
    },
    {
      "cell_type": "markdown",
      "metadata": {},
      "source": [
        "Compute field along major axes\n\n"
      ]
    },
    {
      "cell_type": "code",
      "execution_count": null,
      "metadata": {
        "collapsed": false
      },
      "outputs": [],
      "source": [
        "x1 = np.linspace(-extent, extent, 101) * scaling_factor\n\ny1 = z1 = np.zeros_like(x1)\n\nline1_points = np.vstack((x1, y1, z1)).T\n\nB_line1 = coil.B_coupling(line1_points) @ coil.j + shieldcoil.B_coupling(line1_points) @ shieldcoil.j\n\n\ny2 = np.linspace(-extent, extent, 101) * scaling_factor\n\nz2 = x2 = np.zeros_like(y2)\n\nline2_points = np.vstack((x2, y2, z2)).T\n\nB_line2 = coil.B_coupling(line2_points) @ coil.j + shieldcoil.B_coupling(line2_points) @ shieldcoil.j\n\n\n\nz3 = np.linspace(-extent, extent, 101) * scaling_factor\n\nx3 = y3 = np.zeros_like(z1)\n\nline3_points = np.vstack((x3, y3, z3)).T\n\n\nB_line3 = coil.B_coupling(line3_points) @ coil.j + shieldcoil.B_coupling(line3_points) @ shieldcoil.j\n\nfig, axes = plt.subplots(1, 1)\n\nfor ax_idx, ax in enumerate([axes]):\n    ax.semilogy(x1 / scaling_factor, np.linalg.norm(B_line1, axis=-1), label='X')\n    ax.semilogy(y2 / scaling_factor, np.linalg.norm(B_line2, axis=-1), label='Y')\n    ax.semilogy(z3 / scaling_factor, np.linalg.norm(B_line3, axis=-1), label='Z')\n    ax.set_title('Field component %d'% ax_idx)\n\nplt.ylabel('Field amplitude (target field units)')\nplt.xlabel('Distance from origin')\nplt.grid(True, which='minor', axis='y')\nplt.grid(True, which='major', axis='y', color='k')\nplt.grid(True, which='major', axis='x')\n\nplt.legend()\n\n\nplt.show()"
      ]
    },
    {
      "cell_type": "markdown",
      "metadata": {},
      "source": [
        "Compute the field and scalar potential on a larger plane\n\n"
      ]
    },
    {
      "cell_type": "code",
      "execution_count": null,
      "metadata": {
        "collapsed": false
      },
      "outputs": [],
      "source": [
        "x = y = np.linspace(-20, 20, 50)\nX,Y = np.meshgrid(x, y, indexing='ij')\npoints = np.zeros((X.flatten().shape[0], 3))\npoints[:, 0] = X.flatten()\npoints[:, 1] = Y.flatten()\n\nCB1 = magnetic_field_coupling_analytic(coil.mesh, points)\nCB2 = magnetic_field_coupling_analytic(shieldcoil.mesh, points)\n\nCU1 = scalar_potential_coupling(coil.mesh, points)\nCU2 = scalar_potential_coupling(shieldcoil.mesh, points)\n\nB1 = CB1 @ coil.j\nB2 = CB2 @ shieldcoil.j\n\nU1 = CU1 @ coil.j\nU2 = CU2 @ shieldcoil.j"
      ]
    },
    {
      "cell_type": "markdown",
      "metadata": {},
      "source": [
        "Plot field and potential planar cross-section\n\n"
      ]
    },
    {
      "cell_type": "code",
      "execution_count": null,
      "metadata": {
        "collapsed": false
      },
      "outputs": [],
      "source": [
        "B = (B1.T + B2.T)[:2].reshape(2, x.shape[0], y.shape[0])\nlw = np.sqrt(B[0]**2 + B[1]**2)\nlw = 2*lw/np.max(lw)\nxx = np.linspace(-1,1, 16)\n#seed_points = 0.51*np.array([xx, -np.sqrt(1-xx**2)])\n#seed_points = np.hstack([seed_points, (0.51*np.array([xx, np.sqrt(1-xx**2)]))])\n#plt.streamplot(x,y, B[1], B[0], density=2, linewidth=lw, color='k',\n#               start_points=seed_points.T, integration_direction='both')\nU = (U1 + U2).reshape(x.shape[0], y.shape[0])\nU /= np.max(U)\nplt.figure()\nplt.imshow(U, vmin=-1.0, vmax=1.0, cmap='seismic', interpolation='bicubic',\n           extent=(x.min(), x.max(), y.min(), y.max()))\nplt.streamplot(x,y, B[1], B[0], density=2, linewidth=lw, color='k',\n               #start_points=seed_points.T,\n               integration_direction='both')\n\ncc1 = scalar_contour(coil.mesh, coil.mesh.vertices[:,2], contours= [-0.001])[0][0]\ncc2 = scalar_contour(shieldcoil.mesh, shieldcoil.mesh.vertices[:,2], contours= [-0.001])[0][0]\n\nplt.plot(cc1[:,1], cc1[:,0], linewidth=3.0)\nplt.plot(cc2[:,1], cc2[:,0], linewidth=3.0)\n\nplt.xticks([])\nplt.yticks([])"
      ]
    }
  ],
  "metadata": {
    "kernelspec": {
      "display_name": "Python 3",
      "language": "python",
      "name": "python3"
    },
    "language_info": {
      "codemirror_mode": {
        "name": "ipython",
        "version": 3
      },
      "file_extension": ".py",
      "mimetype": "text/x-python",
      "name": "python",
      "nbconvert_exporter": "python",
      "pygments_lexer": "ipython3",
      "version": "3.6.7"
    }
  },
  "nbformat": 4,
  "nbformat_minor": 0
}