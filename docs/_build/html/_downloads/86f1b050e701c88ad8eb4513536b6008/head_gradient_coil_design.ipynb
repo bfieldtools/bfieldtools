{
  "cells": [
    {
      "cell_type": "code",
      "execution_count": null,
      "metadata": {
        "collapsed": false
      },
      "outputs": [],
      "source": [
        "%matplotlib inline"
      ]
    },
    {
      "cell_type": "markdown",
      "metadata": {},
      "source": [
        "\nHead gradient coil\n==================\n\nExample showing a gradient coil designed on the surface of a MEG system helmet\n\n"
      ]
    },
    {
      "cell_type": "code",
      "execution_count": null,
      "metadata": {
        "collapsed": false
      },
      "outputs": [],
      "source": [
        "import numpy as np\nfrom mayavi import mlab\nimport trimesh\n\n\nfrom bfieldtools.mesh_class import MeshWrapper\nfrom bfieldtools.magnetic_field_mesh import compute_C\nfrom bfieldtools.coil_optimize import optimize_streamfunctions\nfrom bfieldtools.contour import scalar_contour\nfrom bfieldtools.viz import plot_3d_current_loops\n\nimport pkg_resources\n\n\n#Set unit, e.g. meter or millimeter.\n# This doesn't matter, the problem is scale-invariant\nscaling_factor = 1\n\n\n#Load simple plane mesh that is centered on the origin\nhelmetmesh = trimesh.load(file_obj=pkg_resources.resource_filename('bfieldtools',\n                                                                   'example_meshes/meg_helmet.obj'),\n                          process=False)\n\n#planemesh.apply_scale(scaling_factor)\n#\n##Specify coil plane geometry\n#center_offset = np.array([0, 0, 0]) * scaling_factor\n#standoff = np.array([0, 4, 0]) * scaling_factor\n#\n##Create coil plane pairs\n#coil_plus = trimesh.Trimesh(planemesh.vertices + center_offset + standoff,\n#                         planemesh.faces, process=False)\n##\n#coil_minus = trimesh.Trimesh(planemesh.vertices + center_offset - standoff,\n#                     planemesh.faces, process=False)\n\n#joined_planes = coil_plus.union(coil_minus)\n\n#Create mesh class object\ncoil = MeshWrapper(verts=helmetmesh.vertices, tris=helmetmesh.faces, fix_normals=True)"
      ]
    },
    {
      "cell_type": "markdown",
      "metadata": {},
      "source": [
        "Set up target and stray field points.\nHere, the target points are on a volumetric grid within a sphere\n\n"
      ]
    },
    {
      "cell_type": "code",
      "execution_count": null,
      "metadata": {
        "collapsed": false
      },
      "outputs": [],
      "source": [
        "offset = np.array([0, 0, 0.04])\ncenter = offset * scaling_factor\n\nsidelength = 0.05 * scaling_factor\nn = 12\nxx = np.linspace(-sidelength/2, sidelength/2, n)\nyy = np.linspace(-sidelength/2, sidelength/2, n)\nzz = np.linspace(-sidelength/2, sidelength/2, n)\nX, Y, Z = np.meshgrid(xx, yy, zz, indexing='ij')\n\nx = X.ravel()\ny = Y.ravel()\nz = Z.ravel()\n\ntarget_points = np.array([x, y, z]).T\n\n#Turn cube into sphere by rejecting points \"in the corners\"\ntarget_points = target_points[np.linalg.norm(target_points, axis=1) < sidelength/2]  + center"
      ]
    },
    {
      "cell_type": "markdown",
      "metadata": {},
      "source": [
        "Compute C matrices that are used to compute the generated magnetic field\n\n"
      ]
    },
    {
      "cell_type": "code",
      "execution_count": null,
      "metadata": {
        "collapsed": false
      },
      "outputs": [],
      "source": [
        "coil.C = compute_C(coil.mesh, target_points)"
      ]
    },
    {
      "cell_type": "markdown",
      "metadata": {},
      "source": [
        "Specify target field and run solver\n\n"
      ]
    },
    {
      "cell_type": "code",
      "execution_count": null,
      "metadata": {
        "collapsed": false
      },
      "outputs": [],
      "source": [
        "#The absolute target field amplitude is not of importance,\n# and it is scaled to match the C matrix in the optimization function\n\n\n#Let's generate the target field through the use of spherical harmonics.\n# Thus we avoid issues with having to manually specify the concomitant gradients\n\n\nfrom bfieldtools.sphtools import sphbasis, plotsph, sphfittools\n\n\nsph = sphbasis(50)\n\n#plotsph.plotYlms(sph, 3)\n\nlmax = 3\nalm = np.zeros((lmax*(lmax+2),))\nblm = np.zeros((lmax*(lmax+2),))\n\n#\nalm[3]+=1\n#blm[0]+=1\n\nsphfield = sph.field(target_points - offset,alm, blm, lmax)\n\ntarget_field = sphfield/np.max(sphfield[:, 0])\n\ntarget_field[:, 2] = 0\n\ncoil.plot_mesh()\nmlab.quiver3d(*target_points.T, *sphfield.T)\n\n\n\nrel_error = np.zeros_like(target_field)\n#rel_error[:, 0] += 0.1\n\nabs_error = np.zeros_like(target_field)\nabs_error[:, 0] += 0.1\nabs_error[:, 1:3] += 0.1\n\n\ntarget_spec = {'C':coil.C, 'rel_error':rel_error, 'abs_error':abs_error, 'target_field':target_field}\n\nimport mosek\n\ncoil.I, prob = optimize_streamfunctions(coil,\n                                   [target_spec],\n                                   objective='minimum_inductive_energy',\n                                   solver='MOSEK',\n                                   solver_opts={'mosek_params':{mosek.iparam.num_threads: 8}}\n                                   )"
      ]
    },
    {
      "cell_type": "markdown",
      "metadata": {},
      "source": [
        "Plot coil windings and magnetic field in target points\n\n"
      ]
    },
    {
      "cell_type": "code",
      "execution_count": null,
      "metadata": {
        "collapsed": false
      },
      "outputs": [],
      "source": [
        "loops, loop_values= scalar_contour(coil.mesh, coil.I, N_contours=20)\n\nf = mlab.figure(None, bgcolor=(1, 1, 1), fgcolor=(0.5, 0.5, 0.5),\n           size=(800, 800))\nmlab.clf()\n\nplot_3d_current_loops(loops, colors='auto', figure=f, tube_radius=0.05/50)\n\nB_target = coil.C.transpose([0, 2, 1]) @ coil.I\n\nmlab.quiver3d(*target_points.T, *B_target.T)\n\nf.scene.isometric_view()"
      ]
    }
  ],
  "metadata": {
    "kernelspec": {
      "display_name": "Python 3",
      "language": "python",
      "name": "python3"
    },
    "language_info": {
      "codemirror_mode": {
        "name": "ipython",
        "version": 3
      },
      "file_extension": ".py",
      "mimetype": "text/x-python",
      "name": "python",
      "nbconvert_exporter": "python",
      "pygments_lexer": "ipython3",
      "version": "3.6.7"
    }
  },
  "nbformat": 4,
  "nbformat_minor": 0
}