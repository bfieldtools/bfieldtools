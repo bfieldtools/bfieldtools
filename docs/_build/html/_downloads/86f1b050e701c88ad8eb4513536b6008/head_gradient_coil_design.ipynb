{
  "cells": [
    {
      "cell_type": "code",
      "execution_count": null,
      "metadata": {
        "collapsed": false
      },
      "outputs": [],
      "source": [
        "%matplotlib inline"
      ]
    },
    {
      "cell_type": "markdown",
      "metadata": {},
      "source": [
        "\nHead gradient coil\n==================\n\nExample showing a gradient coil designed on the surface of a MEG system helmet\n\n"
      ]
    },
    {
      "cell_type": "code",
      "execution_count": null,
      "metadata": {
        "collapsed": false
      },
      "outputs": [],
      "source": [
        "import numpy as np\nimport matplotlib.pyplot as plt\nfrom mayavi import mlab\nimport trimesh\n\n\nfrom bfieldtools.mesh_class import MeshWrapper\nfrom bfieldtools.magnetic_field_mesh import compute_C\nfrom bfieldtools.coil_optimize import optimize_streamfunctions\n\nimport pkg_resources\n\n\n#Set unit, e.g. meter or millimeter.\n# This doesn't matter, the problem is scale-invariant\nscaling_factor = 1\n\n\n#Load simple plane mesh that is centered on the origin\nhelmetmesh = trimesh.load(file_obj=pkg_resources.resource_filename('bfieldtools',\n                                                                   'example_meshes/meg_helmet.obj'),\n                          process=False)\n\n#planemesh.apply_scale(scaling_factor)\n#\n##Specify coil plane geometry\n#center_offset = np.array([0, 0, 0]) * scaling_factor\n#standoff = np.array([0, 4, 0]) * scaling_factor\n#\n##Create coil plane pairs\n#coil_plus = trimesh.Trimesh(planemesh.vertices + center_offset + standoff,\n#                         planemesh.faces, process=False)\n##\n#coil_minus = trimesh.Trimesh(planemesh.vertices + center_offset - standoff,\n#                     planemesh.faces, process=False)\n\n#joined_planes = coil_plus.union(coil_minus)\n\n#Create mesh class object\ncoil = MeshWrapper(verts=helmetmesh.vertices, tris=helmetmesh.faces, fix_normals=True)"
      ]
    },
    {
      "cell_type": "markdown",
      "metadata": {},
      "source": [
        "Set up target and stray field points.\nHere, the target points are on a volumetric grid within a sphere\n\n"
      ]
    },
    {
      "cell_type": "code",
      "execution_count": null,
      "metadata": {
        "collapsed": false
      },
      "outputs": [],
      "source": [
        "center = np.array([0, 0, 0.04]) * scaling_factor\n\nsidelength = 0.1 * scaling_factor\nn = 12\nxx = np.linspace(-sidelength/2, sidelength/2, n)\nyy = np.linspace(-sidelength/2, sidelength/2, n)\nzz = np.linspace(-sidelength/2, sidelength/2, n)\nX, Y, Z = np.meshgrid(xx, yy, zz, indexing='ij')\n\nx = X.ravel()\ny = Y.ravel()\nz = Z.ravel()\n\ntarget_points = np.array([x, y, z]).T\n\n#Turn cube into sphere by rejecting points \"in the corners\"\ntarget_points = target_points[np.linalg.norm(target_points, axis=1) < sidelength/2]  + center"
      ]
    },
    {
      "cell_type": "markdown",
      "metadata": {},
      "source": [
        "Compute C matrices that are used to compute the generated magnetic field\n\n"
      ]
    },
    {
      "cell_type": "code",
      "execution_count": null,
      "metadata": {
        "collapsed": false
      },
      "outputs": [],
      "source": [
        "coil.C = compute_C(coil.mesh, target_points)"
      ]
    },
    {
      "cell_type": "markdown",
      "metadata": {},
      "source": [
        "Specify target field and run solver\n\n"
      ]
    },
    {
      "cell_type": "code",
      "execution_count": null,
      "metadata": {
        "collapsed": false
      },
      "outputs": [],
      "source": [
        "#The absolute target field amplitude is not of importance,\n# and it is scaled to match the C matrix in the optimization function\ntarget_field = np.ones(target_points.shape[0], ) * target_points[:,0]\n\n\n\ntarget_field = np.zeros(target_points.shape)\ntarget_field[:, 0] = target_field[:, 0] + 1 * target_points[:,0]/np.max(target_points[:,0])\n\ntarget_spec = {'C':coil.C, 'rel_error':0.1, 'abs_error':0, 'target_field':target_field}\n\n# The tolerance parameter will determine the spatial detail of the coil.\n# Smaller tolerance means better but more intricate patterns. Too small values\n# will not be solveable.\ntolerance = 5\n\ncoil.I, coil.sol = optimize_streamfunctions(coil,\n                                            [target_spec],\n                                            laplacian_smooth=0,\n                                            tolerance=tolerance)"
      ]
    },
    {
      "cell_type": "markdown",
      "metadata": {},
      "source": [
        "Plot coil windings and magnetic field in target points\n\n"
      ]
    },
    {
      "cell_type": "code",
      "execution_count": null,
      "metadata": {
        "collapsed": false
      },
      "outputs": [],
      "source": [
        "f = mlab.figure(None, bgcolor=(1, 1, 1), fgcolor=(0.5, 0.5, 0.5),\n           size=(800, 800))\nmlab.clf()\n\nsurface = mlab.pipeline.triangular_mesh_source(*coil.mesh.vertices.T, coil.mesh.faces,scalars=coil.I)\n\nwindings = mlab.pipeline.contour_surface(surface, contours=10)\n\n\nB_target = np.vstack((coil.C[:, :, 0].dot(coil.I),\n                  coil.C[:, :, 1].dot(coil.I),\n                  coil.C[:, :, 2].dot(coil.I))).T\n\n\nmlab.quiver3d(*target_points.T, *B_target.T)\nf.scene.isometric_view()"
      ]
    }
  ],
  "metadata": {
    "kernelspec": {
      "display_name": "Python 3",
      "language": "python",
      "name": "python3"
    },
    "language_info": {
      "codemirror_mode": {
        "name": "ipython",
        "version": 3
      },
      "file_extension": ".py",
      "mimetype": "text/x-python",
      "name": "python",
      "nbconvert_exporter": "python",
      "pygments_lexer": "ipython3",
      "version": "3.6.7"
    }
  },
  "nbformat": 4,
  "nbformat_minor": 0
}