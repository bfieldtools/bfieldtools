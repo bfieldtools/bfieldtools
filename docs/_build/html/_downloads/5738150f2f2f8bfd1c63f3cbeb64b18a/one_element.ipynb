{
  "cells": [
    {
      "cell_type": "code",
      "execution_count": null,
      "metadata": {
        "collapsed": false
      },
      "outputs": [],
      "source": [
        "%matplotlib inline"
      ]
    },
    {
      "cell_type": "markdown",
      "metadata": {},
      "source": [
        "\nCreated on Tue Sep  3 15:46:47 2019\n\n@author: makinea1\n\n"
      ]
    },
    {
      "cell_type": "code",
      "execution_count": null,
      "metadata": {
        "collapsed": false
      },
      "outputs": [],
      "source": [
        "import numpy as np\nimport matplotlib.pyplot as plt\nimport sys\npath = '/m/home/home8/80/makinea1/unix/pythonstuff/bfieldtools'\nif path not in sys.path:\n    sys.path.insert(0,path)\n\nfrom bfieldtools.integrals import triangle_potential_dipole_linear\nfrom bfieldtools.integrals import omega\nfrom bfieldtools.utils import tri_normals_and_areas\nfrom bfieldtools.laplacian_mesh import gradient\nfrom bfieldtools.magnetic_field_mesh import compute_U, compute_A\nfrom bfieldtools.magnetic_field_mesh import compute_C, compute_C_analytic\n\nimport trimesh\nfrom mayavi import mlab"
      ]
    },
    {
      "cell_type": "markdown",
      "metadata": {},
      "source": [
        "%% Test potential shape slightly above the surface\n\n"
      ]
    },
    {
      "cell_type": "code",
      "execution_count": null,
      "metadata": {
        "collapsed": false
      },
      "outputs": [],
      "source": [
        "x = np.sin(np.pi/6)\ny = np.cos(np.pi/6)\npoints = np.array([[0, 0, 0],\n                   [1, 0, 0],\n                   [x, y, 0],\n                   [-x, y, 0],\n                   [-1, 0, 0],\n                   [-x, -y, 0],\n                   [x, -y, 0]])\n\ntris = np.array([[0,1,2],[0,2,3],[0,3,4],[0,4,5],[0,5,6],[0,6,1]])\nmesh = trimesh.Trimesh(points, tris)\nscalars = np.zeros(7)\nscalars[0] = 1\n# Stream function\ns1 = mlab.triangular_mesh(*points.T, tris, scalars=scalars, colormap='viridis')\n# Stream lines\ns2 = mlab.triangular_mesh(*points.T, tris, scalars=scalars, colormap='viridis')\ns2.enable_contours = True\ns2.actor.mapper.scalar_range = np.array([0., 1.])\ns2.actor.mapper.scalar_visibility = False\ns2.actor.property.render_lines_as_tubes = True\ns2.actor.property.line_width = 3.0\n\n#%%\npoints = np.array([[0.01, 1, 1],\n                   [0.01, 1, -1],\n                   [0.01, -1, -1],\n                   [0.01, -1, 1]])*2\ntris=np.array([[0,1,2], [2,3,0]])\nmesh2 = trimesh.Trimesh(points, tris)\nfor ii in range(7):\n    mesh2 =mesh2.subdivide()\n\nU = compute_U(mesh, mesh2.vertices) @ scalars\n\ns3= mlab.triangular_mesh(*mesh2.vertices.T, mesh2.faces, scalars=U, colormap='bwr')\ns3.enable_contours = True\ns3.contour.minimum_contour = -5.2e-07\ns3.contour.maximum_contour = 5.2e-07\ns3.actor.property.render_lines_as_tubes = True\ns3.actor.property.line_width = 3.0\n\n#%%\nif False:\n    points = np.array([[1, 1, -0.01],\n                       [1, -1, -0.01],\n                       [-1, -1, -0.01],\n                       [-1, 1, -0.01]])*2\n    tris=np.array([[0,1,2], [2,3,0]])\n    mesh3 = trimesh.Trimesh(points, tris)\n    for ii in range(5):\n        mesh3 =mesh3.subdivide()\n    A = compute_A(mesh, mesh3.vertices) @ scalars\n    vectors = mlab.quiver3d(*mesh3.vertices.T, *A, mode='2ddash', color=(0,0,1))\n    vectors.glyph.glyph_source.glyph_position = 'center'\n    vectors.actor.property.render_lines_as_tubes = True\n    vectors.actor.property.line_width = 3.0\n#%%\npoints = np.array([[0.001, 1, 1],\n                   [0.001, 1, -1],\n                   [0.001, -1, -1],\n                   [0.001, -1, 1]])*2 + 0.001\ntris=np.array([[0,1,2], [2,3,0]])\nmesh2 = trimesh.Trimesh(points, tris)\nfor ii in range(6):\n    mesh2 =mesh2.subdivide()\n\nB0 = np.moveaxis(compute_C(mesh, mesh2.vertices), 2, 0) @ scalars\nB1 = compute_C_analytic(mesh, mesh2.vertices) @ scalars\nB1[0] = 0\nvectors = mlab.quiver3d(*mesh2.vertices.T, *B1, mode='arrow', color=(1,0,1))\nvectors.glyph.glyph_source.glyph_position = 'center'\n#vectors.actor.property.render_lines_as_tubes = True\n#vectors.actor.property.line_width = 3.0"
      ]
    }
  ],
  "metadata": {
    "kernelspec": {
      "display_name": "Python 3",
      "language": "python",
      "name": "python3"
    },
    "language_info": {
      "codemirror_mode": {
        "name": "ipython",
        "version": 3
      },
      "file_extension": ".py",
      "mimetype": "text/x-python",
      "name": "python",
      "nbconvert_exporter": "python",
      "pygments_lexer": "ipython3",
      "version": "3.6.7"
    }
  },
  "nbformat": 4,
  "nbformat_minor": 0
}